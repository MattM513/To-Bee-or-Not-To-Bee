{
 "cells": [
  {
   "cell_type": "code",
   "execution_count": 1,
   "id": "90f7b7c4",
   "metadata": {},
   "outputs": [],
   "source": [
    "# Data Visualization for \"To bee or not to bee\"\n",
    "# IG.2412 & IG.2411\n",
    "\n",
    "import os\n",
    "import numpy as np\n",
    "import pandas as pd\n",
    "import matplotlib.pyplot as plt\n",
    "import seaborn as sns\n",
    "import joblib\n",
    "import warnings\n",
    "warnings.filterwarnings('ignore')\n",
    "\n",
    "from PIL import Image\n",
    "import cv2\n",
    "from tqdm import tqdm\n",
    "from skimage import measure, feature, color, morphology\n",
    "\n",
    "from sklearn.preprocessing import StandardScaler, LabelEncoder\n",
    "from sklearn.model_selection import train_test_split, GridSearchCV\n",
    "from sklearn.metrics import (\n",
    "    classification_report, confusion_matrix, accuracy_score, silhouette_score\n",
    ")\n",
    "from sklearn.decomposition import PCA\n",
    "from sklearn.manifold import TSNE, Isomap\n",
    "from sklearn.cluster import KMeans, DBSCAN\n",
    "from sklearn.neighbors import KNeighborsClassifier\n",
    "from sklearn.linear_model import LogisticRegression\n",
    "from sklearn.ensemble import RandomForestClassifier\n",
    "from sklearn.svm import SVC\n",
    "\n",
    "from scipy.optimize import minimize\n",
    "from skimage.transform import rotate\n",
    "\n",
    "# Configuration des chemins\n",
    "DATA_DIR = \"../../train\" \n",
    "IMAGES_DIR = os.path.join(DATA_DIR, \"images\")\n",
    "MASKS_DIR = os.path.join(DATA_DIR, \"masks\")\n",
    "EXCEL_FILE = os.path.join(DATA_DIR, \"classif.xlsx\")"
   ]
  },
  {
   "cell_type": "code",
   "execution_count": 2,
   "id": "cf21930d",
   "metadata": {},
   "outputs": [],
   "source": [
    "# Add these missing functions to your feature extraction code\n",
    "\n",
    "# ==================== MISSING FUNCTION 1: compute_best_inscribed_circle ====================\n",
    "\n",
    "def compute_best_inscribed_circle(mask):\n",
    "    \"\"\"\n",
    "    II. Computation of the best inscribed circle:\n",
    "    - Choosing a proper initialization relying on the centroid of the mask\n",
    "    - Defining a loss function to minimize\n",
    "    - Minimizing the defined loss using the minimize function of Scipy\n",
    "    \"\"\"\n",
    "    from scipy.ndimage import distance_transform_edt\n",
    "    \n",
    "    mask_binary = (mask > 0).astype(int)\n",
    "    if not np.any(mask_binary):\n",
    "        return 0.0, (0.0, 0.0)\n",
    "    \n",
    "    # Distance transform to find distance to nearest edge\n",
    "    distance_map = distance_transform_edt(mask_binary)\n",
    "    \n",
    "    # Initialize with centroid\n",
    "    props = measure.regionprops(mask_binary)\n",
    "    if not props:\n",
    "        return 0.0, (0.0, 0.0)\n",
    "    \n",
    "    centroid = props[0].centroid  # (y, x)\n",
    "    \n",
    "    # Loss function: negative radius (to maximize radius)\n",
    "    def loss_function(coords):\n",
    "        y, x = coords\n",
    "        if not (0 <= y < distance_map.shape[0] and 0 <= x < distance_map.shape[1]):\n",
    "            return 1000  # Penalty for out of bounds\n",
    "        \n",
    "        radius = distance_map[int(y), int(x)]\n",
    "        return -radius  # Negative because we want to maximize\n",
    "    \n",
    "    # Minimize using scipy\n",
    "    result = minimize(\n",
    "        loss_function,\n",
    "        x0=[centroid[0], centroid[1]],\n",
    "        bounds=[(0, mask_binary.shape[0]-1), (0, mask_binary.shape[1]-1)],\n",
    "        method='L-BFGS-B'\n",
    "    )\n",
    "    \n",
    "    y_opt, x_opt = result.x[0], result.x[1]\n",
    "    max_radius = -result.fun\n",
    "    best_center = (x_opt, y_opt)  # Return as (x, y)\n",
    "    \n",
    "    return float(max_radius), best_center\n",
    "\n",
    "# ==================== MISSING FUNCTION 2: rotate_image_filled ====================\n",
    "\n",
    "def rotate_image_filled(image, angle, center):\n",
    "    \"\"\"Rotate image around center with filled background\"\"\"\n",
    "    try:\n",
    "        # Convert center to skimage format (y, x)\n",
    "        center_skimage = (center[1], center[0])\n",
    "        rotated = rotate(image, angle, center=center_skimage, preserve_range=True, cval=0)\n",
    "        return rotated.astype(image.dtype)\n",
    "    except Exception as e:\n",
    "        print(f\"Rotation error: {e}\")\n",
    "        return image\n",
    "\n",
    "# ==================== MISSING FUNCTION 3: compute_best_symmetry_plane ====================\n",
    "\n",
    "def create_symmetric_image(image, center_x):\n",
    "    \"\"\"Create symmetric image around vertical line at center_x\"\"\"\n",
    "    symmetric_image = np.fliplr(image)\n",
    "    return symmetric_image\n",
    "\n",
    "def compute_best_symmetry_plane(image, mask, circle_center, circle_radius):\n",
    "    \"\"\"\n",
    "    III. Computation of the best symmetry plane:\n",
    "    - Choosing a proper initialization among rotations\n",
    "    - Using the filled and proper rotation function\n",
    "    - Using function to create symmetric around vertical line\n",
    "    - Defining a loss function to minimize\n",
    "    - Minimizing using scipy.minimize\n",
    "    \"\"\"\n",
    "    \n",
    "    # Create circular mask for region of interest\n",
    "    Y, X = np.ogrid[:mask.shape[0], :mask.shape[1]]\n",
    "    cx, cy = circle_center\n",
    "    circle_mask = (X - cx)**2 + (Y - cy)**2 <= circle_radius**2\n",
    "    \n",
    "    # Loss function based on difference between image and its symmetric\n",
    "    def symmetry_loss_function(angle):\n",
    "        try:\n",
    "            # Rotate image\n",
    "            rotated_image = rotate_image_filled(image, angle[0], circle_center)\n",
    "            # Create symmetric image\n",
    "            symmetric_image = create_symmetric_image(rotated_image, cx)\n",
    "            \n",
    "            # Calculate difference in circular region\n",
    "            if np.any(circle_mask):\n",
    "                diff = np.sum((rotated_image[circle_mask].astype(float) - \n",
    "                              symmetric_image[circle_mask].astype(float))**2)\n",
    "                return diff / np.sum(circle_mask)\n",
    "            else:\n",
    "                return 1000\n",
    "        except Exception as e:\n",
    "            return 1000\n",
    "    \n",
    "    # Try multiple initial angles\n",
    "    initial_angles = [-30, -15, 0, 15, 30]\n",
    "    best_result = None\n",
    "    best_loss = float('inf')\n",
    "    \n",
    "    for init_angle in initial_angles:\n",
    "        try:\n",
    "            result = minimize(\n",
    "                symmetry_loss_function,\n",
    "                x0=[init_angle],\n",
    "                bounds=[(-45, 45)],\n",
    "                method='L-BFGS-B'\n",
    "            )\n",
    "            \n",
    "            if result.fun < best_loss:\n",
    "                best_loss = result.fun\n",
    "                best_result = result\n",
    "        except:\n",
    "            continue\n",
    "    \n",
    "    if best_result is not None:\n",
    "        best_angle = best_result.x[0]\n",
    "        min_loss = best_result.fun\n",
    "    else:\n",
    "        best_angle = 0.0\n",
    "        min_loss = 1000.0\n",
    "    \n",
    "    return float(min_loss), float(best_angle)\n",
    "\n",
    "# ==================== MISSING FUNCTION 4: extract_shape_features ====================\n",
    "\n",
    "def extract_shape_features(mask):\n",
    "    \"\"\"Extract shape features from mask\"\"\"\n",
    "    mask_binary = (mask > 0).astype(int)\n",
    "    \n",
    "    props = measure.regionprops(mask_binary)\n",
    "    if not props:\n",
    "        return {\n",
    "            'area': 0, 'perimeter': 0, 'eccentricity': 0, 'solidity': 0, \n",
    "            'extent': 0, 'aspect_ratio': 0, 'horizontal_symmetry': 0\n",
    "        }\n",
    "    \n",
    "    prop = props[0]\n",
    "    \n",
    "    # Basic shape features\n",
    "    area = prop.area\n",
    "    perimeter = prop.perimeter\n",
    "    eccentricity = prop.eccentricity\n",
    "    solidity = prop.solidity\n",
    "    extent = prop.extent\n",
    "    \n",
    "    # Aspect ratio\n",
    "    major_axis_length = prop.major_axis_length\n",
    "    minor_axis_length = prop.minor_axis_length\n",
    "    aspect_ratio = major_axis_length / minor_axis_length if minor_axis_length > 0 else 0\n",
    "    \n",
    "    # Horizontal symmetry measure\n",
    "    height, width = mask_binary.shape\n",
    "    if width >= 2:\n",
    "        mid = width // 2\n",
    "        left_half = mask_binary[:, :mid]\n",
    "        right_half = mask_binary[:, width-mid:]\n",
    "        right_half_flipped = np.fliplr(right_half)\n",
    "        \n",
    "        min_width = min(left_half.shape[1], right_half_flipped.shape[1])\n",
    "        if min_width > 0:\n",
    "            intersection = np.sum(left_half[:, :min_width] & right_half_flipped[:, :min_width])\n",
    "            union = np.sum(left_half[:, :min_width] | right_half_flipped[:, :min_width])\n",
    "            horizontal_symmetry = intersection / union if union > 0 else 0\n",
    "        else:\n",
    "            horizontal_symmetry = 0\n",
    "    else:\n",
    "        horizontal_symmetry = 0\n",
    "    \n",
    "    return {\n",
    "        'area': float(area),\n",
    "        'perimeter': float(perimeter),\n",
    "        'eccentricity': float(eccentricity),\n",
    "        'solidity': float(solidity),\n",
    "        'extent': float(extent),\n",
    "        'aspect_ratio': float(aspect_ratio),\n",
    "        'horizontal_symmetry': float(horizontal_symmetry)\n",
    "    }\n",
    "\n",
    "# ==================== MISSING FUNCTION 5: calculate_bug_ratio ====================\n",
    "\n",
    "def calculate_bug_ratio(mask):\n",
    "    \"\"\"Calculate ratio of bug pixels to total pixels\"\"\"\n",
    "    bug_pixels = np.sum(mask > 0)\n",
    "    total_pixels = mask.size\n",
    "    ratio = bug_pixels / total_pixels if total_pixels > 0 else 0\n",
    "    return float(ratio)\n",
    "\n",
    "# ==================== MISSING FUNCTION 6: extract_color_features ====================\n",
    "\n",
    "def extract_color_features(image, mask):\n",
    "    \"\"\"Extract color features (RGB) from image within mask\"\"\"\n",
    "    mask_bool = mask > 0\n",
    "    \n",
    "    if not np.any(mask_bool):\n",
    "        return {f'{color}_{stat}': 0.0 for color in ['r', 'g', 'b'] \n",
    "                for stat in ['min', 'max', 'mean', 'median', 'std']}\n",
    "    \n",
    "    # Extract pixels within mask for each channel\n",
    "    r_channel = image[:, :, 0][mask_bool]\n",
    "    g_channel = image[:, :, 1][mask_bool]\n",
    "    b_channel = image[:, :, 2][mask_bool]\n",
    "    \n",
    "    def get_channel_stats(channel):\n",
    "        if len(channel) == 0:\n",
    "            return {'min': 0, 'max': 0, 'mean': 0, 'median': 0, 'std': 0}\n",
    "        return {\n",
    "            'min': float(np.min(channel)),\n",
    "            'max': float(np.max(channel)),\n",
    "            'mean': float(np.mean(channel)),\n",
    "            'median': float(np.median(channel)),\n",
    "            'std': float(np.std(channel))\n",
    "        }\n",
    "    \n",
    "    # Get stats for each channel\n",
    "    r_stats = get_channel_stats(r_channel)\n",
    "    g_stats = get_channel_stats(g_channel)\n",
    "    b_stats = get_channel_stats(b_channel)\n",
    "    \n",
    "    color_features = {}\n",
    "    for stat in ['min', 'max', 'mean', 'median', 'std']:\n",
    "        color_features[f'r_{stat}'] = r_stats[stat]\n",
    "        color_features[f'g_{stat}'] = g_stats[stat]\n",
    "        color_features[f'b_{stat}'] = b_stats[stat]\n",
    "    \n",
    "    return color_features\n",
    "\n",
    "# ==================== MISSING FUNCTION 7: extract_additional_features ====================\n",
    "\n",
    "def extract_additional_features(image, mask):\n",
    "    \"\"\"Extract additional features (texture and Hu moments)\"\"\"\n",
    "    mask_bool = mask > 0\n",
    "    \n",
    "    if not np.any(mask_bool):\n",
    "        return {\n",
    "            'texture_entropy': 0.0, 'texture_energy': 0.0,\n",
    "            'hu_moment1': 0.0, 'hu_moment2': 0.0, 'hu_moment3': 0.0, 'hu_moment4': 0.0\n",
    "        }\n",
    "    \n",
    "    # Texture features using Local Binary Pattern\n",
    "    try:\n",
    "        gray = cv2.cvtColor(image, cv2.COLOR_RGB2GRAY)\n",
    "        radius = min(3, min(image.shape[:2]) // 4)\n",
    "        n_points = 8 * radius\n",
    "        \n",
    "        if radius > 0:\n",
    "            lbp = feature.local_binary_pattern(gray, n_points, radius, method='uniform')\n",
    "            lbp_bug = lbp[mask_bool]\n",
    "            \n",
    "            if len(lbp_bug) > 0:\n",
    "                n_bins = int(n_points + 2)\n",
    "                hist, _ = np.histogram(lbp_bug, bins=n_bins, range=(0, n_bins), density=True)\n",
    "                hist = hist + 1e-10\n",
    "                texture_entropy = -np.sum(hist * np.log2(hist))\n",
    "                texture_energy = np.sum(hist ** 2)\n",
    "            else:\n",
    "                texture_entropy = 0.0\n",
    "                texture_energy = 0.0\n",
    "        else:\n",
    "            texture_entropy = 0.0\n",
    "            texture_energy = 0.0\n",
    "    except:\n",
    "        texture_entropy = 0.0\n",
    "        texture_energy = 0.0\n",
    "    \n",
    "    # Hu moments\n",
    "    try:\n",
    "        moments = cv2.moments(mask.astype(np.uint8))\n",
    "        hu_moments = cv2.HuMoments(moments).flatten()\n",
    "        \n",
    "        hu_moments_safe = []\n",
    "        for moment in hu_moments[:4]:\n",
    "            if abs(moment) < 1e-10:\n",
    "                hu_moments_safe.append(0.0)\n",
    "            else:\n",
    "                hu_moments_safe.append(-np.sign(moment) * np.log10(abs(moment)))\n",
    "        \n",
    "        while len(hu_moments_safe) < 4:\n",
    "            hu_moments_safe.append(0.0)\n",
    "    except:\n",
    "        hu_moments_safe = [0.0, 0.0, 0.0, 0.0]\n",
    "    \n",
    "    return {\n",
    "        'texture_entropy': float(texture_entropy),\n",
    "        'texture_energy': float(texture_energy),\n",
    "        'hu_moment1': float(hu_moments_safe[0]),\n",
    "        'hu_moment2': float(hu_moments_safe[1]),\n",
    "        'hu_moment3': float(hu_moments_safe[2]),\n",
    "        'hu_moment4': float(hu_moments_safe[3])\n",
    "    }\n",
    "\n",
    "# ==================== MISSING FUNCTION 8: extract_all_features ====================\n",
    "\n",
    "def extract_all_features(image_id):\n",
    "    \"\"\"Extract all features for a given image\"\"\"\n",
    "    try:\n",
    "        # Load and clean image/mask\n",
    "        image, mask = load_image_and_mask(image_id, visualize=True)\n",
    "        \n",
    "        if image is None or mask is None or image.size == 0 or mask.size == 0:\n",
    "            raise ValueError(f\"Problem with image or mask for {image_id}\")\n",
    "        \n",
    "        # Extract basic features\n",
    "        shape_features = extract_shape_features(mask)\n",
    "        bug_ratio = calculate_bug_ratio(mask)\n",
    "        color_features = extract_color_features(image, mask)\n",
    "        additional_features = extract_additional_features(image, mask)\n",
    "        \n",
    "        # Compute inscribed circle\n",
    "        max_radius, circle_center = compute_best_inscribed_circle(mask)\n",
    "        \n",
    "        # Visualize if valid\n",
    "        if max_radius > 1:\n",
    "            visualize_inscribed_circle(image, mask, circle_center, max_radius, image_id)\n",
    "        \n",
    "        # Compute symmetry plane\n",
    "        if max_radius > 5:\n",
    "            symmetry_score, symmetry_angle = compute_best_symmetry_plane(image, mask, circle_center, max_radius)\n",
    "            visualize_symmetry_plane(image, mask, circle_center, symmetry_angle, image_id)\n",
    "        else:\n",
    "            symmetry_score = 0.0\n",
    "            symmetry_angle = 0.0\n",
    "        \n",
    "        # Combine all features\n",
    "        features = {\n",
    "            'image_id': int(image_id),\n",
    "            'bug_ratio': bug_ratio,\n",
    "            'max_inscribed_radius': max_radius,\n",
    "            'symmetry_score': symmetry_score,\n",
    "            'symmetry_angle': symmetry_angle,\n",
    "            **shape_features,\n",
    "            **color_features,\n",
    "            **additional_features\n",
    "        }\n",
    "        \n",
    "        return features\n",
    "        \n",
    "    except Exception as e:\n",
    "        print(f\"Error processing image {image_id}: {e}\")\n",
    "        return create_default_features(image_id)\n",
    "\n",
    "# ==================== MISSING FUNCTION 9: create_default_features ====================\n",
    "\n",
    "def create_default_features(image_id):\n",
    "    \"\"\"Create default features when extraction fails\"\"\"\n",
    "    return {\n",
    "        'image_id': int(image_id),\n",
    "        'bug_ratio': 0.0,\n",
    "        'max_inscribed_radius': 0.0,\n",
    "        'symmetry_score': 0.0,\n",
    "        'symmetry_angle': 0.0,\n",
    "        'area': 0.0, 'perimeter': 0.0, 'eccentricity': 0.0, 'solidity': 0.0,\n",
    "        'extent': 0.0, 'aspect_ratio': 0.0, 'horizontal_symmetry': 0.0,\n",
    "        **{f'{color}_{stat}': 0.0 for color in ['r', 'g', 'b'] \n",
    "           for stat in ['min', 'max', 'mean', 'median', 'std']},\n",
    "        'texture_entropy': 0.0, 'texture_energy': 0.0,\n",
    "        'hu_moment1': 0.0, 'hu_moment2': 0.0, 'hu_moment3': 0.0, 'hu_moment4': 0.0\n",
    "    }\n",
    "\n",
    "# ==================== MISSING FUNCTION 10: normalize_features ====================\n",
    "\n",
    "def normalize_features(features_df):\n",
    "    \"\"\"Normalize features using StandardScaler\"\"\"\n",
    "    from sklearn.preprocessing import StandardScaler\n",
    "    \n",
    "    non_numeric_cols = ['image_id', 'bug_type', 'species']\n",
    "    existing_non_numeric = [col for col in non_numeric_cols if col in features_df.columns]\n",
    "    numeric_cols = [col for col in features_df.columns if col not in existing_non_numeric]\n",
    "    \n",
    "    print(f\"Numeric columns detected: {len(numeric_cols)}\")\n",
    "    \n",
    "    if not numeric_cols:\n",
    "        raise ValueError(\"No numeric columns found for normalization.\")\n",
    "    \n",
    "    numeric_data = features_df[numeric_cols]\n",
    "    numeric_data = numeric_data.replace([np.inf, -np.inf], np.nan).fillna(0)\n",
    "    \n",
    "    scaler = StandardScaler()\n",
    "    features_df_normalized = features_df.copy()\n",
    "    features_df_normalized[numeric_cols] = scaler.fit_transform(numeric_data)\n",
    "    \n",
    "    return features_df_normalized, scaler"
   ]
  },
  {
   "cell_type": "code",
   "execution_count": null,
   "id": "d728b39e",
   "metadata": {},
   "outputs": [
    {
     "name": "stdout",
     "output_type": "stream",
     "text": [
      "=== Starting feature extraction ===\n",
      "Data loaded: 250 insects\n",
      "   ID bug type         species\n",
      "0   1      Bee  Apis mellifera\n",
      "1   2      Bee  Apis mellifera\n",
      "2   3      Bee  Apis mellifera\n",
      "3   4      Bee  Apis mellifera\n",
      "4   5      Bee  Apis mellifera\n",
      "Extracting features...\n"
     ]
    },
    {
     "name": "stderr",
     "output_type": "stream",
     "text": [
      "Extracting features:  28%|██▊       | 69/250 [14:03<30:12, 10.01s/it]"
     ]
    },
    {
     "name": "stdout",
     "output_type": "stream",
     "text": [
      "Error processing image 69: Unable to allocate 732. MiB for an array with shape (4000, 6000, 4) and data type float64\n"
     ]
    },
    {
     "name": "stderr",
     "output_type": "stream",
     "text": [
      "Extracting features:  28%|██▊       | 70/250 [14:05<23:03,  7.69s/it]"
     ]
    },
    {
     "name": "stdout",
     "output_type": "stream",
     "text": [
      "Error processing image 70: Unable to allocate 732. MiB for an array with shape (4000, 6000, 4) and data type float64\n"
     ]
    },
    {
     "name": "stderr",
     "output_type": "stream",
     "text": [
      "Extracting features:  28%|██▊       | 71/250 [14:08<18:29,  6.20s/it]"
     ]
    },
    {
     "name": "stdout",
     "output_type": "stream",
     "text": [
      "Error processing image 71: Unable to allocate 732. MiB for an array with shape (4000, 6000, 4) and data type float64\n"
     ]
    },
    {
     "name": "stderr",
     "output_type": "stream",
     "text": [
      "Extracting features:  29%|██▉       | 72/250 [14:11<15:36,  5.26s/it]"
     ]
    },
    {
     "name": "stdout",
     "output_type": "stream",
     "text": [
      "Error processing image 72: Unable to allocate 732. MiB for an array with shape (4000, 6000, 4) and data type float64\n"
     ]
    },
    {
     "name": "stderr",
     "output_type": "stream",
     "text": [
      "Extracting features:  29%|██▉       | 73/250 [14:13<12:36,  4.27s/it]"
     ]
    },
    {
     "name": "stdout",
     "output_type": "stream",
     "text": [
      "Error processing image 73: Unable to allocate 732. MiB for an array with shape (4000, 6000, 4) and data type float64\n"
     ]
    },
    {
     "name": "stderr",
     "output_type": "stream",
     "text": [
      "Extracting features:  30%|██▉       | 74/250 [14:15<10:20,  3.53s/it]"
     ]
    },
    {
     "name": "stdout",
     "output_type": "stream",
     "text": [
      "Error processing image 74: Unable to allocate 732. MiB for an array with shape (4000, 6000, 4) and data type float64\n"
     ]
    },
    {
     "name": "stderr",
     "output_type": "stream",
     "text": [
      "Extracting features:  30%|███       | 75/250 [14:17<08:45,  3.00s/it]"
     ]
    },
    {
     "name": "stdout",
     "output_type": "stream",
     "text": [
      "Error processing image 75: Unable to allocate 732. MiB for an array with shape (4000, 6000, 4) and data type float64\n"
     ]
    },
    {
     "name": "stderr",
     "output_type": "stream",
     "text": [
      "Extracting features:  30%|███       | 76/250 [14:18<07:34,  2.61s/it]"
     ]
    },
    {
     "name": "stdout",
     "output_type": "stream",
     "text": [
      "Error processing image 76: Unable to allocate 732. MiB for an array with shape (4000, 6000, 4) and data type float64\n"
     ]
    },
    {
     "name": "stderr",
     "output_type": "stream",
     "text": [
      "Extracting features:  31%|███       | 77/250 [14:20<06:54,  2.40s/it]"
     ]
    },
    {
     "name": "stdout",
     "output_type": "stream",
     "text": [
      "Error processing image 77: Unable to allocate 732. MiB for an array with shape (4000, 6000, 4) and data type float64\n"
     ]
    },
    {
     "name": "stderr",
     "output_type": "stream",
     "text": [
      "Extracting features:  31%|███       | 78/250 [14:22<06:11,  2.16s/it]"
     ]
    },
    {
     "name": "stdout",
     "output_type": "stream",
     "text": [
      "Error processing image 78: Unable to allocate 183. MiB for an array with shape (4000, 6000) and data type int64\n"
     ]
    },
    {
     "name": "stderr",
     "output_type": "stream",
     "text": [
      "Extracting features:  32%|███▏      | 79/250 [14:24<05:44,  2.02s/it]"
     ]
    },
    {
     "name": "stdout",
     "output_type": "stream",
     "text": [
      "Error processing image 79: Unable to allocate 183. MiB for an array with shape (4000, 6000) and data type int64\n"
     ]
    },
    {
     "name": "stderr",
     "output_type": "stream",
     "text": [
      "Extracting features:  32%|███▏      | 80/250 [14:25<05:22,  1.90s/it]"
     ]
    },
    {
     "name": "stdout",
     "output_type": "stream",
     "text": [
      "Error processing image 80: Unable to allocate 183. MiB for an array with shape (4000, 6000) and data type int64\n"
     ]
    },
    {
     "name": "stderr",
     "output_type": "stream",
     "text": [
      "Extracting features:  32%|███▏      | 81/250 [14:27<05:10,  1.84s/it]"
     ]
    },
    {
     "name": "stdout",
     "output_type": "stream",
     "text": [
      "Error processing image 81: Unable to allocate 22.9 MiB for an array with shape (4000, 6000) and data type bool\n"
     ]
    },
    {
     "name": "stderr",
     "output_type": "stream",
     "text": [
      "Extracting features:  33%|███▎      | 82/250 [14:28<04:27,  1.60s/it]"
     ]
    },
    {
     "name": "stdout",
     "output_type": "stream",
     "text": [
      "Error processing image 82: Unable to allocate 91.6 MiB for an array with shape (4000, 6000, 4) and data type uint8\n"
     ]
    },
    {
     "name": "stderr",
     "output_type": "stream",
     "text": [
      "Extracting features:  33%|███▎      | 83/250 [14:28<03:30,  1.26s/it]"
     ]
    },
    {
     "name": "stdout",
     "output_type": "stream",
     "text": [
      "Error processing image 83: Unable to allocate 183. MiB for an array with shape (24000000,) and data type int64\n"
     ]
    },
    {
     "name": "stderr",
     "output_type": "stream",
     "text": [
      "Extracting features:  34%|███▎      | 84/250 [14:30<03:42,  1.34s/it]"
     ]
    },
    {
     "name": "stdout",
     "output_type": "stream",
     "text": [
      "Error processing image 84: Unable to allocate 14.5 MiB for an array with shape (3081, 4944) and data type bool\n"
     ]
    },
    {
     "name": "stderr",
     "output_type": "stream",
     "text": [
      "Extracting features:  34%|███▍      | 85/250 [14:30<02:59,  1.09s/it]"
     ]
    },
    {
     "name": "stdout",
     "output_type": "stream",
     "text": [
      "Error processing image 85: Unable to allocate 183. MiB for an array with shape (24000000,) and data type int64\n"
     ]
    },
    {
     "name": "stderr",
     "output_type": "stream",
     "text": [
      "Extracting features:  34%|███▍      | 86/250 [14:31<02:31,  1.08it/s]"
     ]
    },
    {
     "name": "stdout",
     "output_type": "stream",
     "text": [
      "Error processing image 86: Unable to allocate 183. MiB for an array with shape (24000000,) and data type int64\n"
     ]
    },
    {
     "name": "stderr",
     "output_type": "stream",
     "text": [
      "Extracting features:  35%|███▍      | 87/250 [14:32<02:21,  1.15it/s]"
     ]
    },
    {
     "name": "stdout",
     "output_type": "stream",
     "text": [
      "Error processing image 87: Unable to allocate 183. MiB for an array with shape (24000000,) and data type int64\n"
     ]
    },
    {
     "name": "stderr",
     "output_type": "stream",
     "text": [
      "Extracting features:  35%|███▌      | 88/250 [14:32<02:10,  1.24it/s]"
     ]
    },
    {
     "name": "stdout",
     "output_type": "stream",
     "text": [
      "Error processing image 88: Unable to allocate 183. MiB for an array with shape (4000, 6000) and data type int64\n"
     ]
    },
    {
     "name": "stderr",
     "output_type": "stream",
     "text": [
      "Extracting features:  36%|███▌      | 89/250 [14:33<01:55,  1.40it/s]"
     ]
    },
    {
     "name": "stdout",
     "output_type": "stream",
     "text": [
      "Error processing image 89: Unable to allocate 183. MiB for an array with shape (4000, 6000) and data type int64\n"
     ]
    },
    {
     "name": "stderr",
     "output_type": "stream",
     "text": [
      "Extracting features:  36%|███▌      | 90/250 [14:34<01:52,  1.42it/s]"
     ]
    },
    {
     "name": "stdout",
     "output_type": "stream",
     "text": [
      "Error processing image 90: Unable to allocate 183. MiB for an array with shape (4000, 6000) and data type int64\n"
     ]
    },
    {
     "name": "stderr",
     "output_type": "stream",
     "text": [
      "Extracting features:  36%|███▋      | 91/250 [14:34<01:45,  1.51it/s]"
     ]
    },
    {
     "name": "stdout",
     "output_type": "stream",
     "text": [
      "Error processing image 91: Unable to allocate 183. MiB for an array with shape (4000, 6000) and data type int64\n"
     ]
    },
    {
     "name": "stderr",
     "output_type": "stream",
     "text": [
      "Extracting features:  37%|███▋      | 92/250 [14:35<02:12,  1.19it/s]"
     ]
    },
    {
     "name": "stdout",
     "output_type": "stream",
     "text": [
      "Error processing image 92: \n"
     ]
    },
    {
     "name": "stderr",
     "output_type": "stream",
     "text": [
      "Extracting features:  37%|███▋      | 93/250 [14:37<02:32,  1.03it/s]"
     ]
    },
    {
     "name": "stdout",
     "output_type": "stream",
     "text": [
      "Error processing image 93: \n"
     ]
    },
    {
     "name": "stderr",
     "output_type": "stream",
     "text": [
      "Extracting features:  38%|███▊      | 94/250 [14:38<02:45,  1.06s/it]"
     ]
    },
    {
     "name": "stdout",
     "output_type": "stream",
     "text": [
      "Error processing image 94: \n"
     ]
    },
    {
     "name": "stderr",
     "output_type": "stream",
     "text": [
      "Extracting features:  38%|███▊      | 95/250 [14:41<04:30,  1.75s/it]"
     ]
    },
    {
     "name": "stdout",
     "output_type": "stream",
     "text": [
      "Error processing image 95: \n"
     ]
    },
    {
     "name": "stderr",
     "output_type": "stream",
     "text": [
      "Extracting features:  38%|███▊      | 96/250 [14:43<04:08,  1.61s/it]"
     ]
    },
    {
     "name": "stdout",
     "output_type": "stream",
     "text": [
      "Error processing image 96: \n"
     ]
    },
    {
     "name": "stderr",
     "output_type": "stream",
     "text": [
      "Extracting features:  39%|███▉      | 97/250 [14:44<03:52,  1.52s/it]"
     ]
    },
    {
     "name": "stdout",
     "output_type": "stream",
     "text": [
      "Error processing image 97: \n"
     ]
    },
    {
     "name": "stderr",
     "output_type": "stream",
     "text": [
      "Extracting features:  39%|███▉      | 98/250 [14:46<04:27,  1.76s/it]"
     ]
    },
    {
     "name": "stdout",
     "output_type": "stream",
     "text": [
      "Error processing image 98: \n"
     ]
    },
    {
     "name": "stderr",
     "output_type": "stream",
     "text": [
      "Extracting features:  40%|███▉      | 99/250 [14:57<10:55,  4.34s/it]"
     ]
    },
    {
     "name": "stdout",
     "output_type": "stream",
     "text": [
      "Error processing image 99: \n"
     ]
    },
    {
     "name": "stderr",
     "output_type": "stream",
     "text": [
      "Extracting features:  40%|████      | 100/250 [15:00<10:06,  4.04s/it]"
     ]
    },
    {
     "name": "stdout",
     "output_type": "stream",
     "text": [
      "Error processing image 100: \n"
     ]
    },
    {
     "name": "stderr",
     "output_type": "stream",
     "text": [
      "Extracting features:  40%|████      | 101/250 [15:05<10:45,  4.33s/it]"
     ]
    },
    {
     "name": "stdout",
     "output_type": "stream",
     "text": [
      "Error processing image 101: Unable to allocate 183. MiB for an array with shape (24000000,) and data type int64\n"
     ]
    },
    {
     "name": "stderr",
     "output_type": "stream",
     "text": [
      "Extracting features:  41%|████      | 102/250 [15:06<07:58,  3.23s/it]"
     ]
    },
    {
     "name": "stdout",
     "output_type": "stream",
     "text": [
      "Error processing image 102: Unable to allocate 183. MiB for an array with shape (4000, 6000) and data type int64\n"
     ]
    },
    {
     "name": "stderr",
     "output_type": "stream",
     "text": [
      "Extracting features:  41%|████      | 103/250 [15:08<07:17,  2.97s/it]"
     ]
    },
    {
     "name": "stdout",
     "output_type": "stream",
     "text": [
      "Error processing image 103: \n"
     ]
    },
    {
     "name": "stderr",
     "output_type": "stream",
     "text": [
      "Extracting features:  42%|████▏     | 104/250 [15:14<09:40,  3.98s/it]"
     ]
    },
    {
     "name": "stdout",
     "output_type": "stream",
     "text": [
      "Error processing image 104: \n"
     ]
    },
    {
     "name": "stderr",
     "output_type": "stream",
     "text": [
      "Extracting features:  42%|████▏     | 105/250 [15:16<07:46,  3.22s/it]"
     ]
    },
    {
     "name": "stdout",
     "output_type": "stream",
     "text": [
      "Error processing image 105: \n"
     ]
    },
    {
     "name": "stderr",
     "output_type": "stream",
     "text": [
      "Extracting features:  42%|████▏     | 106/250 [15:25<12:19,  5.14s/it]"
     ]
    },
    {
     "name": "stdout",
     "output_type": "stream",
     "text": [
      "Error processing image 106: Unable to allocate 183. MiB for an array with shape (24000000,) and data type int64\n"
     ]
    },
    {
     "name": "stderr",
     "output_type": "stream",
     "text": [
      "Extracting features:  43%|████▎     | 107/250 [15:26<08:52,  3.72s/it]"
     ]
    },
    {
     "name": "stdout",
     "output_type": "stream",
     "text": [
      "Error processing image 107: Unable to allocate 183. MiB for an array with shape (4000, 6000) and data type int64\n"
     ]
    },
    {
     "name": "stderr",
     "output_type": "stream",
     "text": [
      "Extracting features:  43%|████▎     | 108/250 [15:26<06:25,  2.72s/it]"
     ]
    },
    {
     "name": "stdout",
     "output_type": "stream",
     "text": [
      "Error processing image 108: Unable to allocate 183. MiB for an array with shape (4000, 6000) and data type int64\n"
     ]
    },
    {
     "name": "stderr",
     "output_type": "stream",
     "text": [
      "Extracting features:  44%|████▎     | 109/250 [15:26<04:44,  2.02s/it]"
     ]
    },
    {
     "name": "stdout",
     "output_type": "stream",
     "text": [
      "Error processing image 109: Unable to allocate 183. MiB for an array with shape (4000, 6000) and data type int64\n"
     ]
    },
    {
     "name": "stderr",
     "output_type": "stream",
     "text": [
      "Extracting features:  44%|████▍     | 110/250 [15:27<03:34,  1.53s/it]"
     ]
    },
    {
     "name": "stdout",
     "output_type": "stream",
     "text": [
      "Error processing image 110: Unable to allocate 183. MiB for an array with shape (4000, 6000) and data type int64\n"
     ]
    },
    {
     "name": "stderr",
     "output_type": "stream",
     "text": [
      "Extracting features:  44%|████▍     | 111/250 [15:27<02:45,  1.19s/it]"
     ]
    },
    {
     "name": "stdout",
     "output_type": "stream",
     "text": [
      "Error processing image 111: Unable to allocate 183. MiB for an array with shape (4000, 6000) and data type int64\n"
     ]
    },
    {
     "name": "stderr",
     "output_type": "stream",
     "text": [
      "Extracting features:  45%|████▍     | 112/250 [15:28<02:10,  1.06it/s]"
     ]
    },
    {
     "name": "stdout",
     "output_type": "stream",
     "text": [
      "Error processing image 112: Unable to allocate 183. MiB for an array with shape (4000, 6000) and data type int64\n"
     ]
    },
    {
     "name": "stderr",
     "output_type": "stream",
     "text": [
      "Extracting features:  45%|████▌     | 113/250 [15:28<01:48,  1.26it/s]"
     ]
    },
    {
     "name": "stdout",
     "output_type": "stream",
     "text": [
      "Error processing image 113: Unable to allocate 183. MiB for an array with shape (4000, 6000) and data type int64\n"
     ]
    },
    {
     "name": "stderr",
     "output_type": "stream",
     "text": [
      "Extracting features:  46%|████▌     | 114/250 [15:29<01:36,  1.41it/s]"
     ]
    },
    {
     "name": "stdout",
     "output_type": "stream",
     "text": [
      "Error processing image 114: Unable to allocate 183. MiB for an array with shape (24000000,) and data type int64\n"
     ]
    },
    {
     "name": "stderr",
     "output_type": "stream",
     "text": [
      "Extracting features:  46%|████▌     | 115/250 [15:29<01:24,  1.60it/s]"
     ]
    },
    {
     "name": "stdout",
     "output_type": "stream",
     "text": [
      "Error processing image 115: Unable to allocate 183. MiB for an array with shape (4000, 6000) and data type int64\n"
     ]
    },
    {
     "name": "stderr",
     "output_type": "stream",
     "text": [
      "Extracting features:  46%|████▋     | 116/250 [15:30<01:55,  1.16it/s]"
     ]
    },
    {
     "name": "stdout",
     "output_type": "stream",
     "text": [
      "Error processing image 116: Unable to allocate 183. MiB for an array with shape (4000, 6000) and data type int64\n"
     ]
    },
    {
     "name": "stderr",
     "output_type": "stream",
     "text": [
      "Extracting features:  47%|████▋     | 117/250 [15:32<02:10,  1.02it/s]"
     ]
    },
    {
     "name": "stdout",
     "output_type": "stream",
     "text": [
      "Error processing image 117: Unable to allocate 68.7 MiB for an array with shape (4000, 6000, 3) and data type uint8\n"
     ]
    },
    {
     "name": "stderr",
     "output_type": "stream",
     "text": [
      "Extracting features:  47%|████▋     | 118/250 [15:33<02:21,  1.07s/it]"
     ]
    },
    {
     "name": "stdout",
     "output_type": "stream",
     "text": [
      "Error processing image 118: Unable to allocate 68.7 MiB for an array with shape (4000, 6000, 3) and data type uint8\n"
     ]
    },
    {
     "name": "stderr",
     "output_type": "stream",
     "text": [
      "Extracting features:  48%|████▊     | 119/250 [15:34<02:28,  1.14s/it]"
     ]
    },
    {
     "name": "stdout",
     "output_type": "stream",
     "text": [
      "Error processing image 119: Unable to allocate 68.7 MiB for an array with shape (4000, 6000, 3) and data type uint8\n"
     ]
    },
    {
     "name": "stderr",
     "output_type": "stream",
     "text": [
      "Extracting features:  48%|████▊     | 120/250 [15:36<02:32,  1.18s/it]"
     ]
    },
    {
     "name": "stdout",
     "output_type": "stream",
     "text": [
      "Error processing image 120: Unable to allocate 68.7 MiB for an array with shape (4000, 6000, 3) and data type uint8\n"
     ]
    },
    {
     "name": "stderr",
     "output_type": "stream",
     "text": [
      "Extracting features:  48%|████▊     | 121/250 [15:37<02:34,  1.20s/it]"
     ]
    },
    {
     "name": "stdout",
     "output_type": "stream",
     "text": [
      "Error processing image 121: Unable to allocate 68.7 MiB for an array with shape (4000, 6000, 3) and data type uint8\n"
     ]
    },
    {
     "name": "stderr",
     "output_type": "stream",
     "text": [
      "Extracting features:  49%|████▉     | 122/250 [15:39<03:16,  1.54s/it]"
     ]
    },
    {
     "name": "stdout",
     "output_type": "stream",
     "text": [
      "Error processing image 122: Unable to allocate 68.7 MiB for an array with shape (4000, 6000, 3) and data type uint8\n"
     ]
    },
    {
     "name": "stderr",
     "output_type": "stream",
     "text": [
      "Extracting features:  49%|████▉     | 123/250 [15:44<05:40,  2.68s/it]"
     ]
    },
    {
     "name": "stdout",
     "output_type": "stream",
     "text": [
      "Error processing image 123: Unable to allocate 68.7 MiB for an array with shape (4000, 6000, 3) and data type uint8\n"
     ]
    },
    {
     "name": "stderr",
     "output_type": "stream",
     "text": [
      "Extracting features:  50%|████▉     | 124/250 [15:47<05:23,  2.57s/it]"
     ]
    },
    {
     "name": "stdout",
     "output_type": "stream",
     "text": [
      "Error processing image 124: Unable to allocate 68.7 MiB for an array with shape (4000, 6000, 3) and data type uint8\n"
     ]
    },
    {
     "name": "stderr",
     "output_type": "stream",
     "text": [
      "Extracting features:  50%|█████     | 125/250 [15:50<05:47,  2.78s/it]"
     ]
    },
    {
     "name": "stdout",
     "output_type": "stream",
     "text": [
      "Error processing image 125: \n"
     ]
    },
    {
     "name": "stderr",
     "output_type": "stream",
     "text": [
      "Extracting features:  61%|██████    | 153/250 [22:20<21:18, 13.18s/it]"
     ]
    },
    {
     "name": "stdout",
     "output_type": "stream",
     "text": [
      "Error processing image 154: Mask not found: ../../train\\masks\\binary_154.tif\n"
     ]
    },
    {
     "name": "stderr",
     "output_type": "stream",
     "text": [
      "Extracting features:  65%|██████▌   | 163/250 [24:08<14:20,  9.89s/it]"
     ]
    },
    {
     "name": "stdout",
     "output_type": "stream",
     "text": [
      "Error processing image 163: Unable to allocate 15.3 MiB for an array with shape (578, 867, 4) and data type float64\n"
     ]
    },
    {
     "name": "stderr",
     "output_type": "stream",
     "text": [
      "Extracting features:  66%|██████▌   | 164/250 [24:10<10:48,  7.54s/it]"
     ]
    },
    {
     "name": "stdout",
     "output_type": "stream",
     "text": [
      "Error processing image 164: Unable to allocate 732. MiB for an array with shape (4000, 6000, 4) and data type float64\n"
     ]
    },
    {
     "name": "stderr",
     "output_type": "stream",
     "text": [
      "Extracting features:  66%|██████▌   | 165/250 [24:12<08:20,  5.89s/it]"
     ]
    },
    {
     "name": "stdout",
     "output_type": "stream",
     "text": [
      "Error processing image 165: Unable to allocate 732. MiB for an array with shape (4000, 6000, 4) and data type float64\n"
     ]
    },
    {
     "name": "stderr",
     "output_type": "stream",
     "text": [
      "Extracting features:  66%|██████▋   | 166/250 [24:14<06:25,  4.59s/it]"
     ]
    },
    {
     "name": "stdout",
     "output_type": "stream",
     "text": [
      "Error processing image 166: Unable to allocate 732. MiB for an array with shape (4000, 6000, 4) and data type float64\n"
     ]
    },
    {
     "name": "stderr",
     "output_type": "stream",
     "text": [
      "Extracting features:  67%|██████▋   | 167/250 [24:15<05:05,  3.68s/it]"
     ]
    },
    {
     "name": "stdout",
     "output_type": "stream",
     "text": [
      "Error processing image 167: Unable to allocate 732. MiB for an array with shape (4000, 6000, 4) and data type float64\n"
     ]
    },
    {
     "name": "stderr",
     "output_type": "stream",
     "text": [
      "Extracting features:  67%|██████▋   | 168/250 [24:17<04:06,  3.00s/it]"
     ]
    },
    {
     "name": "stdout",
     "output_type": "stream",
     "text": [
      "Error processing image 168: Unable to allocate 732. MiB for an array with shape (4000, 6000, 4) and data type float64\n"
     ]
    },
    {
     "name": "stderr",
     "output_type": "stream",
     "text": [
      "Extracting features:  68%|██████▊   | 169/250 [24:18<03:25,  2.54s/it]"
     ]
    },
    {
     "name": "stdout",
     "output_type": "stream",
     "text": [
      "Error processing image 169: Unable to allocate 732. MiB for an array with shape (4000, 6000, 4) and data type float64\n"
     ]
    },
    {
     "name": "stderr",
     "output_type": "stream",
     "text": [
      "Extracting features:  68%|██████▊   | 170/250 [24:19<02:55,  2.19s/it]"
     ]
    },
    {
     "name": "stdout",
     "output_type": "stream",
     "text": [
      "Error processing image 170: Unable to allocate 732. MiB for an array with shape (4000, 6000, 4) and data type float64\n"
     ]
    },
    {
     "name": "stderr",
     "output_type": "stream",
     "text": [
      "Extracting features:  68%|██████▊   | 171/250 [24:21<02:34,  1.95s/it]"
     ]
    },
    {
     "name": "stdout",
     "output_type": "stream",
     "text": [
      "Error processing image 171: Unable to allocate 732. MiB for an array with shape (4000, 6000, 4) and data type float64\n"
     ]
    },
    {
     "name": "stderr",
     "output_type": "stream",
     "text": [
      "Extracting features:  69%|██████▉   | 172/250 [24:22<02:18,  1.77s/it]"
     ]
    },
    {
     "name": "stdout",
     "output_type": "stream",
     "text": [
      "Error processing image 172: Unable to allocate 183. MiB for an array with shape (4000, 6000) and data type int64\n"
     ]
    },
    {
     "name": "stderr",
     "output_type": "stream",
     "text": [
      "Extracting features:  69%|██████▉   | 173/250 [24:23<02:06,  1.64s/it]"
     ]
    },
    {
     "name": "stdout",
     "output_type": "stream",
     "text": [
      "Error processing image 173: Unable to allocate 22.9 MiB for an array with shape (4000, 6000) and data type bool\n"
     ]
    },
    {
     "name": "stderr",
     "output_type": "stream",
     "text": [
      "Extracting features:  70%|██████▉   | 174/250 [24:25<01:57,  1.54s/it]"
     ]
    },
    {
     "name": "stdout",
     "output_type": "stream",
     "text": [
      "Error processing image 174: Unable to allocate 91.6 MiB for an array with shape (4000, 6000) and data type float32\n"
     ]
    },
    {
     "name": "stderr",
     "output_type": "stream",
     "text": [
      "Extracting features:  70%|███████   | 175/250 [24:25<01:29,  1.20s/it]"
     ]
    },
    {
     "name": "stdout",
     "output_type": "stream",
     "text": [
      "Error processing image 175: Unable to allocate 183. MiB for an array with shape (24000000,) and data type int64\n"
     ]
    },
    {
     "name": "stderr",
     "output_type": "stream",
     "text": [
      "Extracting features:  70%|███████   | 176/250 [24:26<01:10,  1.05it/s]"
     ]
    },
    {
     "name": "stdout",
     "output_type": "stream",
     "text": [
      "Error processing image 176: Unable to allocate 183. MiB for an array with shape (24000000,) and data type int64\n"
     ]
    },
    {
     "name": "stderr",
     "output_type": "stream",
     "text": [
      "Extracting features:  71%|███████   | 177/250 [24:26<00:57,  1.28it/s]"
     ]
    },
    {
     "name": "stdout",
     "output_type": "stream",
     "text": [
      "Error processing image 177: Unable to allocate 183. MiB for an array with shape (24000000,) and data type int64\n"
     ]
    },
    {
     "name": "stderr",
     "output_type": "stream",
     "text": [
      "Extracting features:  71%|███████   | 178/250 [24:26<00:47,  1.52it/s]"
     ]
    },
    {
     "name": "stdout",
     "output_type": "stream",
     "text": [
      "Error processing image 178: Unable to allocate 183. MiB for an array with shape (24000000,) and data type int64\n"
     ]
    },
    {
     "name": "stderr",
     "output_type": "stream",
     "text": [
      "Extracting features:  72%|███████▏  | 179/250 [24:27<00:40,  1.74it/s]"
     ]
    },
    {
     "name": "stdout",
     "output_type": "stream",
     "text": [
      "Error processing image 179: Unable to allocate 183. MiB for an array with shape (24000000,) and data type int64\n"
     ]
    },
    {
     "name": "stderr",
     "output_type": "stream",
     "text": [
      "Extracting features:  72%|███████▏  | 180/250 [24:27<00:36,  1.93it/s]"
     ]
    },
    {
     "name": "stdout",
     "output_type": "stream",
     "text": [
      "Error processing image 180: Unable to allocate 183. MiB for an array with shape (24000000,) and data type int64\n"
     ]
    },
    {
     "name": "stderr",
     "output_type": "stream",
     "text": [
      "Extracting features:  72%|███████▏  | 181/250 [24:27<00:32,  2.11it/s]"
     ]
    },
    {
     "name": "stdout",
     "output_type": "stream",
     "text": [
      "Error processing image 181: Unable to allocate 183. MiB for an array with shape (24000000,) and data type int64\n"
     ]
    },
    {
     "name": "stderr",
     "output_type": "stream",
     "text": [
      "Extracting features:  73%|███████▎  | 182/250 [24:28<00:30,  2.23it/s]"
     ]
    },
    {
     "name": "stdout",
     "output_type": "stream",
     "text": [
      "Error processing image 182: Unable to allocate 183. MiB for an array with shape (24000000,) and data type int64\n"
     ]
    },
    {
     "name": "stderr",
     "output_type": "stream",
     "text": [
      "Extracting features:  73%|███████▎  | 183/250 [24:28<00:29,  2.27it/s]"
     ]
    },
    {
     "name": "stdout",
     "output_type": "stream",
     "text": [
      "Error processing image 183: Unable to allocate 183. MiB for an array with shape (24000000,) and data type int64\n"
     ]
    },
    {
     "name": "stderr",
     "output_type": "stream",
     "text": [
      "Extracting features:  74%|███████▎  | 184/250 [24:29<00:28,  2.35it/s]"
     ]
    },
    {
     "name": "stdout",
     "output_type": "stream",
     "text": [
      "Error processing image 184: Unable to allocate 183. MiB for an array with shape (24000000,) and data type int64\n"
     ]
    },
    {
     "name": "stderr",
     "output_type": "stream",
     "text": [
      "Extracting features:  74%|███████▍  | 185/250 [24:29<00:26,  2.43it/s]"
     ]
    },
    {
     "name": "stdout",
     "output_type": "stream",
     "text": [
      "Error processing image 185: Unable to allocate 183. MiB for an array with shape (24000000,) and data type int64\n"
     ]
    },
    {
     "name": "stderr",
     "output_type": "stream",
     "text": [
      "Extracting features:  74%|███████▍  | 186/250 [24:29<00:25,  2.48it/s]"
     ]
    },
    {
     "name": "stdout",
     "output_type": "stream",
     "text": [
      "Error processing image 186: Unable to allocate 183. MiB for an array with shape (24000000,) and data type int64\n"
     ]
    },
    {
     "name": "stderr",
     "output_type": "stream",
     "text": [
      "Extracting features:  75%|███████▍  | 187/250 [24:30<00:25,  2.49it/s]"
     ]
    },
    {
     "name": "stdout",
     "output_type": "stream",
     "text": [
      "Error processing image 187: Unable to allocate 183. MiB for an array with shape (24000000,) and data type int64\n"
     ]
    },
    {
     "name": "stderr",
     "output_type": "stream",
     "text": [
      "Extracting features:  75%|███████▌  | 188/250 [24:30<00:24,  2.55it/s]"
     ]
    },
    {
     "name": "stdout",
     "output_type": "stream",
     "text": [
      "Error processing image 188: Unable to allocate 183. MiB for an array with shape (24000000,) and data type int64\n"
     ]
    },
    {
     "name": "stderr",
     "output_type": "stream",
     "text": [
      "Extracting features:  76%|███████▌  | 189/250 [24:31<00:23,  2.61it/s]"
     ]
    },
    {
     "name": "stdout",
     "output_type": "stream",
     "text": [
      "Error processing image 189: Unable to allocate 183. MiB for an array with shape (24000000,) and data type int64\n"
     ]
    },
    {
     "name": "stderr",
     "output_type": "stream",
     "text": [
      "Extracting features:  76%|███████▌  | 190/250 [24:31<00:22,  2.62it/s]"
     ]
    },
    {
     "name": "stdout",
     "output_type": "stream",
     "text": [
      "Error processing image 190: Unable to allocate 183. MiB for an array with shape (24000000,) and data type int64\n"
     ]
    },
    {
     "name": "stderr",
     "output_type": "stream",
     "text": [
      "Extracting features:  76%|███████▋  | 191/250 [24:31<00:22,  2.63it/s]"
     ]
    },
    {
     "name": "stdout",
     "output_type": "stream",
     "text": [
      "Error processing image 191: Unable to allocate 183. MiB for an array with shape (24000000,) and data type int64\n"
     ]
    },
    {
     "name": "stderr",
     "output_type": "stream",
     "text": [
      "Extracting features:  77%|███████▋  | 192/250 [24:32<00:21,  2.67it/s]"
     ]
    },
    {
     "name": "stdout",
     "output_type": "stream",
     "text": [
      "Error processing image 192: Unable to allocate 183. MiB for an array with shape (24000000,) and data type int64\n"
     ]
    },
    {
     "name": "stderr",
     "output_type": "stream",
     "text": [
      "Extracting features:  77%|███████▋  | 193/250 [24:32<00:21,  2.62it/s]"
     ]
    },
    {
     "name": "stdout",
     "output_type": "stream",
     "text": [
      "Error processing image 193: Unable to allocate 183. MiB for an array with shape (24000000,) and data type int64\n"
     ]
    },
    {
     "name": "stderr",
     "output_type": "stream",
     "text": [
      "Extracting features:  78%|███████▊  | 194/250 [24:32<00:21,  2.62it/s]"
     ]
    },
    {
     "name": "stdout",
     "output_type": "stream",
     "text": [
      "Error processing image 194: Unable to allocate 183. MiB for an array with shape (24000000,) and data type int64\n"
     ]
    },
    {
     "name": "stderr",
     "output_type": "stream",
     "text": [
      "Extracting features:  78%|███████▊  | 195/250 [24:33<00:20,  2.63it/s]"
     ]
    },
    {
     "name": "stdout",
     "output_type": "stream",
     "text": [
      "Error processing image 195: Unable to allocate 183. MiB for an array with shape (24000000,) and data type int64\n"
     ]
    },
    {
     "name": "stderr",
     "output_type": "stream",
     "text": [
      "Extracting features:  78%|███████▊  | 196/250 [24:33<00:20,  2.64it/s]"
     ]
    },
    {
     "name": "stdout",
     "output_type": "stream",
     "text": [
      "Error processing image 196: Unable to allocate 183. MiB for an array with shape (24000000,) and data type int64\n"
     ]
    },
    {
     "name": "stderr",
     "output_type": "stream",
     "text": [
      "Extracting features:  79%|███████▉  | 197/250 [24:34<00:19,  2.68it/s]"
     ]
    },
    {
     "name": "stdout",
     "output_type": "stream",
     "text": [
      "Error processing image 197: Unable to allocate 183. MiB for an array with shape (24000000,) and data type int64\n"
     ]
    },
    {
     "name": "stderr",
     "output_type": "stream",
     "text": [
      "Extracting features:  79%|███████▉  | 198/250 [24:34<00:19,  2.70it/s]"
     ]
    },
    {
     "name": "stdout",
     "output_type": "stream",
     "text": [
      "Error processing image 198: Unable to allocate 183. MiB for an array with shape (24000000,) and data type int64\n"
     ]
    },
    {
     "name": "stderr",
     "output_type": "stream",
     "text": [
      "Extracting features:  80%|███████▉  | 199/250 [24:34<00:18,  2.72it/s]"
     ]
    },
    {
     "name": "stdout",
     "output_type": "stream",
     "text": [
      "Error processing image 199: Unable to allocate 183. MiB for an array with shape (24000000,) and data type int64\n"
     ]
    },
    {
     "name": "stderr",
     "output_type": "stream",
     "text": [
      "Extracting features:  80%|████████  | 200/250 [24:35<00:18,  2.71it/s]"
     ]
    },
    {
     "name": "stdout",
     "output_type": "stream",
     "text": [
      "Error processing image 200: Unable to allocate 183. MiB for an array with shape (24000000,) and data type int64\n"
     ]
    },
    {
     "name": "stderr",
     "output_type": "stream",
     "text": [
      "Extracting features:  80%|████████  | 201/250 [24:35<00:18,  2.71it/s]"
     ]
    },
    {
     "name": "stdout",
     "output_type": "stream",
     "text": [
      "Error processing image 201: Unable to allocate 183. MiB for an array with shape (24000000,) and data type int64\n"
     ]
    },
    {
     "name": "stderr",
     "output_type": "stream",
     "text": [
      "Extracting features:  81%|████████  | 202/250 [24:35<00:18,  2.65it/s]"
     ]
    },
    {
     "name": "stdout",
     "output_type": "stream",
     "text": [
      "Error processing image 202: Unable to allocate 183. MiB for an array with shape (24000000,) and data type int64\n"
     ]
    },
    {
     "name": "stderr",
     "output_type": "stream",
     "text": [
      "Extracting features:  81%|████████  | 203/250 [24:36<00:18,  2.61it/s]"
     ]
    },
    {
     "name": "stdout",
     "output_type": "stream",
     "text": [
      "Error processing image 203: Unable to allocate 183. MiB for an array with shape (24000000,) and data type int64\n"
     ]
    },
    {
     "name": "stderr",
     "output_type": "stream",
     "text": [
      "Extracting features:  82%|████████▏ | 204/250 [24:36<00:17,  2.60it/s]"
     ]
    },
    {
     "name": "stdout",
     "output_type": "stream",
     "text": [
      "Error processing image 204: Unable to allocate 183. MiB for an array with shape (24000000,) and data type int64\n"
     ]
    },
    {
     "name": "stderr",
     "output_type": "stream",
     "text": [
      "Extracting features:  82%|████████▏ | 205/250 [24:37<00:17,  2.61it/s]"
     ]
    },
    {
     "name": "stdout",
     "output_type": "stream",
     "text": [
      "Error processing image 205: Unable to allocate 183. MiB for an array with shape (24000000,) and data type int64\n"
     ]
    },
    {
     "name": "stderr",
     "output_type": "stream",
     "text": [
      "Extracting features:  82%|████████▏ | 206/250 [24:37<00:16,  2.65it/s]"
     ]
    },
    {
     "name": "stdout",
     "output_type": "stream",
     "text": [
      "Error processing image 206: Unable to allocate 183. MiB for an array with shape (24000000,) and data type int64\n"
     ]
    },
    {
     "name": "stderr",
     "output_type": "stream",
     "text": [
      "Extracting features:  83%|████████▎ | 207/250 [24:37<00:15,  2.69it/s]"
     ]
    },
    {
     "name": "stdout",
     "output_type": "stream",
     "text": [
      "Error processing image 207: Unable to allocate 183. MiB for an array with shape (24000000,) and data type int64\n"
     ]
    },
    {
     "name": "stderr",
     "output_type": "stream",
     "text": [
      "Extracting features:  83%|████████▎ | 208/250 [24:38<00:15,  2.69it/s]"
     ]
    },
    {
     "name": "stdout",
     "output_type": "stream",
     "text": [
      "Error processing image 208: Unable to allocate 183. MiB for an array with shape (24000000,) and data type int64\n"
     ]
    },
    {
     "name": "stderr",
     "output_type": "stream",
     "text": [
      "Extracting features:  84%|████████▎ | 209/250 [24:38<00:14,  2.74it/s]"
     ]
    },
    {
     "name": "stdout",
     "output_type": "stream",
     "text": [
      "Error processing image 209: Unable to allocate 183. MiB for an array with shape (24000000,) and data type int64\n"
     ]
    },
    {
     "name": "stderr",
     "output_type": "stream",
     "text": [
      "Extracting features:  84%|████████▍ | 210/250 [24:38<00:14,  2.73it/s]"
     ]
    },
    {
     "name": "stdout",
     "output_type": "stream",
     "text": [
      "Error processing image 210: Unable to allocate 183. MiB for an array with shape (24000000,) and data type int64\n"
     ]
    },
    {
     "name": "stderr",
     "output_type": "stream",
     "text": [
      "Extracting features:  84%|████████▍ | 211/250 [24:39<00:14,  2.67it/s]"
     ]
    },
    {
     "name": "stdout",
     "output_type": "stream",
     "text": [
      "Error processing image 211: Unable to allocate 183. MiB for an array with shape (24000000,) and data type int64\n"
     ]
    },
    {
     "name": "stderr",
     "output_type": "stream",
     "text": [
      "Extracting features:  85%|████████▍ | 212/250 [24:39<00:14,  2.67it/s]"
     ]
    },
    {
     "name": "stdout",
     "output_type": "stream",
     "text": [
      "Error processing image 212: Unable to allocate 183. MiB for an array with shape (24000000,) and data type int64\n"
     ]
    },
    {
     "name": "stderr",
     "output_type": "stream",
     "text": [
      "Extracting features:  85%|████████▌ | 213/250 [24:40<00:13,  2.72it/s]"
     ]
    },
    {
     "name": "stdout",
     "output_type": "stream",
     "text": [
      "Error processing image 213: Unable to allocate 183. MiB for an array with shape (24000000,) and data type int64\n"
     ]
    },
    {
     "name": "stderr",
     "output_type": "stream",
     "text": [
      "Extracting features:  86%|████████▌ | 214/250 [24:40<00:13,  2.75it/s]"
     ]
    },
    {
     "name": "stdout",
     "output_type": "stream",
     "text": [
      "Error processing image 214: Unable to allocate 183. MiB for an array with shape (24000000,) and data type int64\n"
     ]
    },
    {
     "name": "stderr",
     "output_type": "stream",
     "text": [
      "Extracting features:  86%|████████▌ | 215/250 [24:40<00:12,  2.77it/s]"
     ]
    },
    {
     "name": "stdout",
     "output_type": "stream",
     "text": [
      "Error processing image 215: Unable to allocate 183. MiB for an array with shape (24000000,) and data type int64\n"
     ]
    },
    {
     "name": "stderr",
     "output_type": "stream",
     "text": [
      "Extracting features:  86%|████████▋ | 216/250 [24:41<00:12,  2.74it/s]"
     ]
    },
    {
     "name": "stdout",
     "output_type": "stream",
     "text": [
      "Error processing image 216: Unable to allocate 183. MiB for an array with shape (24000000,) and data type int64\n"
     ]
    },
    {
     "name": "stderr",
     "output_type": "stream",
     "text": [
      "Extracting features:  87%|████████▋ | 217/250 [24:41<00:12,  2.71it/s]"
     ]
    },
    {
     "name": "stdout",
     "output_type": "stream",
     "text": [
      "Error processing image 217: Unable to allocate 183. MiB for an array with shape (24000000,) and data type int64\n"
     ]
    },
    {
     "name": "stderr",
     "output_type": "stream",
     "text": [
      "Extracting features:  87%|████████▋ | 218/250 [24:41<00:11,  2.70it/s]"
     ]
    },
    {
     "name": "stdout",
     "output_type": "stream",
     "text": [
      "Error processing image 218: Unable to allocate 183. MiB for an array with shape (24000000,) and data type int64\n"
     ]
    },
    {
     "name": "stderr",
     "output_type": "stream",
     "text": [
      "Extracting features:  88%|████████▊ | 219/250 [24:42<00:11,  2.65it/s]"
     ]
    },
    {
     "name": "stdout",
     "output_type": "stream",
     "text": [
      "Error processing image 219: Unable to allocate 183. MiB for an array with shape (24000000,) and data type int64\n"
     ]
    },
    {
     "name": "stderr",
     "output_type": "stream",
     "text": [
      "Extracting features:  88%|████████▊ | 220/250 [24:42<00:11,  2.61it/s]"
     ]
    },
    {
     "name": "stdout",
     "output_type": "stream",
     "text": [
      "Error processing image 220: Unable to allocate 183. MiB for an array with shape (24000000,) and data type int64\n"
     ]
    },
    {
     "name": "stderr",
     "output_type": "stream",
     "text": [
      "Extracting features:  88%|████████▊ | 221/250 [24:43<00:10,  2.67it/s]"
     ]
    },
    {
     "name": "stdout",
     "output_type": "stream",
     "text": [
      "Error processing image 221: Unable to allocate 183. MiB for an array with shape (24000000,) and data type int64\n"
     ]
    },
    {
     "name": "stderr",
     "output_type": "stream",
     "text": [
      "Extracting features:  89%|████████▉ | 222/250 [24:43<00:10,  2.57it/s]"
     ]
    },
    {
     "name": "stdout",
     "output_type": "stream",
     "text": [
      "Error processing image 222: Unable to allocate 183. MiB for an array with shape (24000000,) and data type int64\n"
     ]
    },
    {
     "name": "stderr",
     "output_type": "stream",
     "text": [
      "Extracting features:  89%|████████▉ | 223/250 [24:43<00:10,  2.47it/s]"
     ]
    },
    {
     "name": "stdout",
     "output_type": "stream",
     "text": [
      "Error processing image 223: Unable to allocate 183. MiB for an array with shape (24000000,) and data type int64\n"
     ]
    },
    {
     "name": "stderr",
     "output_type": "stream",
     "text": [
      "Extracting features:  90%|████████▉ | 224/250 [24:44<00:10,  2.47it/s]"
     ]
    },
    {
     "name": "stdout",
     "output_type": "stream",
     "text": [
      "Error processing image 224: Unable to allocate 183. MiB for an array with shape (24000000,) and data type int64\n"
     ]
    },
    {
     "name": "stderr",
     "output_type": "stream",
     "text": [
      "Extracting features:  90%|█████████ | 225/250 [24:44<00:10,  2.44it/s]"
     ]
    },
    {
     "name": "stdout",
     "output_type": "stream",
     "text": [
      "Error processing image 225: Unable to allocate 183. MiB for an array with shape (24000000,) and data type int64\n"
     ]
    },
    {
     "name": "stderr",
     "output_type": "stream",
     "text": [
      "Extracting features:  90%|█████████ | 226/250 [24:45<00:09,  2.45it/s]"
     ]
    },
    {
     "name": "stdout",
     "output_type": "stream",
     "text": [
      "Error processing image 226: Unable to allocate 183. MiB for an array with shape (24000000,) and data type int64\n"
     ]
    },
    {
     "name": "stderr",
     "output_type": "stream",
     "text": [
      "Extracting features:  91%|█████████ | 227/250 [24:45<00:09,  2.50it/s]"
     ]
    },
    {
     "name": "stdout",
     "output_type": "stream",
     "text": [
      "Error processing image 227: Unable to allocate 183. MiB for an array with shape (24000000,) and data type int64\n"
     ]
    },
    {
     "name": "stderr",
     "output_type": "stream",
     "text": [
      "Extracting features:  91%|█████████ | 228/250 [24:45<00:08,  2.55it/s]"
     ]
    },
    {
     "name": "stdout",
     "output_type": "stream",
     "text": [
      "Error processing image 228: Unable to allocate 183. MiB for an array with shape (24000000,) and data type int64\n"
     ]
    },
    {
     "name": "stderr",
     "output_type": "stream",
     "text": [
      "Extracting features:  92%|█████████▏| 229/250 [24:46<00:08,  2.51it/s]"
     ]
    },
    {
     "name": "stdout",
     "output_type": "stream",
     "text": [
      "Error processing image 229: Unable to allocate 183. MiB for an array with shape (24000000,) and data type int64\n"
     ]
    },
    {
     "name": "stderr",
     "output_type": "stream",
     "text": [
      "Extracting features:  92%|█████████▏| 230/250 [24:46<00:07,  2.54it/s]"
     ]
    },
    {
     "name": "stdout",
     "output_type": "stream",
     "text": [
      "Error processing image 230: Unable to allocate 183. MiB for an array with shape (24000000,) and data type int64\n"
     ]
    },
    {
     "name": "stderr",
     "output_type": "stream",
     "text": [
      "Extracting features:  92%|█████████▏| 231/250 [24:47<00:07,  2.63it/s]"
     ]
    },
    {
     "name": "stdout",
     "output_type": "stream",
     "text": [
      "Error processing image 231: Unable to allocate 183. MiB for an array with shape (24000000,) and data type int64\n"
     ]
    },
    {
     "name": "stderr",
     "output_type": "stream",
     "text": [
      "Extracting features:  93%|█████████▎| 232/250 [24:47<00:06,  2.68it/s]"
     ]
    },
    {
     "name": "stdout",
     "output_type": "stream",
     "text": [
      "Error processing image 232: Unable to allocate 183. MiB for an array with shape (24000000,) and data type int64\n"
     ]
    },
    {
     "name": "stderr",
     "output_type": "stream",
     "text": [
      "Extracting features:  93%|█████████▎| 233/250 [24:47<00:06,  2.69it/s]"
     ]
    },
    {
     "name": "stdout",
     "output_type": "stream",
     "text": [
      "Error processing image 233: Unable to allocate 183. MiB for an array with shape (24000000,) and data type int64\n"
     ]
    },
    {
     "name": "stderr",
     "output_type": "stream",
     "text": [
      "Extracting features:  94%|█████████▎| 234/250 [24:48<00:05,  2.68it/s]"
     ]
    },
    {
     "name": "stdout",
     "output_type": "stream",
     "text": [
      "Error processing image 234: Unable to allocate 183. MiB for an array with shape (24000000,) and data type int64\n"
     ]
    },
    {
     "name": "stderr",
     "output_type": "stream",
     "text": [
      "Extracting features:  94%|█████████▍| 235/250 [24:48<00:05,  2.67it/s]"
     ]
    },
    {
     "name": "stdout",
     "output_type": "stream",
     "text": [
      "Error processing image 235: Unable to allocate 183. MiB for an array with shape (24000000,) and data type int64\n"
     ]
    },
    {
     "name": "stderr",
     "output_type": "stream",
     "text": [
      "Extracting features:  94%|█████████▍| 236/250 [24:48<00:05,  2.70it/s]"
     ]
    },
    {
     "name": "stdout",
     "output_type": "stream",
     "text": [
      "Error processing image 236: Unable to allocate 183. MiB for an array with shape (24000000,) and data type int64\n"
     ]
    },
    {
     "name": "stderr",
     "output_type": "stream",
     "text": [
      "Extracting features:  95%|█████████▍| 237/250 [24:49<00:04,  2.75it/s]"
     ]
    },
    {
     "name": "stdout",
     "output_type": "stream",
     "text": [
      "Error processing image 237: Unable to allocate 183. MiB for an array with shape (24000000,) and data type int64\n"
     ]
    },
    {
     "name": "stderr",
     "output_type": "stream",
     "text": [
      "Extracting features:  95%|█████████▌| 238/250 [24:49<00:04,  2.73it/s]"
     ]
    },
    {
     "name": "stdout",
     "output_type": "stream",
     "text": [
      "Error processing image 238: Unable to allocate 183. MiB for an array with shape (24000000,) and data type int64\n"
     ]
    },
    {
     "name": "stderr",
     "output_type": "stream",
     "text": [
      "Extracting features:  96%|█████████▌| 239/250 [24:49<00:04,  2.74it/s]"
     ]
    },
    {
     "name": "stdout",
     "output_type": "stream",
     "text": [
      "Error processing image 239: Unable to allocate 183. MiB for an array with shape (24000000,) and data type int64\n"
     ]
    },
    {
     "name": "stderr",
     "output_type": "stream",
     "text": [
      "Extracting features:  96%|█████████▌| 240/250 [24:50<00:03,  2.77it/s]"
     ]
    },
    {
     "name": "stdout",
     "output_type": "stream",
     "text": [
      "Error processing image 240: Unable to allocate 183. MiB for an array with shape (24000000,) and data type int64\n"
     ]
    },
    {
     "name": "stderr",
     "output_type": "stream",
     "text": [
      "Extracting features:  96%|█████████▋| 241/250 [24:50<00:03,  2.73it/s]"
     ]
    },
    {
     "name": "stdout",
     "output_type": "stream",
     "text": [
      "Error processing image 241: Unable to allocate 183. MiB for an array with shape (24000000,) and data type int64\n"
     ]
    },
    {
     "name": "stderr",
     "output_type": "stream",
     "text": [
      "Extracting features:  97%|█████████▋| 242/250 [24:51<00:02,  2.70it/s]"
     ]
    },
    {
     "name": "stdout",
     "output_type": "stream",
     "text": [
      "Error processing image 242: Unable to allocate 183. MiB for an array with shape (24000000,) and data type int64\n"
     ]
    },
    {
     "name": "stderr",
     "output_type": "stream",
     "text": [
      "Extracting features:  97%|█████████▋| 243/250 [24:51<00:02,  2.72it/s]"
     ]
    },
    {
     "name": "stdout",
     "output_type": "stream",
     "text": [
      "Error processing image 243: Unable to allocate 183. MiB for an array with shape (24000000,) and data type int64\n"
     ]
    },
    {
     "name": "stderr",
     "output_type": "stream",
     "text": [
      "Extracting features:  98%|█████████▊| 244/250 [24:51<00:02,  2.74it/s]"
     ]
    },
    {
     "name": "stdout",
     "output_type": "stream",
     "text": [
      "Error processing image 244: Unable to allocate 183. MiB for an array with shape (24000000,) and data type int64\n"
     ]
    },
    {
     "name": "stderr",
     "output_type": "stream",
     "text": [
      "Extracting features:  98%|█████████▊| 245/250 [24:52<00:01,  2.74it/s]"
     ]
    },
    {
     "name": "stdout",
     "output_type": "stream",
     "text": [
      "Error processing image 245: Unable to allocate 183. MiB for an array with shape (24000000,) and data type int64\n"
     ]
    },
    {
     "name": "stderr",
     "output_type": "stream",
     "text": [
      "Extracting features:  98%|█████████▊| 246/250 [24:52<00:01,  2.72it/s]"
     ]
    },
    {
     "name": "stdout",
     "output_type": "stream",
     "text": [
      "Error processing image 246: Unable to allocate 183. MiB for an array with shape (24000000,) and data type int64\n"
     ]
    },
    {
     "name": "stderr",
     "output_type": "stream",
     "text": [
      "Extracting features:  99%|█████████▉| 247/250 [24:52<00:01,  2.67it/s]"
     ]
    },
    {
     "name": "stdout",
     "output_type": "stream",
     "text": [
      "Error processing image 247: Unable to allocate 183. MiB for an array with shape (24000000,) and data type int64\n"
     ]
    },
    {
     "name": "stderr",
     "output_type": "stream",
     "text": [
      "Extracting features:  99%|█████████▉| 248/250 [24:53<00:00,  2.74it/s]"
     ]
    },
    {
     "name": "stdout",
     "output_type": "stream",
     "text": [
      "Error processing image 248: Unable to allocate 183. MiB for an array with shape (24000000,) and data type int64\n"
     ]
    },
    {
     "name": "stderr",
     "output_type": "stream",
     "text": [
      "Extracting features: 100%|█████████▉| 249/250 [24:53<00:00,  2.75it/s]"
     ]
    },
    {
     "name": "stdout",
     "output_type": "stream",
     "text": [
      "Error processing image 249: Unable to allocate 183. MiB for an array with shape (24000000,) and data type int64\n"
     ]
    },
    {
     "name": "stderr",
     "output_type": "stream",
     "text": [
      "Extracting features: 100%|██████████| 250/250 [24:53<00:00,  5.98s/it]"
     ]
    },
    {
     "name": "stdout",
     "output_type": "stream",
     "text": [
      "Error processing image 250: Unable to allocate 183. MiB for an array with shape (24000000,) and data type int64\n",
      "Features extracted for 250 images\n",
      "Columns: ['image_id', 'bug_ratio', 'max_inscribed_radius', 'symmetry_score', 'symmetry_angle', 'area', 'perimeter', 'eccentricity', 'solidity', 'extent', 'aspect_ratio', 'horizontal_symmetry', 'r_min', 'g_min', 'b_min', 'r_max', 'g_max', 'b_max', 'r_mean', 'g_mean', 'b_mean', 'r_median', 'g_median', 'b_median', 'r_std', 'g_std', 'b_std', 'texture_entropy', 'texture_energy', 'hu_moment1', 'hu_moment2', 'hu_moment3', 'hu_moment4', 'bug_type', 'species']\n",
      "Symmetry angles - Min: -30.00°, Max: 45.00°\n",
      "Images with non-zero angle: 103\n",
      "Raw features saved to 'features_raw.csv'\n",
      "Numeric columns detected: 32\n",
      "Normalized features saved to 'features_normalized.csv'\n",
      "\n",
      "=== SUMMARY ===\n",
      "Processed images: 250\n",
      "Features per image: 32\n",
      "\n",
      "Class distribution:\n",
      "bug_type\n",
      "Bee                115\n",
      "Bumblebee          100\n",
      "Butterfly           15\n",
      "Hover fly            9\n",
      "Wasp                 9\n",
      "Dragonfly            1\n",
      "Bee & Bumblebee      1\n",
      "Name: count, dtype: int64\n",
      "\n",
      "=== COMPLIANCE CHECK ===\n",
      "✓ I. Quality control: 105 visualizations in 'cleaned_samples/'\n",
      "✓ II. Best inscribed circle: 103 visualizations in 'visual_inspection/'\n",
      "✓ III. Best symmetry plane: 103 visualizations in 'visual_symmetry/'\n",
      "✓ IV. Features extraction: 250 feature sets\n",
      "✓ Symmetry angles calculated: 90/250 with significant angle\n",
      "\n",
      "=== EXTRACTION COMPLETED SUCCESSFULLY ===\n",
      "Generated files:\n",
      "- features_raw.csv: raw features\n",
      "- features_normalized.csv: normalized features\n",
      "- scaler.pkl: normalization object\n",
      "- cleaned_samples/: cleaning visualizations\n",
      "- visual_inspection/: inscribed circle visualizations\n",
      "- visual_symmetry/: symmetry plane visualizations\n"
     ]
    },
    {
     "name": "stderr",
     "output_type": "stream",
     "text": [
      "\n"
     ]
    },
    {
     "name": "stdout",
     "output_type": "stream",
     "text": [
      "Error in callback <function _draw_all_if_interactive at 0x00000172F7D89580> (for post_execute), with arguments args (),kwargs {}:\n"
     ]
    },
    {
     "ename": "MemoryError",
     "evalue": "Unable to allocate 183. MiB for an array with shape (4000, 6000) and data type int64",
     "output_type": "error",
     "traceback": [
      "\u001b[31m---------------------------------------------------------------------------\u001b[39m",
      "\u001b[31mMemoryError\u001b[39m                               Traceback (most recent call last)",
      "\u001b[36mFile \u001b[39m\u001b[32m~\\AppData\\Roaming\\Python\\Python313\\site-packages\\matplotlib\\pyplot.py:279\u001b[39m, in \u001b[36m_draw_all_if_interactive\u001b[39m\u001b[34m()\u001b[39m\n\u001b[32m    277\u001b[39m \u001b[38;5;28;01mdef\u001b[39;00m\u001b[38;5;250m \u001b[39m\u001b[34m_draw_all_if_interactive\u001b[39m() -> \u001b[38;5;28;01mNone\u001b[39;00m:\n\u001b[32m    278\u001b[39m     \u001b[38;5;28;01mif\u001b[39;00m matplotlib.is_interactive():\n\u001b[32m--> \u001b[39m\u001b[32m279\u001b[39m         \u001b[43mdraw_all\u001b[49m\u001b[43m(\u001b[49m\u001b[43m)\u001b[49m\n",
      "\u001b[36mFile \u001b[39m\u001b[32m~\\AppData\\Roaming\\Python\\Python313\\site-packages\\matplotlib\\_pylab_helpers.py:131\u001b[39m, in \u001b[36mGcf.draw_all\u001b[39m\u001b[34m(cls, force)\u001b[39m\n\u001b[32m    129\u001b[39m \u001b[38;5;28;01mfor\u001b[39;00m manager \u001b[38;5;129;01min\u001b[39;00m \u001b[38;5;28mcls\u001b[39m.get_all_fig_managers():\n\u001b[32m    130\u001b[39m     \u001b[38;5;28;01mif\u001b[39;00m force \u001b[38;5;129;01mor\u001b[39;00m manager.canvas.figure.stale:\n\u001b[32m--> \u001b[39m\u001b[32m131\u001b[39m         \u001b[43mmanager\u001b[49m\u001b[43m.\u001b[49m\u001b[43mcanvas\u001b[49m\u001b[43m.\u001b[49m\u001b[43mdraw_idle\u001b[49m\u001b[43m(\u001b[49m\u001b[43m)\u001b[49m\n",
      "\u001b[36mFile \u001b[39m\u001b[32m~\\AppData\\Roaming\\Python\\Python313\\site-packages\\matplotlib\\backend_bases.py:1891\u001b[39m, in \u001b[36mFigureCanvasBase.draw_idle\u001b[39m\u001b[34m(self, *args, **kwargs)\u001b[39m\n\u001b[32m   1889\u001b[39m \u001b[38;5;28;01mif\u001b[39;00m \u001b[38;5;129;01mnot\u001b[39;00m \u001b[38;5;28mself\u001b[39m._is_idle_drawing:\n\u001b[32m   1890\u001b[39m     \u001b[38;5;28;01mwith\u001b[39;00m \u001b[38;5;28mself\u001b[39m._idle_draw_cntx():\n\u001b[32m-> \u001b[39m\u001b[32m1891\u001b[39m         \u001b[38;5;28;43mself\u001b[39;49m\u001b[43m.\u001b[49m\u001b[43mdraw\u001b[49m\u001b[43m(\u001b[49m\u001b[43m*\u001b[49m\u001b[43margs\u001b[49m\u001b[43m,\u001b[49m\u001b[43m \u001b[49m\u001b[43m*\u001b[49m\u001b[43m*\u001b[49m\u001b[43mkwargs\u001b[49m\u001b[43m)\u001b[49m\n",
      "\u001b[36mFile \u001b[39m\u001b[32m~\\AppData\\Roaming\\Python\\Python313\\site-packages\\matplotlib\\backends\\backend_agg.py:382\u001b[39m, in \u001b[36mFigureCanvasAgg.draw\u001b[39m\u001b[34m(self)\u001b[39m\n\u001b[32m    379\u001b[39m \u001b[38;5;66;03m# Acquire a lock on the shared font cache.\u001b[39;00m\n\u001b[32m    380\u001b[39m \u001b[38;5;28;01mwith\u001b[39;00m (\u001b[38;5;28mself\u001b[39m.toolbar._wait_cursor_for_draw_cm() \u001b[38;5;28;01mif\u001b[39;00m \u001b[38;5;28mself\u001b[39m.toolbar\n\u001b[32m    381\u001b[39m       \u001b[38;5;28;01melse\u001b[39;00m nullcontext()):\n\u001b[32m--> \u001b[39m\u001b[32m382\u001b[39m     \u001b[38;5;28;43mself\u001b[39;49m\u001b[43m.\u001b[49m\u001b[43mfigure\u001b[49m\u001b[43m.\u001b[49m\u001b[43mdraw\u001b[49m\u001b[43m(\u001b[49m\u001b[38;5;28;43mself\u001b[39;49m\u001b[43m.\u001b[49m\u001b[43mrenderer\u001b[49m\u001b[43m)\u001b[49m\n\u001b[32m    383\u001b[39m     \u001b[38;5;66;03m# A GUI class may be need to update a window using this draw, so\u001b[39;00m\n\u001b[32m    384\u001b[39m     \u001b[38;5;66;03m# don't forget to call the superclass.\u001b[39;00m\n\u001b[32m    385\u001b[39m     \u001b[38;5;28msuper\u001b[39m().draw()\n",
      "\u001b[36mFile \u001b[39m\u001b[32m~\\AppData\\Roaming\\Python\\Python313\\site-packages\\matplotlib\\artist.py:94\u001b[39m, in \u001b[36m_finalize_rasterization.<locals>.draw_wrapper\u001b[39m\u001b[34m(artist, renderer, *args, **kwargs)\u001b[39m\n\u001b[32m     92\u001b[39m \u001b[38;5;129m@wraps\u001b[39m(draw)\n\u001b[32m     93\u001b[39m \u001b[38;5;28;01mdef\u001b[39;00m\u001b[38;5;250m \u001b[39m\u001b[34mdraw_wrapper\u001b[39m(artist, renderer, *args, **kwargs):\n\u001b[32m---> \u001b[39m\u001b[32m94\u001b[39m     result = \u001b[43mdraw\u001b[49m\u001b[43m(\u001b[49m\u001b[43martist\u001b[49m\u001b[43m,\u001b[49m\u001b[43m \u001b[49m\u001b[43mrenderer\u001b[49m\u001b[43m,\u001b[49m\u001b[43m \u001b[49m\u001b[43m*\u001b[49m\u001b[43margs\u001b[49m\u001b[43m,\u001b[49m\u001b[43m \u001b[49m\u001b[43m*\u001b[49m\u001b[43m*\u001b[49m\u001b[43mkwargs\u001b[49m\u001b[43m)\u001b[49m\n\u001b[32m     95\u001b[39m     \u001b[38;5;28;01mif\u001b[39;00m renderer._rasterizing:\n\u001b[32m     96\u001b[39m         renderer.stop_rasterizing()\n",
      "\u001b[36mFile \u001b[39m\u001b[32m~\\AppData\\Roaming\\Python\\Python313\\site-packages\\matplotlib\\artist.py:71\u001b[39m, in \u001b[36mallow_rasterization.<locals>.draw_wrapper\u001b[39m\u001b[34m(artist, renderer)\u001b[39m\n\u001b[32m     68\u001b[39m     \u001b[38;5;28;01mif\u001b[39;00m artist.get_agg_filter() \u001b[38;5;129;01mis\u001b[39;00m \u001b[38;5;129;01mnot\u001b[39;00m \u001b[38;5;28;01mNone\u001b[39;00m:\n\u001b[32m     69\u001b[39m         renderer.start_filter()\n\u001b[32m---> \u001b[39m\u001b[32m71\u001b[39m     \u001b[38;5;28;01mreturn\u001b[39;00m \u001b[43mdraw\u001b[49m\u001b[43m(\u001b[49m\u001b[43martist\u001b[49m\u001b[43m,\u001b[49m\u001b[43m \u001b[49m\u001b[43mrenderer\u001b[49m\u001b[43m)\u001b[49m\n\u001b[32m     72\u001b[39m \u001b[38;5;28;01mfinally\u001b[39;00m:\n\u001b[32m     73\u001b[39m     \u001b[38;5;28;01mif\u001b[39;00m artist.get_agg_filter() \u001b[38;5;129;01mis\u001b[39;00m \u001b[38;5;129;01mnot\u001b[39;00m \u001b[38;5;28;01mNone\u001b[39;00m:\n",
      "\u001b[36mFile \u001b[39m\u001b[32m~\\AppData\\Roaming\\Python\\Python313\\site-packages\\matplotlib\\figure.py:3257\u001b[39m, in \u001b[36mFigure.draw\u001b[39m\u001b[34m(self, renderer)\u001b[39m\n\u001b[32m   3254\u001b[39m             \u001b[38;5;66;03m# ValueError can occur when resizing a window.\u001b[39;00m\n\u001b[32m   3256\u001b[39m     \u001b[38;5;28mself\u001b[39m.patch.draw(renderer)\n\u001b[32m-> \u001b[39m\u001b[32m3257\u001b[39m     \u001b[43mmimage\u001b[49m\u001b[43m.\u001b[49m\u001b[43m_draw_list_compositing_images\u001b[49m\u001b[43m(\u001b[49m\n\u001b[32m   3258\u001b[39m \u001b[43m        \u001b[49m\u001b[43mrenderer\u001b[49m\u001b[43m,\u001b[49m\u001b[43m \u001b[49m\u001b[38;5;28;43mself\u001b[39;49m\u001b[43m,\u001b[49m\u001b[43m \u001b[49m\u001b[43martists\u001b[49m\u001b[43m,\u001b[49m\u001b[43m \u001b[49m\u001b[38;5;28;43mself\u001b[39;49m\u001b[43m.\u001b[49m\u001b[43msuppressComposite\u001b[49m\u001b[43m)\u001b[49m\n\u001b[32m   3260\u001b[39m     renderer.close_group(\u001b[33m'\u001b[39m\u001b[33mfigure\u001b[39m\u001b[33m'\u001b[39m)\n\u001b[32m   3261\u001b[39m \u001b[38;5;28;01mfinally\u001b[39;00m:\n",
      "\u001b[36mFile \u001b[39m\u001b[32m~\\AppData\\Roaming\\Python\\Python313\\site-packages\\matplotlib\\image.py:134\u001b[39m, in \u001b[36m_draw_list_compositing_images\u001b[39m\u001b[34m(renderer, parent, artists, suppress_composite)\u001b[39m\n\u001b[32m    132\u001b[39m \u001b[38;5;28;01mif\u001b[39;00m not_composite \u001b[38;5;129;01mor\u001b[39;00m \u001b[38;5;129;01mnot\u001b[39;00m has_images:\n\u001b[32m    133\u001b[39m     \u001b[38;5;28;01mfor\u001b[39;00m a \u001b[38;5;129;01min\u001b[39;00m artists:\n\u001b[32m--> \u001b[39m\u001b[32m134\u001b[39m         \u001b[43ma\u001b[49m\u001b[43m.\u001b[49m\u001b[43mdraw\u001b[49m\u001b[43m(\u001b[49m\u001b[43mrenderer\u001b[49m\u001b[43m)\u001b[49m\n\u001b[32m    135\u001b[39m \u001b[38;5;28;01melse\u001b[39;00m:\n\u001b[32m    136\u001b[39m     \u001b[38;5;66;03m# Composite any adjacent images together\u001b[39;00m\n\u001b[32m    137\u001b[39m     image_group = []\n",
      "\u001b[36mFile \u001b[39m\u001b[32m~\\AppData\\Roaming\\Python\\Python313\\site-packages\\matplotlib\\artist.py:71\u001b[39m, in \u001b[36mallow_rasterization.<locals>.draw_wrapper\u001b[39m\u001b[34m(artist, renderer)\u001b[39m\n\u001b[32m     68\u001b[39m     \u001b[38;5;28;01mif\u001b[39;00m artist.get_agg_filter() \u001b[38;5;129;01mis\u001b[39;00m \u001b[38;5;129;01mnot\u001b[39;00m \u001b[38;5;28;01mNone\u001b[39;00m:\n\u001b[32m     69\u001b[39m         renderer.start_filter()\n\u001b[32m---> \u001b[39m\u001b[32m71\u001b[39m     \u001b[38;5;28;01mreturn\u001b[39;00m \u001b[43mdraw\u001b[49m\u001b[43m(\u001b[49m\u001b[43martist\u001b[49m\u001b[43m,\u001b[49m\u001b[43m \u001b[49m\u001b[43mrenderer\u001b[49m\u001b[43m)\u001b[49m\n\u001b[32m     72\u001b[39m \u001b[38;5;28;01mfinally\u001b[39;00m:\n\u001b[32m     73\u001b[39m     \u001b[38;5;28;01mif\u001b[39;00m artist.get_agg_filter() \u001b[38;5;129;01mis\u001b[39;00m \u001b[38;5;129;01mnot\u001b[39;00m \u001b[38;5;28;01mNone\u001b[39;00m:\n",
      "\u001b[36mFile \u001b[39m\u001b[32m~\\AppData\\Roaming\\Python\\Python313\\site-packages\\matplotlib\\axes\\_base.py:3216\u001b[39m, in \u001b[36m_AxesBase.draw\u001b[39m\u001b[34m(self, renderer)\u001b[39m\n\u001b[32m   3213\u001b[39m \u001b[38;5;28;01mif\u001b[39;00m artists_rasterized:\n\u001b[32m   3214\u001b[39m     _draw_rasterized(\u001b[38;5;28mself\u001b[39m.get_figure(root=\u001b[38;5;28;01mTrue\u001b[39;00m), artists_rasterized, renderer)\n\u001b[32m-> \u001b[39m\u001b[32m3216\u001b[39m \u001b[43mmimage\u001b[49m\u001b[43m.\u001b[49m\u001b[43m_draw_list_compositing_images\u001b[49m\u001b[43m(\u001b[49m\n\u001b[32m   3217\u001b[39m \u001b[43m    \u001b[49m\u001b[43mrenderer\u001b[49m\u001b[43m,\u001b[49m\u001b[43m \u001b[49m\u001b[38;5;28;43mself\u001b[39;49m\u001b[43m,\u001b[49m\u001b[43m \u001b[49m\u001b[43martists\u001b[49m\u001b[43m,\u001b[49m\u001b[43m \u001b[49m\u001b[38;5;28;43mself\u001b[39;49m\u001b[43m.\u001b[49m\u001b[43mget_figure\u001b[49m\u001b[43m(\u001b[49m\u001b[43mroot\u001b[49m\u001b[43m=\u001b[49m\u001b[38;5;28;43;01mTrue\u001b[39;49;00m\u001b[43m)\u001b[49m\u001b[43m.\u001b[49m\u001b[43msuppressComposite\u001b[49m\u001b[43m)\u001b[49m\n\u001b[32m   3219\u001b[39m renderer.close_group(\u001b[33m'\u001b[39m\u001b[33maxes\u001b[39m\u001b[33m'\u001b[39m)\n\u001b[32m   3220\u001b[39m \u001b[38;5;28mself\u001b[39m.stale = \u001b[38;5;28;01mFalse\u001b[39;00m\n",
      "\u001b[36mFile \u001b[39m\u001b[32m~\\AppData\\Roaming\\Python\\Python313\\site-packages\\matplotlib\\image.py:134\u001b[39m, in \u001b[36m_draw_list_compositing_images\u001b[39m\u001b[34m(renderer, parent, artists, suppress_composite)\u001b[39m\n\u001b[32m    132\u001b[39m \u001b[38;5;28;01mif\u001b[39;00m not_composite \u001b[38;5;129;01mor\u001b[39;00m \u001b[38;5;129;01mnot\u001b[39;00m has_images:\n\u001b[32m    133\u001b[39m     \u001b[38;5;28;01mfor\u001b[39;00m a \u001b[38;5;129;01min\u001b[39;00m artists:\n\u001b[32m--> \u001b[39m\u001b[32m134\u001b[39m         \u001b[43ma\u001b[49m\u001b[43m.\u001b[49m\u001b[43mdraw\u001b[49m\u001b[43m(\u001b[49m\u001b[43mrenderer\u001b[49m\u001b[43m)\u001b[49m\n\u001b[32m    135\u001b[39m \u001b[38;5;28;01melse\u001b[39;00m:\n\u001b[32m    136\u001b[39m     \u001b[38;5;66;03m# Composite any adjacent images together\u001b[39;00m\n\u001b[32m    137\u001b[39m     image_group = []\n",
      "\u001b[36mFile \u001b[39m\u001b[32m~\\AppData\\Roaming\\Python\\Python313\\site-packages\\matplotlib\\artist.py:71\u001b[39m, in \u001b[36mallow_rasterization.<locals>.draw_wrapper\u001b[39m\u001b[34m(artist, renderer)\u001b[39m\n\u001b[32m     68\u001b[39m     \u001b[38;5;28;01mif\u001b[39;00m artist.get_agg_filter() \u001b[38;5;129;01mis\u001b[39;00m \u001b[38;5;129;01mnot\u001b[39;00m \u001b[38;5;28;01mNone\u001b[39;00m:\n\u001b[32m     69\u001b[39m         renderer.start_filter()\n\u001b[32m---> \u001b[39m\u001b[32m71\u001b[39m     \u001b[38;5;28;01mreturn\u001b[39;00m \u001b[43mdraw\u001b[49m\u001b[43m(\u001b[49m\u001b[43martist\u001b[49m\u001b[43m,\u001b[49m\u001b[43m \u001b[49m\u001b[43mrenderer\u001b[49m\u001b[43m)\u001b[49m\n\u001b[32m     72\u001b[39m \u001b[38;5;28;01mfinally\u001b[39;00m:\n\u001b[32m     73\u001b[39m     \u001b[38;5;28;01mif\u001b[39;00m artist.get_agg_filter() \u001b[38;5;129;01mis\u001b[39;00m \u001b[38;5;129;01mnot\u001b[39;00m \u001b[38;5;28;01mNone\u001b[39;00m:\n",
      "\u001b[36mFile \u001b[39m\u001b[32m~\\AppData\\Roaming\\Python\\Python313\\site-packages\\matplotlib\\image.py:609\u001b[39m, in \u001b[36m_ImageBase.draw\u001b[39m\u001b[34m(self, renderer)\u001b[39m\n\u001b[32m    607\u001b[39m         renderer.draw_image(gc, l, b, im, trans)\n\u001b[32m    608\u001b[39m \u001b[38;5;28;01melse\u001b[39;00m:\n\u001b[32m--> \u001b[39m\u001b[32m609\u001b[39m     im, l, b, trans = \u001b[38;5;28;43mself\u001b[39;49m\u001b[43m.\u001b[49m\u001b[43mmake_image\u001b[49m\u001b[43m(\u001b[49m\n\u001b[32m    610\u001b[39m \u001b[43m        \u001b[49m\u001b[43mrenderer\u001b[49m\u001b[43m,\u001b[49m\u001b[43m \u001b[49m\u001b[43mrenderer\u001b[49m\u001b[43m.\u001b[49m\u001b[43mget_image_magnification\u001b[49m\u001b[43m(\u001b[49m\u001b[43m)\u001b[49m\u001b[43m)\u001b[49m\n\u001b[32m    611\u001b[39m     \u001b[38;5;28;01mif\u001b[39;00m im \u001b[38;5;129;01mis\u001b[39;00m \u001b[38;5;129;01mnot\u001b[39;00m \u001b[38;5;28;01mNone\u001b[39;00m:\n\u001b[32m    612\u001b[39m         renderer.draw_image(gc, l, b, im)\n",
      "\u001b[36mFile \u001b[39m\u001b[32m~\\AppData\\Roaming\\Python\\Python313\\site-packages\\matplotlib\\image.py:912\u001b[39m, in \u001b[36mAxesImage.make_image\u001b[39m\u001b[34m(self, renderer, magnification, unsampled)\u001b[39m\n\u001b[32m    909\u001b[39m transformed_bbox = TransformedBbox(bbox, trans)\n\u001b[32m    910\u001b[39m clip = ((\u001b[38;5;28mself\u001b[39m.get_clip_box() \u001b[38;5;129;01mor\u001b[39;00m \u001b[38;5;28mself\u001b[39m.axes.bbox) \u001b[38;5;28;01mif\u001b[39;00m \u001b[38;5;28mself\u001b[39m.get_clip_on()\n\u001b[32m    911\u001b[39m         \u001b[38;5;28;01melse\u001b[39;00m \u001b[38;5;28mself\u001b[39m.get_figure(root=\u001b[38;5;28;01mTrue\u001b[39;00m).bbox)\n\u001b[32m--> \u001b[39m\u001b[32m912\u001b[39m \u001b[38;5;28;01mreturn\u001b[39;00m \u001b[38;5;28;43mself\u001b[39;49m\u001b[43m.\u001b[49m\u001b[43m_make_image\u001b[49m\u001b[43m(\u001b[49m\u001b[38;5;28;43mself\u001b[39;49m\u001b[43m.\u001b[49m\u001b[43m_A\u001b[49m\u001b[43m,\u001b[49m\u001b[43m \u001b[49m\u001b[43mbbox\u001b[49m\u001b[43m,\u001b[49m\u001b[43m \u001b[49m\u001b[43mtransformed_bbox\u001b[49m\u001b[43m,\u001b[49m\u001b[43m \u001b[49m\u001b[43mclip\u001b[49m\u001b[43m,\u001b[49m\n\u001b[32m    913\u001b[39m \u001b[43m                        \u001b[49m\u001b[43mmagnification\u001b[49m\u001b[43m,\u001b[49m\u001b[43m \u001b[49m\u001b[43munsampled\u001b[49m\u001b[43m=\u001b[49m\u001b[43munsampled\u001b[49m\u001b[43m)\u001b[49m\n",
      "\u001b[36mFile \u001b[39m\u001b[32m~\\AppData\\Roaming\\Python\\Python313\\site-packages\\matplotlib\\image.py:503\u001b[39m, in \u001b[36m_ImageBase._make_image\u001b[39m\u001b[34m(self, A, in_bbox, out_bbox, clip_bbox, magnification, unsampled, round_to_pixel_border)\u001b[39m\n\u001b[32m    501\u001b[39m \u001b[38;5;28;01mif\u001b[39;00m A.ndim == \u001b[32m2\u001b[39m:  \u001b[38;5;66;03m# interpolation_stage = 'rgba'\u001b[39;00m\n\u001b[32m    502\u001b[39m     \u001b[38;5;28mself\u001b[39m.norm.autoscale_None(A)\n\u001b[32m--> \u001b[39m\u001b[32m503\u001b[39m     A = \u001b[38;5;28;43mself\u001b[39;49m\u001b[43m.\u001b[49m\u001b[43mto_rgba\u001b[49m\u001b[43m(\u001b[49m\u001b[43mA\u001b[49m\u001b[43m)\u001b[49m\n\u001b[32m    504\u001b[39m alpha = \u001b[38;5;28mself\u001b[39m.get_alpha()\n\u001b[32m    505\u001b[39m \u001b[38;5;28;01mif\u001b[39;00m alpha \u001b[38;5;129;01mis\u001b[39;00m \u001b[38;5;28;01mNone\u001b[39;00m:  \u001b[38;5;66;03m# alpha parameter not specified\u001b[39;00m\n",
      "\u001b[36mFile \u001b[39m\u001b[32m~\\AppData\\Roaming\\Python\\Python313\\site-packages\\matplotlib\\colorizer.py:367\u001b[39m, in \u001b[36m_ColorizerInterface.to_rgba\u001b[39m\u001b[34m(self, x, alpha, bytes, norm)\u001b[39m\n\u001b[32m    337\u001b[39m \u001b[38;5;28;01mdef\u001b[39;00m\u001b[38;5;250m \u001b[39m\u001b[34mto_rgba\u001b[39m(\u001b[38;5;28mself\u001b[39m, x, alpha=\u001b[38;5;28;01mNone\u001b[39;00m, \u001b[38;5;28mbytes\u001b[39m=\u001b[38;5;28;01mFalse\u001b[39;00m, norm=\u001b[38;5;28;01mTrue\u001b[39;00m):\n\u001b[32m    338\u001b[39m \u001b[38;5;250m    \u001b[39m\u001b[33;03m\"\"\"\u001b[39;00m\n\u001b[32m    339\u001b[39m \u001b[33;03m    Return a normalized RGBA array corresponding to *x*.\u001b[39;00m\n\u001b[32m    340\u001b[39m \n\u001b[32m   (...)\u001b[39m\u001b[32m    365\u001b[39m \n\u001b[32m    366\u001b[39m \u001b[33;03m    \"\"\"\u001b[39;00m\n\u001b[32m--> \u001b[39m\u001b[32m367\u001b[39m     \u001b[38;5;28;01mreturn\u001b[39;00m \u001b[38;5;28;43mself\u001b[39;49m\u001b[43m.\u001b[49m\u001b[43m_colorizer\u001b[49m\u001b[43m.\u001b[49m\u001b[43mto_rgba\u001b[49m\u001b[43m(\u001b[49m\u001b[43mx\u001b[49m\u001b[43m,\u001b[49m\u001b[43m \u001b[49m\u001b[43malpha\u001b[49m\u001b[43m=\u001b[49m\u001b[43malpha\u001b[49m\u001b[43m,\u001b[49m\u001b[43m \u001b[49m\u001b[38;5;28;43mbytes\u001b[39;49m\u001b[43m=\u001b[49m\u001b[38;5;28;43mbytes\u001b[39;49m\u001b[43m,\u001b[49m\u001b[43m \u001b[49m\u001b[43mnorm\u001b[49m\u001b[43m=\u001b[49m\u001b[43mnorm\u001b[49m\u001b[43m)\u001b[49m\n",
      "\u001b[36mFile \u001b[39m\u001b[32m~\\AppData\\Roaming\\Python\\Python313\\site-packages\\matplotlib\\colorizer.py:158\u001b[39m, in \u001b[36mColorizer.to_rgba\u001b[39m\u001b[34m(self, x, alpha, bytes, norm)\u001b[39m\n\u001b[32m    156\u001b[39m \u001b[38;5;28;01mif\u001b[39;00m norm:\n\u001b[32m    157\u001b[39m     x = \u001b[38;5;28mself\u001b[39m.norm(x)\n\u001b[32m--> \u001b[39m\u001b[32m158\u001b[39m rgba = \u001b[38;5;28;43mself\u001b[39;49m\u001b[43m.\u001b[49m\u001b[43mcmap\u001b[49m\u001b[43m(\u001b[49m\u001b[43mx\u001b[49m\u001b[43m,\u001b[49m\u001b[43m \u001b[49m\u001b[43malpha\u001b[49m\u001b[43m=\u001b[49m\u001b[43malpha\u001b[49m\u001b[43m,\u001b[49m\u001b[43m \u001b[49m\u001b[38;5;28;43mbytes\u001b[39;49m\u001b[43m=\u001b[49m\u001b[38;5;28;43mbytes\u001b[39;49m\u001b[43m)\u001b[49m\n\u001b[32m    159\u001b[39m \u001b[38;5;28;01mreturn\u001b[39;00m rgba\n",
      "\u001b[36mFile \u001b[39m\u001b[32m~\\AppData\\Roaming\\Python\\Python313\\site-packages\\matplotlib\\colors.py:740\u001b[39m, in \u001b[36mColormap.__call__\u001b[39m\u001b[34m(self, X, alpha, bytes)\u001b[39m\n\u001b[32m    717\u001b[39m \u001b[38;5;28;01mdef\u001b[39;00m\u001b[38;5;250m \u001b[39m\u001b[34m__call__\u001b[39m(\u001b[38;5;28mself\u001b[39m, X, alpha=\u001b[38;5;28;01mNone\u001b[39;00m, \u001b[38;5;28mbytes\u001b[39m=\u001b[38;5;28;01mFalse\u001b[39;00m):\n\u001b[32m    718\u001b[39m \u001b[38;5;250m    \u001b[39m\u001b[33mr\u001b[39m\u001b[33;03m\"\"\"\u001b[39;00m\n\u001b[32m    719\u001b[39m \u001b[33;03m    Parameters\u001b[39;00m\n\u001b[32m    720\u001b[39m \u001b[33;03m    ----------\u001b[39;00m\n\u001b[32m   (...)\u001b[39m\u001b[32m    738\u001b[39m \u001b[33;03m    RGBA values with a shape of ``X.shape + (4, )``.\u001b[39;00m\n\u001b[32m    739\u001b[39m \u001b[33;03m    \"\"\"\u001b[39;00m\n\u001b[32m--> \u001b[39m\u001b[32m740\u001b[39m     rgba, mask = \u001b[38;5;28;43mself\u001b[39;49m\u001b[43m.\u001b[49m\u001b[43m_get_rgba_and_mask\u001b[49m\u001b[43m(\u001b[49m\u001b[43mX\u001b[49m\u001b[43m,\u001b[49m\u001b[43m \u001b[49m\u001b[43malpha\u001b[49m\u001b[43m=\u001b[49m\u001b[43malpha\u001b[49m\u001b[43m,\u001b[49m\u001b[43m \u001b[49m\u001b[38;5;28;43mbytes\u001b[39;49m\u001b[43m=\u001b[49m\u001b[38;5;28;43mbytes\u001b[39;49m\u001b[43m)\u001b[49m\n\u001b[32m    741\u001b[39m     \u001b[38;5;28;01mif\u001b[39;00m \u001b[38;5;129;01mnot\u001b[39;00m np.iterable(X):\n\u001b[32m    742\u001b[39m         rgba = \u001b[38;5;28mtuple\u001b[39m(rgba)\n",
      "\u001b[36mFile \u001b[39m\u001b[32m~\\AppData\\Roaming\\Python\\Python313\\site-packages\\matplotlib\\colors.py:789\u001b[39m, in \u001b[36mColormap._get_rgba_and_mask\u001b[39m\u001b[34m(self, X, alpha, bytes)\u001b[39m\n\u001b[32m    786\u001b[39m mask_bad = X.mask \u001b[38;5;28;01mif\u001b[39;00m np.ma.is_masked(X) \u001b[38;5;28;01melse\u001b[39;00m np.isnan(xa)\n\u001b[32m    787\u001b[39m \u001b[38;5;28;01mwith\u001b[39;00m np.errstate(invalid=\u001b[33m\"\u001b[39m\u001b[33mignore\u001b[39m\u001b[33m\"\u001b[39m):\n\u001b[32m    788\u001b[39m     \u001b[38;5;66;03m# We need this cast for unsigned ints as well as floats\u001b[39;00m\n\u001b[32m--> \u001b[39m\u001b[32m789\u001b[39m     xa = \u001b[43mxa\u001b[49m\u001b[43m.\u001b[49m\u001b[43mastype\u001b[49m\u001b[43m(\u001b[49m\u001b[38;5;28;43mint\u001b[39;49m\u001b[43m)\u001b[49m\n\u001b[32m    790\u001b[39m xa[mask_under] = \u001b[38;5;28mself\u001b[39m._i_under\n\u001b[32m    791\u001b[39m xa[mask_over] = \u001b[38;5;28mself\u001b[39m._i_over\n",
      "\u001b[31mMemoryError\u001b[39m: Unable to allocate 183. MiB for an array with shape (4000, 6000) and data type int64"
     ]
    },
    {
     "ename": "MemoryError",
     "evalue": "Unable to allocate 91.6 MiB for an array with shape (4000, 6000, 4) and data type uint8",
     "output_type": "error",
     "traceback": [
      "\u001b[31m---------------------------------------------------------------------------\u001b[39m",
      "\u001b[31mMemoryError\u001b[39m                               Traceback (most recent call last)",
      "\u001b[36mFile \u001b[39m\u001b[32m~\\AppData\\Roaming\\Python\\Python313\\site-packages\\IPython\\core\\formatters.py:402\u001b[39m, in \u001b[36mBaseFormatter.__call__\u001b[39m\u001b[34m(self, obj)\u001b[39m\n\u001b[32m    400\u001b[39m     \u001b[38;5;28;01mpass\u001b[39;00m\n\u001b[32m    401\u001b[39m \u001b[38;5;28;01melse\u001b[39;00m:\n\u001b[32m--> \u001b[39m\u001b[32m402\u001b[39m     \u001b[38;5;28;01mreturn\u001b[39;00m \u001b[43mprinter\u001b[49m\u001b[43m(\u001b[49m\u001b[43mobj\u001b[49m\u001b[43m)\u001b[49m\n\u001b[32m    403\u001b[39m \u001b[38;5;66;03m# Finally look for special method names\u001b[39;00m\n\u001b[32m    404\u001b[39m method = get_real_method(obj, \u001b[38;5;28mself\u001b[39m.print_method)\n",
      "\u001b[36mFile \u001b[39m\u001b[32m~\\AppData\\Roaming\\Python\\Python313\\site-packages\\IPython\\core\\pylabtools.py:170\u001b[39m, in \u001b[36mprint_figure\u001b[39m\u001b[34m(fig, fmt, bbox_inches, base64, **kwargs)\u001b[39m\n\u001b[32m    167\u001b[39m     \u001b[38;5;28;01mfrom\u001b[39;00m\u001b[38;5;250m \u001b[39m\u001b[34;01mmatplotlib\u001b[39;00m\u001b[34;01m.\u001b[39;00m\u001b[34;01mbackend_bases\u001b[39;00m\u001b[38;5;250m \u001b[39m\u001b[38;5;28;01mimport\u001b[39;00m FigureCanvasBase\n\u001b[32m    168\u001b[39m     FigureCanvasBase(fig)\n\u001b[32m--> \u001b[39m\u001b[32m170\u001b[39m \u001b[43mfig\u001b[49m\u001b[43m.\u001b[49m\u001b[43mcanvas\u001b[49m\u001b[43m.\u001b[49m\u001b[43mprint_figure\u001b[49m\u001b[43m(\u001b[49m\u001b[43mbytes_io\u001b[49m\u001b[43m,\u001b[49m\u001b[43m \u001b[49m\u001b[43m*\u001b[49m\u001b[43m*\u001b[49m\u001b[43mkw\u001b[49m\u001b[43m)\u001b[49m\n\u001b[32m    171\u001b[39m data = bytes_io.getvalue()\n\u001b[32m    172\u001b[39m \u001b[38;5;28;01mif\u001b[39;00m fmt == \u001b[33m'\u001b[39m\u001b[33msvg\u001b[39m\u001b[33m'\u001b[39m:\n",
      "\u001b[36mFile \u001b[39m\u001b[32m~\\AppData\\Roaming\\Python\\Python313\\site-packages\\matplotlib\\backend_bases.py:2155\u001b[39m, in \u001b[36mFigureCanvasBase.print_figure\u001b[39m\u001b[34m(self, filename, dpi, facecolor, edgecolor, orientation, format, bbox_inches, pad_inches, bbox_extra_artists, backend, **kwargs)\u001b[39m\n\u001b[32m   2152\u001b[39m     \u001b[38;5;66;03m# we do this instead of `self.figure.draw_without_rendering`\u001b[39;00m\n\u001b[32m   2153\u001b[39m     \u001b[38;5;66;03m# so that we can inject the orientation\u001b[39;00m\n\u001b[32m   2154\u001b[39m     \u001b[38;5;28;01mwith\u001b[39;00m \u001b[38;5;28mgetattr\u001b[39m(renderer, \u001b[33m\"\u001b[39m\u001b[33m_draw_disabled\u001b[39m\u001b[33m\"\u001b[39m, nullcontext)():\n\u001b[32m-> \u001b[39m\u001b[32m2155\u001b[39m         \u001b[38;5;28;43mself\u001b[39;49m\u001b[43m.\u001b[49m\u001b[43mfigure\u001b[49m\u001b[43m.\u001b[49m\u001b[43mdraw\u001b[49m\u001b[43m(\u001b[49m\u001b[43mrenderer\u001b[49m\u001b[43m)\u001b[49m\n\u001b[32m   2156\u001b[39m \u001b[38;5;28;01mif\u001b[39;00m bbox_inches:\n\u001b[32m   2157\u001b[39m     \u001b[38;5;28;01mif\u001b[39;00m bbox_inches == \u001b[33m\"\u001b[39m\u001b[33mtight\u001b[39m\u001b[33m\"\u001b[39m:\n",
      "\u001b[36mFile \u001b[39m\u001b[32m~\\AppData\\Roaming\\Python\\Python313\\site-packages\\matplotlib\\artist.py:94\u001b[39m, in \u001b[36m_finalize_rasterization.<locals>.draw_wrapper\u001b[39m\u001b[34m(artist, renderer, *args, **kwargs)\u001b[39m\n\u001b[32m     92\u001b[39m \u001b[38;5;129m@wraps\u001b[39m(draw)\n\u001b[32m     93\u001b[39m \u001b[38;5;28;01mdef\u001b[39;00m\u001b[38;5;250m \u001b[39m\u001b[34mdraw_wrapper\u001b[39m(artist, renderer, *args, **kwargs):\n\u001b[32m---> \u001b[39m\u001b[32m94\u001b[39m     result = \u001b[43mdraw\u001b[49m\u001b[43m(\u001b[49m\u001b[43martist\u001b[49m\u001b[43m,\u001b[49m\u001b[43m \u001b[49m\u001b[43mrenderer\u001b[49m\u001b[43m,\u001b[49m\u001b[43m \u001b[49m\u001b[43m*\u001b[49m\u001b[43margs\u001b[49m\u001b[43m,\u001b[49m\u001b[43m \u001b[49m\u001b[43m*\u001b[49m\u001b[43m*\u001b[49m\u001b[43mkwargs\u001b[49m\u001b[43m)\u001b[49m\n\u001b[32m     95\u001b[39m     \u001b[38;5;28;01mif\u001b[39;00m renderer._rasterizing:\n\u001b[32m     96\u001b[39m         renderer.stop_rasterizing()\n",
      "\u001b[36mFile \u001b[39m\u001b[32m~\\AppData\\Roaming\\Python\\Python313\\site-packages\\matplotlib\\artist.py:71\u001b[39m, in \u001b[36mallow_rasterization.<locals>.draw_wrapper\u001b[39m\u001b[34m(artist, renderer)\u001b[39m\n\u001b[32m     68\u001b[39m     \u001b[38;5;28;01mif\u001b[39;00m artist.get_agg_filter() \u001b[38;5;129;01mis\u001b[39;00m \u001b[38;5;129;01mnot\u001b[39;00m \u001b[38;5;28;01mNone\u001b[39;00m:\n\u001b[32m     69\u001b[39m         renderer.start_filter()\n\u001b[32m---> \u001b[39m\u001b[32m71\u001b[39m     \u001b[38;5;28;01mreturn\u001b[39;00m \u001b[43mdraw\u001b[49m\u001b[43m(\u001b[49m\u001b[43martist\u001b[49m\u001b[43m,\u001b[49m\u001b[43m \u001b[49m\u001b[43mrenderer\u001b[49m\u001b[43m)\u001b[49m\n\u001b[32m     72\u001b[39m \u001b[38;5;28;01mfinally\u001b[39;00m:\n\u001b[32m     73\u001b[39m     \u001b[38;5;28;01mif\u001b[39;00m artist.get_agg_filter() \u001b[38;5;129;01mis\u001b[39;00m \u001b[38;5;129;01mnot\u001b[39;00m \u001b[38;5;28;01mNone\u001b[39;00m:\n",
      "\u001b[36mFile \u001b[39m\u001b[32m~\\AppData\\Roaming\\Python\\Python313\\site-packages\\matplotlib\\figure.py:3257\u001b[39m, in \u001b[36mFigure.draw\u001b[39m\u001b[34m(self, renderer)\u001b[39m\n\u001b[32m   3254\u001b[39m             \u001b[38;5;66;03m# ValueError can occur when resizing a window.\u001b[39;00m\n\u001b[32m   3256\u001b[39m     \u001b[38;5;28mself\u001b[39m.patch.draw(renderer)\n\u001b[32m-> \u001b[39m\u001b[32m3257\u001b[39m     \u001b[43mmimage\u001b[49m\u001b[43m.\u001b[49m\u001b[43m_draw_list_compositing_images\u001b[49m\u001b[43m(\u001b[49m\n\u001b[32m   3258\u001b[39m \u001b[43m        \u001b[49m\u001b[43mrenderer\u001b[49m\u001b[43m,\u001b[49m\u001b[43m \u001b[49m\u001b[38;5;28;43mself\u001b[39;49m\u001b[43m,\u001b[49m\u001b[43m \u001b[49m\u001b[43martists\u001b[49m\u001b[43m,\u001b[49m\u001b[43m \u001b[49m\u001b[38;5;28;43mself\u001b[39;49m\u001b[43m.\u001b[49m\u001b[43msuppressComposite\u001b[49m\u001b[43m)\u001b[49m\n\u001b[32m   3260\u001b[39m     renderer.close_group(\u001b[33m'\u001b[39m\u001b[33mfigure\u001b[39m\u001b[33m'\u001b[39m)\n\u001b[32m   3261\u001b[39m \u001b[38;5;28;01mfinally\u001b[39;00m:\n",
      "\u001b[36mFile \u001b[39m\u001b[32m~\\AppData\\Roaming\\Python\\Python313\\site-packages\\matplotlib\\image.py:134\u001b[39m, in \u001b[36m_draw_list_compositing_images\u001b[39m\u001b[34m(renderer, parent, artists, suppress_composite)\u001b[39m\n\u001b[32m    132\u001b[39m \u001b[38;5;28;01mif\u001b[39;00m not_composite \u001b[38;5;129;01mor\u001b[39;00m \u001b[38;5;129;01mnot\u001b[39;00m has_images:\n\u001b[32m    133\u001b[39m     \u001b[38;5;28;01mfor\u001b[39;00m a \u001b[38;5;129;01min\u001b[39;00m artists:\n\u001b[32m--> \u001b[39m\u001b[32m134\u001b[39m         \u001b[43ma\u001b[49m\u001b[43m.\u001b[49m\u001b[43mdraw\u001b[49m\u001b[43m(\u001b[49m\u001b[43mrenderer\u001b[49m\u001b[43m)\u001b[49m\n\u001b[32m    135\u001b[39m \u001b[38;5;28;01melse\u001b[39;00m:\n\u001b[32m    136\u001b[39m     \u001b[38;5;66;03m# Composite any adjacent images together\u001b[39;00m\n\u001b[32m    137\u001b[39m     image_group = []\n",
      "\u001b[36mFile \u001b[39m\u001b[32m~\\AppData\\Roaming\\Python\\Python313\\site-packages\\matplotlib\\artist.py:71\u001b[39m, in \u001b[36mallow_rasterization.<locals>.draw_wrapper\u001b[39m\u001b[34m(artist, renderer)\u001b[39m\n\u001b[32m     68\u001b[39m     \u001b[38;5;28;01mif\u001b[39;00m artist.get_agg_filter() \u001b[38;5;129;01mis\u001b[39;00m \u001b[38;5;129;01mnot\u001b[39;00m \u001b[38;5;28;01mNone\u001b[39;00m:\n\u001b[32m     69\u001b[39m         renderer.start_filter()\n\u001b[32m---> \u001b[39m\u001b[32m71\u001b[39m     \u001b[38;5;28;01mreturn\u001b[39;00m \u001b[43mdraw\u001b[49m\u001b[43m(\u001b[49m\u001b[43martist\u001b[49m\u001b[43m,\u001b[49m\u001b[43m \u001b[49m\u001b[43mrenderer\u001b[49m\u001b[43m)\u001b[49m\n\u001b[32m     72\u001b[39m \u001b[38;5;28;01mfinally\u001b[39;00m:\n\u001b[32m     73\u001b[39m     \u001b[38;5;28;01mif\u001b[39;00m artist.get_agg_filter() \u001b[38;5;129;01mis\u001b[39;00m \u001b[38;5;129;01mnot\u001b[39;00m \u001b[38;5;28;01mNone\u001b[39;00m:\n",
      "\u001b[36mFile \u001b[39m\u001b[32m~\\AppData\\Roaming\\Python\\Python313\\site-packages\\matplotlib\\axes\\_base.py:3216\u001b[39m, in \u001b[36m_AxesBase.draw\u001b[39m\u001b[34m(self, renderer)\u001b[39m\n\u001b[32m   3213\u001b[39m \u001b[38;5;28;01mif\u001b[39;00m artists_rasterized:\n\u001b[32m   3214\u001b[39m     _draw_rasterized(\u001b[38;5;28mself\u001b[39m.get_figure(root=\u001b[38;5;28;01mTrue\u001b[39;00m), artists_rasterized, renderer)\n\u001b[32m-> \u001b[39m\u001b[32m3216\u001b[39m \u001b[43mmimage\u001b[49m\u001b[43m.\u001b[49m\u001b[43m_draw_list_compositing_images\u001b[49m\u001b[43m(\u001b[49m\n\u001b[32m   3217\u001b[39m \u001b[43m    \u001b[49m\u001b[43mrenderer\u001b[49m\u001b[43m,\u001b[49m\u001b[43m \u001b[49m\u001b[38;5;28;43mself\u001b[39;49m\u001b[43m,\u001b[49m\u001b[43m \u001b[49m\u001b[43martists\u001b[49m\u001b[43m,\u001b[49m\u001b[43m \u001b[49m\u001b[38;5;28;43mself\u001b[39;49m\u001b[43m.\u001b[49m\u001b[43mget_figure\u001b[49m\u001b[43m(\u001b[49m\u001b[43mroot\u001b[49m\u001b[43m=\u001b[49m\u001b[38;5;28;43;01mTrue\u001b[39;49;00m\u001b[43m)\u001b[49m\u001b[43m.\u001b[49m\u001b[43msuppressComposite\u001b[49m\u001b[43m)\u001b[49m\n\u001b[32m   3219\u001b[39m renderer.close_group(\u001b[33m'\u001b[39m\u001b[33maxes\u001b[39m\u001b[33m'\u001b[39m)\n\u001b[32m   3220\u001b[39m \u001b[38;5;28mself\u001b[39m.stale = \u001b[38;5;28;01mFalse\u001b[39;00m\n",
      "\u001b[36mFile \u001b[39m\u001b[32m~\\AppData\\Roaming\\Python\\Python313\\site-packages\\matplotlib\\image.py:134\u001b[39m, in \u001b[36m_draw_list_compositing_images\u001b[39m\u001b[34m(renderer, parent, artists, suppress_composite)\u001b[39m\n\u001b[32m    132\u001b[39m \u001b[38;5;28;01mif\u001b[39;00m not_composite \u001b[38;5;129;01mor\u001b[39;00m \u001b[38;5;129;01mnot\u001b[39;00m has_images:\n\u001b[32m    133\u001b[39m     \u001b[38;5;28;01mfor\u001b[39;00m a \u001b[38;5;129;01min\u001b[39;00m artists:\n\u001b[32m--> \u001b[39m\u001b[32m134\u001b[39m         \u001b[43ma\u001b[49m\u001b[43m.\u001b[49m\u001b[43mdraw\u001b[49m\u001b[43m(\u001b[49m\u001b[43mrenderer\u001b[49m\u001b[43m)\u001b[49m\n\u001b[32m    135\u001b[39m \u001b[38;5;28;01melse\u001b[39;00m:\n\u001b[32m    136\u001b[39m     \u001b[38;5;66;03m# Composite any adjacent images together\u001b[39;00m\n\u001b[32m    137\u001b[39m     image_group = []\n",
      "\u001b[36mFile \u001b[39m\u001b[32m~\\AppData\\Roaming\\Python\\Python313\\site-packages\\matplotlib\\artist.py:71\u001b[39m, in \u001b[36mallow_rasterization.<locals>.draw_wrapper\u001b[39m\u001b[34m(artist, renderer)\u001b[39m\n\u001b[32m     68\u001b[39m     \u001b[38;5;28;01mif\u001b[39;00m artist.get_agg_filter() \u001b[38;5;129;01mis\u001b[39;00m \u001b[38;5;129;01mnot\u001b[39;00m \u001b[38;5;28;01mNone\u001b[39;00m:\n\u001b[32m     69\u001b[39m         renderer.start_filter()\n\u001b[32m---> \u001b[39m\u001b[32m71\u001b[39m     \u001b[38;5;28;01mreturn\u001b[39;00m \u001b[43mdraw\u001b[49m\u001b[43m(\u001b[49m\u001b[43martist\u001b[49m\u001b[43m,\u001b[49m\u001b[43m \u001b[49m\u001b[43mrenderer\u001b[49m\u001b[43m)\u001b[49m\n\u001b[32m     72\u001b[39m \u001b[38;5;28;01mfinally\u001b[39;00m:\n\u001b[32m     73\u001b[39m     \u001b[38;5;28;01mif\u001b[39;00m artist.get_agg_filter() \u001b[38;5;129;01mis\u001b[39;00m \u001b[38;5;129;01mnot\u001b[39;00m \u001b[38;5;28;01mNone\u001b[39;00m:\n",
      "\u001b[36mFile \u001b[39m\u001b[32m~\\AppData\\Roaming\\Python\\Python313\\site-packages\\matplotlib\\image.py:609\u001b[39m, in \u001b[36m_ImageBase.draw\u001b[39m\u001b[34m(self, renderer)\u001b[39m\n\u001b[32m    607\u001b[39m         renderer.draw_image(gc, l, b, im, trans)\n\u001b[32m    608\u001b[39m \u001b[38;5;28;01melse\u001b[39;00m:\n\u001b[32m--> \u001b[39m\u001b[32m609\u001b[39m     im, l, b, trans = \u001b[38;5;28;43mself\u001b[39;49m\u001b[43m.\u001b[49m\u001b[43mmake_image\u001b[49m\u001b[43m(\u001b[49m\n\u001b[32m    610\u001b[39m \u001b[43m        \u001b[49m\u001b[43mrenderer\u001b[49m\u001b[43m,\u001b[49m\u001b[43m \u001b[49m\u001b[43mrenderer\u001b[49m\u001b[43m.\u001b[49m\u001b[43mget_image_magnification\u001b[49m\u001b[43m(\u001b[49m\u001b[43m)\u001b[49m\u001b[43m)\u001b[49m\n\u001b[32m    611\u001b[39m     \u001b[38;5;28;01mif\u001b[39;00m im \u001b[38;5;129;01mis\u001b[39;00m \u001b[38;5;129;01mnot\u001b[39;00m \u001b[38;5;28;01mNone\u001b[39;00m:\n\u001b[32m    612\u001b[39m         renderer.draw_image(gc, l, b, im)\n",
      "\u001b[36mFile \u001b[39m\u001b[32m~\\AppData\\Roaming\\Python\\Python313\\site-packages\\matplotlib\\image.py:912\u001b[39m, in \u001b[36mAxesImage.make_image\u001b[39m\u001b[34m(self, renderer, magnification, unsampled)\u001b[39m\n\u001b[32m    909\u001b[39m transformed_bbox = TransformedBbox(bbox, trans)\n\u001b[32m    910\u001b[39m clip = ((\u001b[38;5;28mself\u001b[39m.get_clip_box() \u001b[38;5;129;01mor\u001b[39;00m \u001b[38;5;28mself\u001b[39m.axes.bbox) \u001b[38;5;28;01mif\u001b[39;00m \u001b[38;5;28mself\u001b[39m.get_clip_on()\n\u001b[32m    911\u001b[39m         \u001b[38;5;28;01melse\u001b[39;00m \u001b[38;5;28mself\u001b[39m.get_figure(root=\u001b[38;5;28;01mTrue\u001b[39;00m).bbox)\n\u001b[32m--> \u001b[39m\u001b[32m912\u001b[39m \u001b[38;5;28;01mreturn\u001b[39;00m \u001b[38;5;28;43mself\u001b[39;49m\u001b[43m.\u001b[49m\u001b[43m_make_image\u001b[49m\u001b[43m(\u001b[49m\u001b[38;5;28;43mself\u001b[39;49m\u001b[43m.\u001b[49m\u001b[43m_A\u001b[49m\u001b[43m,\u001b[49m\u001b[43m \u001b[49m\u001b[43mbbox\u001b[49m\u001b[43m,\u001b[49m\u001b[43m \u001b[49m\u001b[43mtransformed_bbox\u001b[49m\u001b[43m,\u001b[49m\u001b[43m \u001b[49m\u001b[43mclip\u001b[49m\u001b[43m,\u001b[49m\n\u001b[32m    913\u001b[39m \u001b[43m                        \u001b[49m\u001b[43mmagnification\u001b[49m\u001b[43m,\u001b[49m\u001b[43m \u001b[49m\u001b[43munsampled\u001b[49m\u001b[43m=\u001b[49m\u001b[43munsampled\u001b[49m\u001b[43m)\u001b[49m\n",
      "\u001b[36mFile \u001b[39m\u001b[32m~\\AppData\\Roaming\\Python\\Python313\\site-packages\\matplotlib\\image.py:512\u001b[39m, in \u001b[36m_ImageBase._make_image\u001b[39m\u001b[34m(self, A, in_bbox, out_bbox, clip_bbox, magnification, unsampled, round_to_pixel_border)\u001b[39m\n\u001b[32m    508\u001b[39m     \u001b[38;5;28;01melse\u001b[39;00m:\n\u001b[32m    509\u001b[39m         output_alpha = _resample(  \u001b[38;5;66;03m# resample alpha channel\u001b[39;00m\n\u001b[32m    510\u001b[39m             \u001b[38;5;28mself\u001b[39m, A[..., \u001b[32m3\u001b[39m], out_shape, t)\n\u001b[32m    511\u001b[39m     output = _resample(  \u001b[38;5;66;03m# resample rgb channels\u001b[39;00m\n\u001b[32m--> \u001b[39m\u001b[32m512\u001b[39m         \u001b[38;5;28mself\u001b[39m, \u001b[43m_rgb_to_rgba\u001b[49m\u001b[43m(\u001b[49m\u001b[43mA\u001b[49m\u001b[43m[\u001b[49m\u001b[43m.\u001b[49m\u001b[43m.\u001b[49m\u001b[43m.\u001b[49m\u001b[43m,\u001b[49m\u001b[43m \u001b[49m\u001b[43m:\u001b[49m\u001b[32;43m3\u001b[39;49m\u001b[43m]\u001b[49m\u001b[43m)\u001b[49m, out_shape, t)\n\u001b[32m    513\u001b[39m \u001b[38;5;28;01melif\u001b[39;00m np.ndim(alpha) > \u001b[32m0\u001b[39m:  \u001b[38;5;66;03m# Array alpha\u001b[39;00m\n\u001b[32m    514\u001b[39m     \u001b[38;5;66;03m# user-specified array alpha overrides the existing alpha channel\u001b[39;00m\n\u001b[32m    515\u001b[39m     output_alpha = _resample(\u001b[38;5;28mself\u001b[39m, alpha, out_shape, t)\n",
      "\u001b[36mFile \u001b[39m\u001b[32m~\\AppData\\Roaming\\Python\\Python313\\site-packages\\matplotlib\\image.py:224\u001b[39m, in \u001b[36m_rgb_to_rgba\u001b[39m\u001b[34m(A)\u001b[39m\n\u001b[32m    219\u001b[39m \u001b[38;5;28;01mdef\u001b[39;00m\u001b[38;5;250m \u001b[39m\u001b[34m_rgb_to_rgba\u001b[39m(A):\n\u001b[32m    220\u001b[39m \u001b[38;5;250m    \u001b[39m\u001b[33;03m\"\"\"\u001b[39;00m\n\u001b[32m    221\u001b[39m \u001b[33;03m    Convert an RGB image to RGBA, as required by the image resample C++\u001b[39;00m\n\u001b[32m    222\u001b[39m \u001b[33;03m    extension.\u001b[39;00m\n\u001b[32m    223\u001b[39m \u001b[33;03m    \"\"\"\u001b[39;00m\n\u001b[32m--> \u001b[39m\u001b[32m224\u001b[39m     rgba = \u001b[43mnp\u001b[49m\u001b[43m.\u001b[49m\u001b[43mzeros\u001b[49m\u001b[43m(\u001b[49m\u001b[43m(\u001b[49m\u001b[43mA\u001b[49m\u001b[43m.\u001b[49m\u001b[43mshape\u001b[49m\u001b[43m[\u001b[49m\u001b[32;43m0\u001b[39;49m\u001b[43m]\u001b[49m\u001b[43m,\u001b[49m\u001b[43m \u001b[49m\u001b[43mA\u001b[49m\u001b[43m.\u001b[49m\u001b[43mshape\u001b[49m\u001b[43m[\u001b[49m\u001b[32;43m1\u001b[39;49m\u001b[43m]\u001b[49m\u001b[43m,\u001b[49m\u001b[43m \u001b[49m\u001b[32;43m4\u001b[39;49m\u001b[43m)\u001b[49m\u001b[43m,\u001b[49m\u001b[43m \u001b[49m\u001b[43mdtype\u001b[49m\u001b[43m=\u001b[49m\u001b[43mA\u001b[49m\u001b[43m.\u001b[49m\u001b[43mdtype\u001b[49m\u001b[43m)\u001b[49m\n\u001b[32m    225\u001b[39m     rgba[:, :, :\u001b[32m3\u001b[39m] = A\n\u001b[32m    226\u001b[39m     \u001b[38;5;28;01mif\u001b[39;00m rgba.dtype == np.uint8:\n",
      "\u001b[31mMemoryError\u001b[39m: Unable to allocate 91.6 MiB for an array with shape (4000, 6000, 4) and data type uint8"
     ]
    },
    {
     "data": {
      "text/plain": [
       "<Figure size 1200x1000 with 4 Axes>"
      ]
     },
     "metadata": {},
     "output_type": "display_data"
    },
    {
     "ename": "MemoryError",
     "evalue": "Unable to allocate 91.6 MiB for an array with shape (4000, 6000, 4) and data type uint8",
     "output_type": "error",
     "traceback": [
      "\u001b[31m---------------------------------------------------------------------------\u001b[39m",
      "\u001b[31mMemoryError\u001b[39m                               Traceback (most recent call last)",
      "\u001b[36mFile \u001b[39m\u001b[32m~\\AppData\\Roaming\\Python\\Python313\\site-packages\\IPython\\core\\formatters.py:402\u001b[39m, in \u001b[36mBaseFormatter.__call__\u001b[39m\u001b[34m(self, obj)\u001b[39m\n\u001b[32m    400\u001b[39m     \u001b[38;5;28;01mpass\u001b[39;00m\n\u001b[32m    401\u001b[39m \u001b[38;5;28;01melse\u001b[39;00m:\n\u001b[32m--> \u001b[39m\u001b[32m402\u001b[39m     \u001b[38;5;28;01mreturn\u001b[39;00m \u001b[43mprinter\u001b[49m\u001b[43m(\u001b[49m\u001b[43mobj\u001b[49m\u001b[43m)\u001b[49m\n\u001b[32m    403\u001b[39m \u001b[38;5;66;03m# Finally look for special method names\u001b[39;00m\n\u001b[32m    404\u001b[39m method = get_real_method(obj, \u001b[38;5;28mself\u001b[39m.print_method)\n",
      "\u001b[36mFile \u001b[39m\u001b[32m~\\AppData\\Roaming\\Python\\Python313\\site-packages\\IPython\\core\\pylabtools.py:170\u001b[39m, in \u001b[36mprint_figure\u001b[39m\u001b[34m(fig, fmt, bbox_inches, base64, **kwargs)\u001b[39m\n\u001b[32m    167\u001b[39m     \u001b[38;5;28;01mfrom\u001b[39;00m\u001b[38;5;250m \u001b[39m\u001b[34;01mmatplotlib\u001b[39;00m\u001b[34;01m.\u001b[39;00m\u001b[34;01mbackend_bases\u001b[39;00m\u001b[38;5;250m \u001b[39m\u001b[38;5;28;01mimport\u001b[39;00m FigureCanvasBase\n\u001b[32m    168\u001b[39m     FigureCanvasBase(fig)\n\u001b[32m--> \u001b[39m\u001b[32m170\u001b[39m \u001b[43mfig\u001b[49m\u001b[43m.\u001b[49m\u001b[43mcanvas\u001b[49m\u001b[43m.\u001b[49m\u001b[43mprint_figure\u001b[49m\u001b[43m(\u001b[49m\u001b[43mbytes_io\u001b[49m\u001b[43m,\u001b[49m\u001b[43m \u001b[49m\u001b[43m*\u001b[49m\u001b[43m*\u001b[49m\u001b[43mkw\u001b[49m\u001b[43m)\u001b[49m\n\u001b[32m    171\u001b[39m data = bytes_io.getvalue()\n\u001b[32m    172\u001b[39m \u001b[38;5;28;01mif\u001b[39;00m fmt == \u001b[33m'\u001b[39m\u001b[33msvg\u001b[39m\u001b[33m'\u001b[39m:\n",
      "\u001b[36mFile \u001b[39m\u001b[32m~\\AppData\\Roaming\\Python\\Python313\\site-packages\\matplotlib\\backend_bases.py:2155\u001b[39m, in \u001b[36mFigureCanvasBase.print_figure\u001b[39m\u001b[34m(self, filename, dpi, facecolor, edgecolor, orientation, format, bbox_inches, pad_inches, bbox_extra_artists, backend, **kwargs)\u001b[39m\n\u001b[32m   2152\u001b[39m     \u001b[38;5;66;03m# we do this instead of `self.figure.draw_without_rendering`\u001b[39;00m\n\u001b[32m   2153\u001b[39m     \u001b[38;5;66;03m# so that we can inject the orientation\u001b[39;00m\n\u001b[32m   2154\u001b[39m     \u001b[38;5;28;01mwith\u001b[39;00m \u001b[38;5;28mgetattr\u001b[39m(renderer, \u001b[33m\"\u001b[39m\u001b[33m_draw_disabled\u001b[39m\u001b[33m\"\u001b[39m, nullcontext)():\n\u001b[32m-> \u001b[39m\u001b[32m2155\u001b[39m         \u001b[38;5;28;43mself\u001b[39;49m\u001b[43m.\u001b[49m\u001b[43mfigure\u001b[49m\u001b[43m.\u001b[49m\u001b[43mdraw\u001b[49m\u001b[43m(\u001b[49m\u001b[43mrenderer\u001b[49m\u001b[43m)\u001b[49m\n\u001b[32m   2156\u001b[39m \u001b[38;5;28;01mif\u001b[39;00m bbox_inches:\n\u001b[32m   2157\u001b[39m     \u001b[38;5;28;01mif\u001b[39;00m bbox_inches == \u001b[33m\"\u001b[39m\u001b[33mtight\u001b[39m\u001b[33m\"\u001b[39m:\n",
      "\u001b[36mFile \u001b[39m\u001b[32m~\\AppData\\Roaming\\Python\\Python313\\site-packages\\matplotlib\\artist.py:94\u001b[39m, in \u001b[36m_finalize_rasterization.<locals>.draw_wrapper\u001b[39m\u001b[34m(artist, renderer, *args, **kwargs)\u001b[39m\n\u001b[32m     92\u001b[39m \u001b[38;5;129m@wraps\u001b[39m(draw)\n\u001b[32m     93\u001b[39m \u001b[38;5;28;01mdef\u001b[39;00m\u001b[38;5;250m \u001b[39m\u001b[34mdraw_wrapper\u001b[39m(artist, renderer, *args, **kwargs):\n\u001b[32m---> \u001b[39m\u001b[32m94\u001b[39m     result = \u001b[43mdraw\u001b[49m\u001b[43m(\u001b[49m\u001b[43martist\u001b[49m\u001b[43m,\u001b[49m\u001b[43m \u001b[49m\u001b[43mrenderer\u001b[49m\u001b[43m,\u001b[49m\u001b[43m \u001b[49m\u001b[43m*\u001b[49m\u001b[43margs\u001b[49m\u001b[43m,\u001b[49m\u001b[43m \u001b[49m\u001b[43m*\u001b[49m\u001b[43m*\u001b[49m\u001b[43mkwargs\u001b[49m\u001b[43m)\u001b[49m\n\u001b[32m     95\u001b[39m     \u001b[38;5;28;01mif\u001b[39;00m renderer._rasterizing:\n\u001b[32m     96\u001b[39m         renderer.stop_rasterizing()\n",
      "\u001b[36mFile \u001b[39m\u001b[32m~\\AppData\\Roaming\\Python\\Python313\\site-packages\\matplotlib\\artist.py:71\u001b[39m, in \u001b[36mallow_rasterization.<locals>.draw_wrapper\u001b[39m\u001b[34m(artist, renderer)\u001b[39m\n\u001b[32m     68\u001b[39m     \u001b[38;5;28;01mif\u001b[39;00m artist.get_agg_filter() \u001b[38;5;129;01mis\u001b[39;00m \u001b[38;5;129;01mnot\u001b[39;00m \u001b[38;5;28;01mNone\u001b[39;00m:\n\u001b[32m     69\u001b[39m         renderer.start_filter()\n\u001b[32m---> \u001b[39m\u001b[32m71\u001b[39m     \u001b[38;5;28;01mreturn\u001b[39;00m \u001b[43mdraw\u001b[49m\u001b[43m(\u001b[49m\u001b[43martist\u001b[49m\u001b[43m,\u001b[49m\u001b[43m \u001b[49m\u001b[43mrenderer\u001b[49m\u001b[43m)\u001b[49m\n\u001b[32m     72\u001b[39m \u001b[38;5;28;01mfinally\u001b[39;00m:\n\u001b[32m     73\u001b[39m     \u001b[38;5;28;01mif\u001b[39;00m artist.get_agg_filter() \u001b[38;5;129;01mis\u001b[39;00m \u001b[38;5;129;01mnot\u001b[39;00m \u001b[38;5;28;01mNone\u001b[39;00m:\n",
      "\u001b[36mFile \u001b[39m\u001b[32m~\\AppData\\Roaming\\Python\\Python313\\site-packages\\matplotlib\\figure.py:3257\u001b[39m, in \u001b[36mFigure.draw\u001b[39m\u001b[34m(self, renderer)\u001b[39m\n\u001b[32m   3254\u001b[39m             \u001b[38;5;66;03m# ValueError can occur when resizing a window.\u001b[39;00m\n\u001b[32m   3256\u001b[39m     \u001b[38;5;28mself\u001b[39m.patch.draw(renderer)\n\u001b[32m-> \u001b[39m\u001b[32m3257\u001b[39m     \u001b[43mmimage\u001b[49m\u001b[43m.\u001b[49m\u001b[43m_draw_list_compositing_images\u001b[49m\u001b[43m(\u001b[49m\n\u001b[32m   3258\u001b[39m \u001b[43m        \u001b[49m\u001b[43mrenderer\u001b[49m\u001b[43m,\u001b[49m\u001b[43m \u001b[49m\u001b[38;5;28;43mself\u001b[39;49m\u001b[43m,\u001b[49m\u001b[43m \u001b[49m\u001b[43martists\u001b[49m\u001b[43m,\u001b[49m\u001b[43m \u001b[49m\u001b[38;5;28;43mself\u001b[39;49m\u001b[43m.\u001b[49m\u001b[43msuppressComposite\u001b[49m\u001b[43m)\u001b[49m\n\u001b[32m   3260\u001b[39m     renderer.close_group(\u001b[33m'\u001b[39m\u001b[33mfigure\u001b[39m\u001b[33m'\u001b[39m)\n\u001b[32m   3261\u001b[39m \u001b[38;5;28;01mfinally\u001b[39;00m:\n",
      "\u001b[36mFile \u001b[39m\u001b[32m~\\AppData\\Roaming\\Python\\Python313\\site-packages\\matplotlib\\image.py:134\u001b[39m, in \u001b[36m_draw_list_compositing_images\u001b[39m\u001b[34m(renderer, parent, artists, suppress_composite)\u001b[39m\n\u001b[32m    132\u001b[39m \u001b[38;5;28;01mif\u001b[39;00m not_composite \u001b[38;5;129;01mor\u001b[39;00m \u001b[38;5;129;01mnot\u001b[39;00m has_images:\n\u001b[32m    133\u001b[39m     \u001b[38;5;28;01mfor\u001b[39;00m a \u001b[38;5;129;01min\u001b[39;00m artists:\n\u001b[32m--> \u001b[39m\u001b[32m134\u001b[39m         \u001b[43ma\u001b[49m\u001b[43m.\u001b[49m\u001b[43mdraw\u001b[49m\u001b[43m(\u001b[49m\u001b[43mrenderer\u001b[49m\u001b[43m)\u001b[49m\n\u001b[32m    135\u001b[39m \u001b[38;5;28;01melse\u001b[39;00m:\n\u001b[32m    136\u001b[39m     \u001b[38;5;66;03m# Composite any adjacent images together\u001b[39;00m\n\u001b[32m    137\u001b[39m     image_group = []\n",
      "\u001b[36mFile \u001b[39m\u001b[32m~\\AppData\\Roaming\\Python\\Python313\\site-packages\\matplotlib\\artist.py:71\u001b[39m, in \u001b[36mallow_rasterization.<locals>.draw_wrapper\u001b[39m\u001b[34m(artist, renderer)\u001b[39m\n\u001b[32m     68\u001b[39m     \u001b[38;5;28;01mif\u001b[39;00m artist.get_agg_filter() \u001b[38;5;129;01mis\u001b[39;00m \u001b[38;5;129;01mnot\u001b[39;00m \u001b[38;5;28;01mNone\u001b[39;00m:\n\u001b[32m     69\u001b[39m         renderer.start_filter()\n\u001b[32m---> \u001b[39m\u001b[32m71\u001b[39m     \u001b[38;5;28;01mreturn\u001b[39;00m \u001b[43mdraw\u001b[49m\u001b[43m(\u001b[49m\u001b[43martist\u001b[49m\u001b[43m,\u001b[49m\u001b[43m \u001b[49m\u001b[43mrenderer\u001b[49m\u001b[43m)\u001b[49m\n\u001b[32m     72\u001b[39m \u001b[38;5;28;01mfinally\u001b[39;00m:\n\u001b[32m     73\u001b[39m     \u001b[38;5;28;01mif\u001b[39;00m artist.get_agg_filter() \u001b[38;5;129;01mis\u001b[39;00m \u001b[38;5;129;01mnot\u001b[39;00m \u001b[38;5;28;01mNone\u001b[39;00m:\n",
      "\u001b[36mFile \u001b[39m\u001b[32m~\\AppData\\Roaming\\Python\\Python313\\site-packages\\matplotlib\\axes\\_base.py:3216\u001b[39m, in \u001b[36m_AxesBase.draw\u001b[39m\u001b[34m(self, renderer)\u001b[39m\n\u001b[32m   3213\u001b[39m \u001b[38;5;28;01mif\u001b[39;00m artists_rasterized:\n\u001b[32m   3214\u001b[39m     _draw_rasterized(\u001b[38;5;28mself\u001b[39m.get_figure(root=\u001b[38;5;28;01mTrue\u001b[39;00m), artists_rasterized, renderer)\n\u001b[32m-> \u001b[39m\u001b[32m3216\u001b[39m \u001b[43mmimage\u001b[49m\u001b[43m.\u001b[49m\u001b[43m_draw_list_compositing_images\u001b[49m\u001b[43m(\u001b[49m\n\u001b[32m   3217\u001b[39m \u001b[43m    \u001b[49m\u001b[43mrenderer\u001b[49m\u001b[43m,\u001b[49m\u001b[43m \u001b[49m\u001b[38;5;28;43mself\u001b[39;49m\u001b[43m,\u001b[49m\u001b[43m \u001b[49m\u001b[43martists\u001b[49m\u001b[43m,\u001b[49m\u001b[43m \u001b[49m\u001b[38;5;28;43mself\u001b[39;49m\u001b[43m.\u001b[49m\u001b[43mget_figure\u001b[49m\u001b[43m(\u001b[49m\u001b[43mroot\u001b[49m\u001b[43m=\u001b[49m\u001b[38;5;28;43;01mTrue\u001b[39;49;00m\u001b[43m)\u001b[49m\u001b[43m.\u001b[49m\u001b[43msuppressComposite\u001b[49m\u001b[43m)\u001b[49m\n\u001b[32m   3219\u001b[39m renderer.close_group(\u001b[33m'\u001b[39m\u001b[33maxes\u001b[39m\u001b[33m'\u001b[39m)\n\u001b[32m   3220\u001b[39m \u001b[38;5;28mself\u001b[39m.stale = \u001b[38;5;28;01mFalse\u001b[39;00m\n",
      "\u001b[36mFile \u001b[39m\u001b[32m~\\AppData\\Roaming\\Python\\Python313\\site-packages\\matplotlib\\image.py:134\u001b[39m, in \u001b[36m_draw_list_compositing_images\u001b[39m\u001b[34m(renderer, parent, artists, suppress_composite)\u001b[39m\n\u001b[32m    132\u001b[39m \u001b[38;5;28;01mif\u001b[39;00m not_composite \u001b[38;5;129;01mor\u001b[39;00m \u001b[38;5;129;01mnot\u001b[39;00m has_images:\n\u001b[32m    133\u001b[39m     \u001b[38;5;28;01mfor\u001b[39;00m a \u001b[38;5;129;01min\u001b[39;00m artists:\n\u001b[32m--> \u001b[39m\u001b[32m134\u001b[39m         \u001b[43ma\u001b[49m\u001b[43m.\u001b[49m\u001b[43mdraw\u001b[49m\u001b[43m(\u001b[49m\u001b[43mrenderer\u001b[49m\u001b[43m)\u001b[49m\n\u001b[32m    135\u001b[39m \u001b[38;5;28;01melse\u001b[39;00m:\n\u001b[32m    136\u001b[39m     \u001b[38;5;66;03m# Composite any adjacent images together\u001b[39;00m\n\u001b[32m    137\u001b[39m     image_group = []\n",
      "\u001b[36mFile \u001b[39m\u001b[32m~\\AppData\\Roaming\\Python\\Python313\\site-packages\\matplotlib\\artist.py:71\u001b[39m, in \u001b[36mallow_rasterization.<locals>.draw_wrapper\u001b[39m\u001b[34m(artist, renderer)\u001b[39m\n\u001b[32m     68\u001b[39m     \u001b[38;5;28;01mif\u001b[39;00m artist.get_agg_filter() \u001b[38;5;129;01mis\u001b[39;00m \u001b[38;5;129;01mnot\u001b[39;00m \u001b[38;5;28;01mNone\u001b[39;00m:\n\u001b[32m     69\u001b[39m         renderer.start_filter()\n\u001b[32m---> \u001b[39m\u001b[32m71\u001b[39m     \u001b[38;5;28;01mreturn\u001b[39;00m \u001b[43mdraw\u001b[49m\u001b[43m(\u001b[49m\u001b[43martist\u001b[49m\u001b[43m,\u001b[49m\u001b[43m \u001b[49m\u001b[43mrenderer\u001b[49m\u001b[43m)\u001b[49m\n\u001b[32m     72\u001b[39m \u001b[38;5;28;01mfinally\u001b[39;00m:\n\u001b[32m     73\u001b[39m     \u001b[38;5;28;01mif\u001b[39;00m artist.get_agg_filter() \u001b[38;5;129;01mis\u001b[39;00m \u001b[38;5;129;01mnot\u001b[39;00m \u001b[38;5;28;01mNone\u001b[39;00m:\n",
      "\u001b[36mFile \u001b[39m\u001b[32m~\\AppData\\Roaming\\Python\\Python313\\site-packages\\matplotlib\\image.py:609\u001b[39m, in \u001b[36m_ImageBase.draw\u001b[39m\u001b[34m(self, renderer)\u001b[39m\n\u001b[32m    607\u001b[39m         renderer.draw_image(gc, l, b, im, trans)\n\u001b[32m    608\u001b[39m \u001b[38;5;28;01melse\u001b[39;00m:\n\u001b[32m--> \u001b[39m\u001b[32m609\u001b[39m     im, l, b, trans = \u001b[38;5;28;43mself\u001b[39;49m\u001b[43m.\u001b[49m\u001b[43mmake_image\u001b[49m\u001b[43m(\u001b[49m\n\u001b[32m    610\u001b[39m \u001b[43m        \u001b[49m\u001b[43mrenderer\u001b[49m\u001b[43m,\u001b[49m\u001b[43m \u001b[49m\u001b[43mrenderer\u001b[49m\u001b[43m.\u001b[49m\u001b[43mget_image_magnification\u001b[49m\u001b[43m(\u001b[49m\u001b[43m)\u001b[49m\u001b[43m)\u001b[49m\n\u001b[32m    611\u001b[39m     \u001b[38;5;28;01mif\u001b[39;00m im \u001b[38;5;129;01mis\u001b[39;00m \u001b[38;5;129;01mnot\u001b[39;00m \u001b[38;5;28;01mNone\u001b[39;00m:\n\u001b[32m    612\u001b[39m         renderer.draw_image(gc, l, b, im)\n",
      "\u001b[36mFile \u001b[39m\u001b[32m~\\AppData\\Roaming\\Python\\Python313\\site-packages\\matplotlib\\image.py:912\u001b[39m, in \u001b[36mAxesImage.make_image\u001b[39m\u001b[34m(self, renderer, magnification, unsampled)\u001b[39m\n\u001b[32m    909\u001b[39m transformed_bbox = TransformedBbox(bbox, trans)\n\u001b[32m    910\u001b[39m clip = ((\u001b[38;5;28mself\u001b[39m.get_clip_box() \u001b[38;5;129;01mor\u001b[39;00m \u001b[38;5;28mself\u001b[39m.axes.bbox) \u001b[38;5;28;01mif\u001b[39;00m \u001b[38;5;28mself\u001b[39m.get_clip_on()\n\u001b[32m    911\u001b[39m         \u001b[38;5;28;01melse\u001b[39;00m \u001b[38;5;28mself\u001b[39m.get_figure(root=\u001b[38;5;28;01mTrue\u001b[39;00m).bbox)\n\u001b[32m--> \u001b[39m\u001b[32m912\u001b[39m \u001b[38;5;28;01mreturn\u001b[39;00m \u001b[38;5;28;43mself\u001b[39;49m\u001b[43m.\u001b[49m\u001b[43m_make_image\u001b[49m\u001b[43m(\u001b[49m\u001b[38;5;28;43mself\u001b[39;49m\u001b[43m.\u001b[49m\u001b[43m_A\u001b[49m\u001b[43m,\u001b[49m\u001b[43m \u001b[49m\u001b[43mbbox\u001b[49m\u001b[43m,\u001b[49m\u001b[43m \u001b[49m\u001b[43mtransformed_bbox\u001b[49m\u001b[43m,\u001b[49m\u001b[43m \u001b[49m\u001b[43mclip\u001b[49m\u001b[43m,\u001b[49m\n\u001b[32m    913\u001b[39m \u001b[43m                        \u001b[49m\u001b[43mmagnification\u001b[49m\u001b[43m,\u001b[49m\u001b[43m \u001b[49m\u001b[43munsampled\u001b[49m\u001b[43m=\u001b[49m\u001b[43munsampled\u001b[49m\u001b[43m)\u001b[49m\n",
      "\u001b[36mFile \u001b[39m\u001b[32m~\\AppData\\Roaming\\Python\\Python313\\site-packages\\matplotlib\\image.py:512\u001b[39m, in \u001b[36m_ImageBase._make_image\u001b[39m\u001b[34m(self, A, in_bbox, out_bbox, clip_bbox, magnification, unsampled, round_to_pixel_border)\u001b[39m\n\u001b[32m    508\u001b[39m     \u001b[38;5;28;01melse\u001b[39;00m:\n\u001b[32m    509\u001b[39m         output_alpha = _resample(  \u001b[38;5;66;03m# resample alpha channel\u001b[39;00m\n\u001b[32m    510\u001b[39m             \u001b[38;5;28mself\u001b[39m, A[..., \u001b[32m3\u001b[39m], out_shape, t)\n\u001b[32m    511\u001b[39m     output = _resample(  \u001b[38;5;66;03m# resample rgb channels\u001b[39;00m\n\u001b[32m--> \u001b[39m\u001b[32m512\u001b[39m         \u001b[38;5;28mself\u001b[39m, \u001b[43m_rgb_to_rgba\u001b[49m\u001b[43m(\u001b[49m\u001b[43mA\u001b[49m\u001b[43m[\u001b[49m\u001b[43m.\u001b[49m\u001b[43m.\u001b[49m\u001b[43m.\u001b[49m\u001b[43m,\u001b[49m\u001b[43m \u001b[49m\u001b[43m:\u001b[49m\u001b[32;43m3\u001b[39;49m\u001b[43m]\u001b[49m\u001b[43m)\u001b[49m, out_shape, t)\n\u001b[32m    513\u001b[39m \u001b[38;5;28;01melif\u001b[39;00m np.ndim(alpha) > \u001b[32m0\u001b[39m:  \u001b[38;5;66;03m# Array alpha\u001b[39;00m\n\u001b[32m    514\u001b[39m     \u001b[38;5;66;03m# user-specified array alpha overrides the existing alpha channel\u001b[39;00m\n\u001b[32m    515\u001b[39m     output_alpha = _resample(\u001b[38;5;28mself\u001b[39m, alpha, out_shape, t)\n",
      "\u001b[36mFile \u001b[39m\u001b[32m~\\AppData\\Roaming\\Python\\Python313\\site-packages\\matplotlib\\image.py:224\u001b[39m, in \u001b[36m_rgb_to_rgba\u001b[39m\u001b[34m(A)\u001b[39m\n\u001b[32m    219\u001b[39m \u001b[38;5;28;01mdef\u001b[39;00m\u001b[38;5;250m \u001b[39m\u001b[34m_rgb_to_rgba\u001b[39m(A):\n\u001b[32m    220\u001b[39m \u001b[38;5;250m    \u001b[39m\u001b[33;03m\"\"\"\u001b[39;00m\n\u001b[32m    221\u001b[39m \u001b[33;03m    Convert an RGB image to RGBA, as required by the image resample C++\u001b[39;00m\n\u001b[32m    222\u001b[39m \u001b[33;03m    extension.\u001b[39;00m\n\u001b[32m    223\u001b[39m \u001b[33;03m    \"\"\"\u001b[39;00m\n\u001b[32m--> \u001b[39m\u001b[32m224\u001b[39m     rgba = \u001b[43mnp\u001b[49m\u001b[43m.\u001b[49m\u001b[43mzeros\u001b[49m\u001b[43m(\u001b[49m\u001b[43m(\u001b[49m\u001b[43mA\u001b[49m\u001b[43m.\u001b[49m\u001b[43mshape\u001b[49m\u001b[43m[\u001b[49m\u001b[32;43m0\u001b[39;49m\u001b[43m]\u001b[49m\u001b[43m,\u001b[49m\u001b[43m \u001b[49m\u001b[43mA\u001b[49m\u001b[43m.\u001b[49m\u001b[43mshape\u001b[49m\u001b[43m[\u001b[49m\u001b[32;43m1\u001b[39;49m\u001b[43m]\u001b[49m\u001b[43m,\u001b[49m\u001b[43m \u001b[49m\u001b[32;43m4\u001b[39;49m\u001b[43m)\u001b[49m\u001b[43m,\u001b[49m\u001b[43m \u001b[49m\u001b[43mdtype\u001b[49m\u001b[43m=\u001b[49m\u001b[43mA\u001b[49m\u001b[43m.\u001b[49m\u001b[43mdtype\u001b[49m\u001b[43m)\u001b[49m\n\u001b[32m    225\u001b[39m     rgba[:, :, :\u001b[32m3\u001b[39m] = A\n\u001b[32m    226\u001b[39m     \u001b[38;5;28;01mif\u001b[39;00m rgba.dtype == np.uint8:\n",
      "\u001b[31mMemoryError\u001b[39m: Unable to allocate 91.6 MiB for an array with shape (4000, 6000, 4) and data type uint8"
     ]
    },
    {
     "data": {
      "text/plain": [
       "<Figure size 1200x1000 with 4 Axes>"
      ]
     },
     "metadata": {},
     "output_type": "display_data"
    },
    {
     "ename": "MemoryError",
     "evalue": "Unable to allocate 91.6 MiB for an array with shape (4000, 6000, 4) and data type uint8",
     "output_type": "error",
     "traceback": [
      "\u001b[31m---------------------------------------------------------------------------\u001b[39m",
      "\u001b[31mMemoryError\u001b[39m                               Traceback (most recent call last)",
      "\u001b[36mFile \u001b[39m\u001b[32m~\\AppData\\Roaming\\Python\\Python313\\site-packages\\IPython\\core\\formatters.py:402\u001b[39m, in \u001b[36mBaseFormatter.__call__\u001b[39m\u001b[34m(self, obj)\u001b[39m\n\u001b[32m    400\u001b[39m     \u001b[38;5;28;01mpass\u001b[39;00m\n\u001b[32m    401\u001b[39m \u001b[38;5;28;01melse\u001b[39;00m:\n\u001b[32m--> \u001b[39m\u001b[32m402\u001b[39m     \u001b[38;5;28;01mreturn\u001b[39;00m \u001b[43mprinter\u001b[49m\u001b[43m(\u001b[49m\u001b[43mobj\u001b[49m\u001b[43m)\u001b[49m\n\u001b[32m    403\u001b[39m \u001b[38;5;66;03m# Finally look for special method names\u001b[39;00m\n\u001b[32m    404\u001b[39m method = get_real_method(obj, \u001b[38;5;28mself\u001b[39m.print_method)\n",
      "\u001b[36mFile \u001b[39m\u001b[32m~\\AppData\\Roaming\\Python\\Python313\\site-packages\\IPython\\core\\pylabtools.py:170\u001b[39m, in \u001b[36mprint_figure\u001b[39m\u001b[34m(fig, fmt, bbox_inches, base64, **kwargs)\u001b[39m\n\u001b[32m    167\u001b[39m     \u001b[38;5;28;01mfrom\u001b[39;00m\u001b[38;5;250m \u001b[39m\u001b[34;01mmatplotlib\u001b[39;00m\u001b[34;01m.\u001b[39;00m\u001b[34;01mbackend_bases\u001b[39;00m\u001b[38;5;250m \u001b[39m\u001b[38;5;28;01mimport\u001b[39;00m FigureCanvasBase\n\u001b[32m    168\u001b[39m     FigureCanvasBase(fig)\n\u001b[32m--> \u001b[39m\u001b[32m170\u001b[39m \u001b[43mfig\u001b[49m\u001b[43m.\u001b[49m\u001b[43mcanvas\u001b[49m\u001b[43m.\u001b[49m\u001b[43mprint_figure\u001b[49m\u001b[43m(\u001b[49m\u001b[43mbytes_io\u001b[49m\u001b[43m,\u001b[49m\u001b[43m \u001b[49m\u001b[43m*\u001b[49m\u001b[43m*\u001b[49m\u001b[43mkw\u001b[49m\u001b[43m)\u001b[49m\n\u001b[32m    171\u001b[39m data = bytes_io.getvalue()\n\u001b[32m    172\u001b[39m \u001b[38;5;28;01mif\u001b[39;00m fmt == \u001b[33m'\u001b[39m\u001b[33msvg\u001b[39m\u001b[33m'\u001b[39m:\n",
      "\u001b[36mFile \u001b[39m\u001b[32m~\\AppData\\Roaming\\Python\\Python313\\site-packages\\matplotlib\\backend_bases.py:2155\u001b[39m, in \u001b[36mFigureCanvasBase.print_figure\u001b[39m\u001b[34m(self, filename, dpi, facecolor, edgecolor, orientation, format, bbox_inches, pad_inches, bbox_extra_artists, backend, **kwargs)\u001b[39m\n\u001b[32m   2152\u001b[39m     \u001b[38;5;66;03m# we do this instead of `self.figure.draw_without_rendering`\u001b[39;00m\n\u001b[32m   2153\u001b[39m     \u001b[38;5;66;03m# so that we can inject the orientation\u001b[39;00m\n\u001b[32m   2154\u001b[39m     \u001b[38;5;28;01mwith\u001b[39;00m \u001b[38;5;28mgetattr\u001b[39m(renderer, \u001b[33m\"\u001b[39m\u001b[33m_draw_disabled\u001b[39m\u001b[33m\"\u001b[39m, nullcontext)():\n\u001b[32m-> \u001b[39m\u001b[32m2155\u001b[39m         \u001b[38;5;28;43mself\u001b[39;49m\u001b[43m.\u001b[49m\u001b[43mfigure\u001b[49m\u001b[43m.\u001b[49m\u001b[43mdraw\u001b[49m\u001b[43m(\u001b[49m\u001b[43mrenderer\u001b[49m\u001b[43m)\u001b[49m\n\u001b[32m   2156\u001b[39m \u001b[38;5;28;01mif\u001b[39;00m bbox_inches:\n\u001b[32m   2157\u001b[39m     \u001b[38;5;28;01mif\u001b[39;00m bbox_inches == \u001b[33m\"\u001b[39m\u001b[33mtight\u001b[39m\u001b[33m\"\u001b[39m:\n",
      "\u001b[36mFile \u001b[39m\u001b[32m~\\AppData\\Roaming\\Python\\Python313\\site-packages\\matplotlib\\artist.py:94\u001b[39m, in \u001b[36m_finalize_rasterization.<locals>.draw_wrapper\u001b[39m\u001b[34m(artist, renderer, *args, **kwargs)\u001b[39m\n\u001b[32m     92\u001b[39m \u001b[38;5;129m@wraps\u001b[39m(draw)\n\u001b[32m     93\u001b[39m \u001b[38;5;28;01mdef\u001b[39;00m\u001b[38;5;250m \u001b[39m\u001b[34mdraw_wrapper\u001b[39m(artist, renderer, *args, **kwargs):\n\u001b[32m---> \u001b[39m\u001b[32m94\u001b[39m     result = \u001b[43mdraw\u001b[49m\u001b[43m(\u001b[49m\u001b[43martist\u001b[49m\u001b[43m,\u001b[49m\u001b[43m \u001b[49m\u001b[43mrenderer\u001b[49m\u001b[43m,\u001b[49m\u001b[43m \u001b[49m\u001b[43m*\u001b[49m\u001b[43margs\u001b[49m\u001b[43m,\u001b[49m\u001b[43m \u001b[49m\u001b[43m*\u001b[49m\u001b[43m*\u001b[49m\u001b[43mkwargs\u001b[49m\u001b[43m)\u001b[49m\n\u001b[32m     95\u001b[39m     \u001b[38;5;28;01mif\u001b[39;00m renderer._rasterizing:\n\u001b[32m     96\u001b[39m         renderer.stop_rasterizing()\n",
      "\u001b[36mFile \u001b[39m\u001b[32m~\\AppData\\Roaming\\Python\\Python313\\site-packages\\matplotlib\\artist.py:71\u001b[39m, in \u001b[36mallow_rasterization.<locals>.draw_wrapper\u001b[39m\u001b[34m(artist, renderer)\u001b[39m\n\u001b[32m     68\u001b[39m     \u001b[38;5;28;01mif\u001b[39;00m artist.get_agg_filter() \u001b[38;5;129;01mis\u001b[39;00m \u001b[38;5;129;01mnot\u001b[39;00m \u001b[38;5;28;01mNone\u001b[39;00m:\n\u001b[32m     69\u001b[39m         renderer.start_filter()\n\u001b[32m---> \u001b[39m\u001b[32m71\u001b[39m     \u001b[38;5;28;01mreturn\u001b[39;00m \u001b[43mdraw\u001b[49m\u001b[43m(\u001b[49m\u001b[43martist\u001b[49m\u001b[43m,\u001b[49m\u001b[43m \u001b[49m\u001b[43mrenderer\u001b[49m\u001b[43m)\u001b[49m\n\u001b[32m     72\u001b[39m \u001b[38;5;28;01mfinally\u001b[39;00m:\n\u001b[32m     73\u001b[39m     \u001b[38;5;28;01mif\u001b[39;00m artist.get_agg_filter() \u001b[38;5;129;01mis\u001b[39;00m \u001b[38;5;129;01mnot\u001b[39;00m \u001b[38;5;28;01mNone\u001b[39;00m:\n",
      "\u001b[36mFile \u001b[39m\u001b[32m~\\AppData\\Roaming\\Python\\Python313\\site-packages\\matplotlib\\figure.py:3257\u001b[39m, in \u001b[36mFigure.draw\u001b[39m\u001b[34m(self, renderer)\u001b[39m\n\u001b[32m   3254\u001b[39m             \u001b[38;5;66;03m# ValueError can occur when resizing a window.\u001b[39;00m\n\u001b[32m   3256\u001b[39m     \u001b[38;5;28mself\u001b[39m.patch.draw(renderer)\n\u001b[32m-> \u001b[39m\u001b[32m3257\u001b[39m     \u001b[43mmimage\u001b[49m\u001b[43m.\u001b[49m\u001b[43m_draw_list_compositing_images\u001b[49m\u001b[43m(\u001b[49m\n\u001b[32m   3258\u001b[39m \u001b[43m        \u001b[49m\u001b[43mrenderer\u001b[49m\u001b[43m,\u001b[49m\u001b[43m \u001b[49m\u001b[38;5;28;43mself\u001b[39;49m\u001b[43m,\u001b[49m\u001b[43m \u001b[49m\u001b[43martists\u001b[49m\u001b[43m,\u001b[49m\u001b[43m \u001b[49m\u001b[38;5;28;43mself\u001b[39;49m\u001b[43m.\u001b[49m\u001b[43msuppressComposite\u001b[49m\u001b[43m)\u001b[49m\n\u001b[32m   3260\u001b[39m     renderer.close_group(\u001b[33m'\u001b[39m\u001b[33mfigure\u001b[39m\u001b[33m'\u001b[39m)\n\u001b[32m   3261\u001b[39m \u001b[38;5;28;01mfinally\u001b[39;00m:\n",
      "\u001b[36mFile \u001b[39m\u001b[32m~\\AppData\\Roaming\\Python\\Python313\\site-packages\\matplotlib\\image.py:134\u001b[39m, in \u001b[36m_draw_list_compositing_images\u001b[39m\u001b[34m(renderer, parent, artists, suppress_composite)\u001b[39m\n\u001b[32m    132\u001b[39m \u001b[38;5;28;01mif\u001b[39;00m not_composite \u001b[38;5;129;01mor\u001b[39;00m \u001b[38;5;129;01mnot\u001b[39;00m has_images:\n\u001b[32m    133\u001b[39m     \u001b[38;5;28;01mfor\u001b[39;00m a \u001b[38;5;129;01min\u001b[39;00m artists:\n\u001b[32m--> \u001b[39m\u001b[32m134\u001b[39m         \u001b[43ma\u001b[49m\u001b[43m.\u001b[49m\u001b[43mdraw\u001b[49m\u001b[43m(\u001b[49m\u001b[43mrenderer\u001b[49m\u001b[43m)\u001b[49m\n\u001b[32m    135\u001b[39m \u001b[38;5;28;01melse\u001b[39;00m:\n\u001b[32m    136\u001b[39m     \u001b[38;5;66;03m# Composite any adjacent images together\u001b[39;00m\n\u001b[32m    137\u001b[39m     image_group = []\n",
      "\u001b[36mFile \u001b[39m\u001b[32m~\\AppData\\Roaming\\Python\\Python313\\site-packages\\matplotlib\\artist.py:71\u001b[39m, in \u001b[36mallow_rasterization.<locals>.draw_wrapper\u001b[39m\u001b[34m(artist, renderer)\u001b[39m\n\u001b[32m     68\u001b[39m     \u001b[38;5;28;01mif\u001b[39;00m artist.get_agg_filter() \u001b[38;5;129;01mis\u001b[39;00m \u001b[38;5;129;01mnot\u001b[39;00m \u001b[38;5;28;01mNone\u001b[39;00m:\n\u001b[32m     69\u001b[39m         renderer.start_filter()\n\u001b[32m---> \u001b[39m\u001b[32m71\u001b[39m     \u001b[38;5;28;01mreturn\u001b[39;00m \u001b[43mdraw\u001b[49m\u001b[43m(\u001b[49m\u001b[43martist\u001b[49m\u001b[43m,\u001b[49m\u001b[43m \u001b[49m\u001b[43mrenderer\u001b[49m\u001b[43m)\u001b[49m\n\u001b[32m     72\u001b[39m \u001b[38;5;28;01mfinally\u001b[39;00m:\n\u001b[32m     73\u001b[39m     \u001b[38;5;28;01mif\u001b[39;00m artist.get_agg_filter() \u001b[38;5;129;01mis\u001b[39;00m \u001b[38;5;129;01mnot\u001b[39;00m \u001b[38;5;28;01mNone\u001b[39;00m:\n",
      "\u001b[36mFile \u001b[39m\u001b[32m~\\AppData\\Roaming\\Python\\Python313\\site-packages\\matplotlib\\axes\\_base.py:3216\u001b[39m, in \u001b[36m_AxesBase.draw\u001b[39m\u001b[34m(self, renderer)\u001b[39m\n\u001b[32m   3213\u001b[39m \u001b[38;5;28;01mif\u001b[39;00m artists_rasterized:\n\u001b[32m   3214\u001b[39m     _draw_rasterized(\u001b[38;5;28mself\u001b[39m.get_figure(root=\u001b[38;5;28;01mTrue\u001b[39;00m), artists_rasterized, renderer)\n\u001b[32m-> \u001b[39m\u001b[32m3216\u001b[39m \u001b[43mmimage\u001b[49m\u001b[43m.\u001b[49m\u001b[43m_draw_list_compositing_images\u001b[49m\u001b[43m(\u001b[49m\n\u001b[32m   3217\u001b[39m \u001b[43m    \u001b[49m\u001b[43mrenderer\u001b[49m\u001b[43m,\u001b[49m\u001b[43m \u001b[49m\u001b[38;5;28;43mself\u001b[39;49m\u001b[43m,\u001b[49m\u001b[43m \u001b[49m\u001b[43martists\u001b[49m\u001b[43m,\u001b[49m\u001b[43m \u001b[49m\u001b[38;5;28;43mself\u001b[39;49m\u001b[43m.\u001b[49m\u001b[43mget_figure\u001b[49m\u001b[43m(\u001b[49m\u001b[43mroot\u001b[49m\u001b[43m=\u001b[49m\u001b[38;5;28;43;01mTrue\u001b[39;49;00m\u001b[43m)\u001b[49m\u001b[43m.\u001b[49m\u001b[43msuppressComposite\u001b[49m\u001b[43m)\u001b[49m\n\u001b[32m   3219\u001b[39m renderer.close_group(\u001b[33m'\u001b[39m\u001b[33maxes\u001b[39m\u001b[33m'\u001b[39m)\n\u001b[32m   3220\u001b[39m \u001b[38;5;28mself\u001b[39m.stale = \u001b[38;5;28;01mFalse\u001b[39;00m\n",
      "\u001b[36mFile \u001b[39m\u001b[32m~\\AppData\\Roaming\\Python\\Python313\\site-packages\\matplotlib\\image.py:134\u001b[39m, in \u001b[36m_draw_list_compositing_images\u001b[39m\u001b[34m(renderer, parent, artists, suppress_composite)\u001b[39m\n\u001b[32m    132\u001b[39m \u001b[38;5;28;01mif\u001b[39;00m not_composite \u001b[38;5;129;01mor\u001b[39;00m \u001b[38;5;129;01mnot\u001b[39;00m has_images:\n\u001b[32m    133\u001b[39m     \u001b[38;5;28;01mfor\u001b[39;00m a \u001b[38;5;129;01min\u001b[39;00m artists:\n\u001b[32m--> \u001b[39m\u001b[32m134\u001b[39m         \u001b[43ma\u001b[49m\u001b[43m.\u001b[49m\u001b[43mdraw\u001b[49m\u001b[43m(\u001b[49m\u001b[43mrenderer\u001b[49m\u001b[43m)\u001b[49m\n\u001b[32m    135\u001b[39m \u001b[38;5;28;01melse\u001b[39;00m:\n\u001b[32m    136\u001b[39m     \u001b[38;5;66;03m# Composite any adjacent images together\u001b[39;00m\n\u001b[32m    137\u001b[39m     image_group = []\n",
      "\u001b[36mFile \u001b[39m\u001b[32m~\\AppData\\Roaming\\Python\\Python313\\site-packages\\matplotlib\\artist.py:71\u001b[39m, in \u001b[36mallow_rasterization.<locals>.draw_wrapper\u001b[39m\u001b[34m(artist, renderer)\u001b[39m\n\u001b[32m     68\u001b[39m     \u001b[38;5;28;01mif\u001b[39;00m artist.get_agg_filter() \u001b[38;5;129;01mis\u001b[39;00m \u001b[38;5;129;01mnot\u001b[39;00m \u001b[38;5;28;01mNone\u001b[39;00m:\n\u001b[32m     69\u001b[39m         renderer.start_filter()\n\u001b[32m---> \u001b[39m\u001b[32m71\u001b[39m     \u001b[38;5;28;01mreturn\u001b[39;00m \u001b[43mdraw\u001b[49m\u001b[43m(\u001b[49m\u001b[43martist\u001b[49m\u001b[43m,\u001b[49m\u001b[43m \u001b[49m\u001b[43mrenderer\u001b[49m\u001b[43m)\u001b[49m\n\u001b[32m     72\u001b[39m \u001b[38;5;28;01mfinally\u001b[39;00m:\n\u001b[32m     73\u001b[39m     \u001b[38;5;28;01mif\u001b[39;00m artist.get_agg_filter() \u001b[38;5;129;01mis\u001b[39;00m \u001b[38;5;129;01mnot\u001b[39;00m \u001b[38;5;28;01mNone\u001b[39;00m:\n",
      "\u001b[36mFile \u001b[39m\u001b[32m~\\AppData\\Roaming\\Python\\Python313\\site-packages\\matplotlib\\image.py:609\u001b[39m, in \u001b[36m_ImageBase.draw\u001b[39m\u001b[34m(self, renderer)\u001b[39m\n\u001b[32m    607\u001b[39m         renderer.draw_image(gc, l, b, im, trans)\n\u001b[32m    608\u001b[39m \u001b[38;5;28;01melse\u001b[39;00m:\n\u001b[32m--> \u001b[39m\u001b[32m609\u001b[39m     im, l, b, trans = \u001b[38;5;28;43mself\u001b[39;49m\u001b[43m.\u001b[49m\u001b[43mmake_image\u001b[49m\u001b[43m(\u001b[49m\n\u001b[32m    610\u001b[39m \u001b[43m        \u001b[49m\u001b[43mrenderer\u001b[49m\u001b[43m,\u001b[49m\u001b[43m \u001b[49m\u001b[43mrenderer\u001b[49m\u001b[43m.\u001b[49m\u001b[43mget_image_magnification\u001b[49m\u001b[43m(\u001b[49m\u001b[43m)\u001b[49m\u001b[43m)\u001b[49m\n\u001b[32m    611\u001b[39m     \u001b[38;5;28;01mif\u001b[39;00m im \u001b[38;5;129;01mis\u001b[39;00m \u001b[38;5;129;01mnot\u001b[39;00m \u001b[38;5;28;01mNone\u001b[39;00m:\n\u001b[32m    612\u001b[39m         renderer.draw_image(gc, l, b, im)\n",
      "\u001b[36mFile \u001b[39m\u001b[32m~\\AppData\\Roaming\\Python\\Python313\\site-packages\\matplotlib\\image.py:912\u001b[39m, in \u001b[36mAxesImage.make_image\u001b[39m\u001b[34m(self, renderer, magnification, unsampled)\u001b[39m\n\u001b[32m    909\u001b[39m transformed_bbox = TransformedBbox(bbox, trans)\n\u001b[32m    910\u001b[39m clip = ((\u001b[38;5;28mself\u001b[39m.get_clip_box() \u001b[38;5;129;01mor\u001b[39;00m \u001b[38;5;28mself\u001b[39m.axes.bbox) \u001b[38;5;28;01mif\u001b[39;00m \u001b[38;5;28mself\u001b[39m.get_clip_on()\n\u001b[32m    911\u001b[39m         \u001b[38;5;28;01melse\u001b[39;00m \u001b[38;5;28mself\u001b[39m.get_figure(root=\u001b[38;5;28;01mTrue\u001b[39;00m).bbox)\n\u001b[32m--> \u001b[39m\u001b[32m912\u001b[39m \u001b[38;5;28;01mreturn\u001b[39;00m \u001b[38;5;28;43mself\u001b[39;49m\u001b[43m.\u001b[49m\u001b[43m_make_image\u001b[49m\u001b[43m(\u001b[49m\u001b[38;5;28;43mself\u001b[39;49m\u001b[43m.\u001b[49m\u001b[43m_A\u001b[49m\u001b[43m,\u001b[49m\u001b[43m \u001b[49m\u001b[43mbbox\u001b[49m\u001b[43m,\u001b[49m\u001b[43m \u001b[49m\u001b[43mtransformed_bbox\u001b[49m\u001b[43m,\u001b[49m\u001b[43m \u001b[49m\u001b[43mclip\u001b[49m\u001b[43m,\u001b[49m\n\u001b[32m    913\u001b[39m \u001b[43m                        \u001b[49m\u001b[43mmagnification\u001b[49m\u001b[43m,\u001b[49m\u001b[43m \u001b[49m\u001b[43munsampled\u001b[49m\u001b[43m=\u001b[49m\u001b[43munsampled\u001b[49m\u001b[43m)\u001b[49m\n",
      "\u001b[36mFile \u001b[39m\u001b[32m~\\AppData\\Roaming\\Python\\Python313\\site-packages\\matplotlib\\image.py:512\u001b[39m, in \u001b[36m_ImageBase._make_image\u001b[39m\u001b[34m(self, A, in_bbox, out_bbox, clip_bbox, magnification, unsampled, round_to_pixel_border)\u001b[39m\n\u001b[32m    508\u001b[39m     \u001b[38;5;28;01melse\u001b[39;00m:\n\u001b[32m    509\u001b[39m         output_alpha = _resample(  \u001b[38;5;66;03m# resample alpha channel\u001b[39;00m\n\u001b[32m    510\u001b[39m             \u001b[38;5;28mself\u001b[39m, A[..., \u001b[32m3\u001b[39m], out_shape, t)\n\u001b[32m    511\u001b[39m     output = _resample(  \u001b[38;5;66;03m# resample rgb channels\u001b[39;00m\n\u001b[32m--> \u001b[39m\u001b[32m512\u001b[39m         \u001b[38;5;28mself\u001b[39m, \u001b[43m_rgb_to_rgba\u001b[49m\u001b[43m(\u001b[49m\u001b[43mA\u001b[49m\u001b[43m[\u001b[49m\u001b[43m.\u001b[49m\u001b[43m.\u001b[49m\u001b[43m.\u001b[49m\u001b[43m,\u001b[49m\u001b[43m \u001b[49m\u001b[43m:\u001b[49m\u001b[32;43m3\u001b[39;49m\u001b[43m]\u001b[49m\u001b[43m)\u001b[49m, out_shape, t)\n\u001b[32m    513\u001b[39m \u001b[38;5;28;01melif\u001b[39;00m np.ndim(alpha) > \u001b[32m0\u001b[39m:  \u001b[38;5;66;03m# Array alpha\u001b[39;00m\n\u001b[32m    514\u001b[39m     \u001b[38;5;66;03m# user-specified array alpha overrides the existing alpha channel\u001b[39;00m\n\u001b[32m    515\u001b[39m     output_alpha = _resample(\u001b[38;5;28mself\u001b[39m, alpha, out_shape, t)\n",
      "\u001b[36mFile \u001b[39m\u001b[32m~\\AppData\\Roaming\\Python\\Python313\\site-packages\\matplotlib\\image.py:224\u001b[39m, in \u001b[36m_rgb_to_rgba\u001b[39m\u001b[34m(A)\u001b[39m\n\u001b[32m    219\u001b[39m \u001b[38;5;28;01mdef\u001b[39;00m\u001b[38;5;250m \u001b[39m\u001b[34m_rgb_to_rgba\u001b[39m(A):\n\u001b[32m    220\u001b[39m \u001b[38;5;250m    \u001b[39m\u001b[33;03m\"\"\"\u001b[39;00m\n\u001b[32m    221\u001b[39m \u001b[33;03m    Convert an RGB image to RGBA, as required by the image resample C++\u001b[39;00m\n\u001b[32m    222\u001b[39m \u001b[33;03m    extension.\u001b[39;00m\n\u001b[32m    223\u001b[39m \u001b[33;03m    \"\"\"\u001b[39;00m\n\u001b[32m--> \u001b[39m\u001b[32m224\u001b[39m     rgba = \u001b[43mnp\u001b[49m\u001b[43m.\u001b[49m\u001b[43mzeros\u001b[49m\u001b[43m(\u001b[49m\u001b[43m(\u001b[49m\u001b[43mA\u001b[49m\u001b[43m.\u001b[49m\u001b[43mshape\u001b[49m\u001b[43m[\u001b[49m\u001b[32;43m0\u001b[39;49m\u001b[43m]\u001b[49m\u001b[43m,\u001b[49m\u001b[43m \u001b[49m\u001b[43mA\u001b[49m\u001b[43m.\u001b[49m\u001b[43mshape\u001b[49m\u001b[43m[\u001b[49m\u001b[32;43m1\u001b[39;49m\u001b[43m]\u001b[49m\u001b[43m,\u001b[49m\u001b[43m \u001b[49m\u001b[32;43m4\u001b[39;49m\u001b[43m)\u001b[49m\u001b[43m,\u001b[49m\u001b[43m \u001b[49m\u001b[43mdtype\u001b[49m\u001b[43m=\u001b[49m\u001b[43mA\u001b[49m\u001b[43m.\u001b[49m\u001b[43mdtype\u001b[49m\u001b[43m)\u001b[49m\n\u001b[32m    225\u001b[39m     rgba[:, :, :\u001b[32m3\u001b[39m] = A\n\u001b[32m    226\u001b[39m     \u001b[38;5;28;01mif\u001b[39;00m rgba.dtype == np.uint8:\n",
      "\u001b[31mMemoryError\u001b[39m: Unable to allocate 91.6 MiB for an array with shape (4000, 6000, 4) and data type uint8"
     ]
    },
    {
     "data": {
      "text/plain": [
       "<Figure size 1200x1000 with 4 Axes>"
      ]
     },
     "metadata": {},
     "output_type": "display_data"
    }
   ],
   "source": [
    "# Feature Extraction for \"To bee or not to bee\"\n",
    "# IG.2412 & IG.2411\n",
    "\n",
    "def load_classification_data():\n",
    "    \"\"\"Load classification data from Excel file\"\"\"\n",
    "    df = pd.read_excel(EXCEL_FILE)\n",
    "    print(f\"Data loaded: {len(df)} insects\")\n",
    "    print(df.head())\n",
    "    return df\n",
    "\n",
    "def load_image_and_mask(image_id, visualize=False, output_dir=\"cleaned_samples\"):\n",
    "    \"\"\"\n",
    "    I. Quality control: Load and clean an image and its mask according to instructions:\n",
    "    - Loading the mask and associated image\n",
    "    - Transforming the mask into a binary image (label 1 being the insect, label 0 the background)\n",
    "    - Computing the connected components of the binary mask\n",
    "    - Restricting the binary mask to its connected component of highest area\n",
    "    - Restricting both mask and image to the bounding box of the cleaned binary mask\n",
    "    \"\"\"\n",
    "    image_path = os.path.join(IMAGES_DIR, f\"{image_id}.jpg\")\n",
    "    mask_path = os.path.join(MASKS_DIR, f\"binary_{image_id}.tif\")\n",
    "\n",
    "    # Check file existence\n",
    "    if not os.path.exists(image_path):\n",
    "        raise FileNotFoundError(f\"Image not found: {image_path}\")\n",
    "    if not os.path.exists(mask_path):\n",
    "        raise FileNotFoundError(f\"Mask not found: {mask_path}\")\n",
    "\n",
    "    # Loading the mask and associated image\n",
    "    image = np.array(Image.open(image_path).convert(\"RGB\"))\n",
    "    mask = np.array(Image.open(mask_path).convert(\"L\"))\n",
    "    \n",
    "    # Transforming the mask into a binary image\n",
    "    mask_binary = (mask > 0).astype(np.uint8)\n",
    "\n",
    "    # Computing the connected components of the binary mask\n",
    "    labeled_mask = measure.label(mask_binary)\n",
    "    props = measure.regionprops(labeled_mask)\n",
    "\n",
    "    if not props:\n",
    "        raise ValueError(f\"No connected components found in mask for image {image_id}\")\n",
    "\n",
    "    # Restricting to largest connected component\n",
    "    largest_region = max(props, key=lambda x: x.area)\n",
    "    cleaned_mask = (labeled_mask == largest_region.label).astype(np.uint8)\n",
    "\n",
    "    # Cropping to bounding box\n",
    "    minr, minc, maxr, maxc = largest_region.bbox\n",
    "    cleaned_mask_cropped = cleaned_mask[minr:maxr, minc:maxc]\n",
    "    cropped_image = image[minr:maxr, minc:maxc]\n",
    "\n",
    "    # Visualization\n",
    "    if visualize:\n",
    "        os.makedirs(output_dir, exist_ok=True)\n",
    "        \n",
    "        fig, axes = plt.subplots(2, 2, figsize=(12, 10))\n",
    "        \n",
    "        # Original Image\n",
    "        axes[0,0].imshow(image)\n",
    "        axes[0,0].set_title(f\"Original Image {image_id}\")\n",
    "        axes[0,0].axis('off')\n",
    "        \n",
    "        # Original Mask\n",
    "        axes[0,1].imshow(mask, cmap='gray')\n",
    "        axes[0,1].set_title(\"Original Mask\")\n",
    "        axes[0,1].axis('off')\n",
    "        \n",
    "        # Cleaned & Cropped Image\n",
    "        axes[1,0].imshow(cropped_image)\n",
    "        axes[1,0].set_title(\"Cleaned & Cropped Image\")\n",
    "        axes[1,0].axis('off')\n",
    "        \n",
    "        # Cleaned & Cropped Mask\n",
    "        axes[1,1].imshow(cleaned_mask_cropped, cmap='gray')\n",
    "        axes[1,1].set_title(\"Cleaned & Cropped Mask\")\n",
    "        axes[1,1].axis('off')\n",
    "        \n",
    "        plt.tight_layout()\n",
    "        plt.savefig(os.path.join(output_dir, f\"quality_control_{image_id}.png\"), dpi=150, bbox_inches='tight')\n",
    "        plt.close()\n",
    "\n",
    "    return cropped_image, cleaned_mask_cropped\n",
    "\n",
    "def visualize_inscribed_circle(image, mask, center, radius, image_id, output_dir=\"visual_inspection\"):\n",
    "    \"\"\"Visualize the inscribed circle results\"\"\"\n",
    "    try:\n",
    "        os.makedirs(output_dir, exist_ok=True)\n",
    "        \n",
    "        vis = image.copy()\n",
    "        cx, cy = int(center[0]), int(center[1])\n",
    "        \n",
    "        # Draw inscribed circle in green\n",
    "        vis = cv2.circle(vis, (cx, cy), int(radius), (0, 255, 0), 2)\n",
    "        # Draw center in red\n",
    "        vis = cv2.circle(vis, (cx, cy), 3, (255, 0, 0), -1)\n",
    "        \n",
    "        plt.figure(figsize=(8, 6))\n",
    "        plt.imshow(vis.astype(np.uint8))\n",
    "        plt.title(f\"Best Inscribed Circle - Image {image_id}\\nRadius: {radius:.2f}, Center: ({cx}, {cy})\")\n",
    "        plt.axis('off')\n",
    "        \n",
    "        vis_path = os.path.join(output_dir, f\"inscribed_circle_{image_id}.png\")\n",
    "        plt.savefig(vis_path, bbox_inches='tight', dpi=150)\n",
    "        plt.close()\n",
    "        \n",
    "    except Exception as e:\n",
    "        print(f\"Error visualizing circle for {image_id}: {e}\")\n",
    "\n",
    "def visualize_symmetry_plane(image, mask, center, angle, image_id, output_dir=\"visual_symmetry\"):\n",
    "    \"\"\"Visualize symmetry plane results\"\"\"\n",
    "    try:\n",
    "        os.makedirs(output_dir, exist_ok=True)\n",
    "        \n",
    "        rotated_img = rotate_image_filled(image, angle, center)\n",
    "        vis_rotated = rotated_img.copy()\n",
    "        cx = int(center[0])\n",
    "        h, w = vis_rotated.shape[:2]\n",
    "        \n",
    "        # Draw vertical axis in cyan\n",
    "        vis_rotated = cv2.line(vis_rotated, (cx, 0), (cx, h-1), (0, 255, 255), 2)\n",
    "        \n",
    "        plt.figure(figsize=(8, 6))\n",
    "        plt.imshow(vis_rotated.astype(np.uint8))\n",
    "        plt.title(f\"Best Symmetry Plane - Image {image_id}\\nOptimal angle: {angle:.2f}°\")\n",
    "        plt.axis('off')\n",
    "        \n",
    "        vis_path = os.path.join(output_dir, f\"symmetry_plane_{image_id}.png\")\n",
    "        plt.savefig(vis_path, bbox_inches='tight', dpi=150)\n",
    "        plt.close()\n",
    "        \n",
    "    except Exception as e:\n",
    "        print(f\"Error visualizing symmetry for {image_id}: {e}\")\n",
    "\n",
    "def extract_features_for_all_images(df):\n",
    "    \"\"\"Extract features for all images\"\"\"\n",
    "    all_features = []\n",
    "    \n",
    "    for idx, row in tqdm(df.iterrows(), total=len(df), desc=\"Extracting features\"):\n",
    "        image_id = row['ID']\n",
    "        try:\n",
    "            features = extract_all_features(image_id)\n",
    "            \n",
    "            # Add class labels\n",
    "            features['bug_type'] = row['bug type']\n",
    "            if 'species' in row:\n",
    "                features['species'] = row['species']\n",
    "            \n",
    "            all_features.append(features)\n",
    "            \n",
    "        except Exception as e:\n",
    "            print(f\"Error processing image {image_id}: {e}\")\n",
    "            default_features = create_default_features(image_id)\n",
    "            default_features['bug_type'] = row['bug type']\n",
    "            if 'species' in row:\n",
    "                default_features['species'] = row['species']\n",
    "            all_features.append(default_features)\n",
    "    \n",
    "    return pd.DataFrame(all_features)\n",
    "\n",
    "if __name__ == \"__main__\":\n",
    "    print(\"=== Starting feature extraction ===\")\n",
    "    \n",
    "    # Create output directories\n",
    "    os.makedirs(\"cleaned_samples\", exist_ok=True)\n",
    "    os.makedirs(\"visual_inspection\", exist_ok=True)\n",
    "    os.makedirs(\"visual_symmetry\", exist_ok=True)\n",
    "    \n",
    "    try:\n",
    "        # Load data\n",
    "        classification_df = load_classification_data()\n",
    "        \n",
    "        # Feature extraction\n",
    "        print(\"Extracting features...\")\n",
    "        features_df = extract_features_for_all_images(classification_df)\n",
    "        \n",
    "        if features_df.empty:\n",
    "            raise ValueError(\"No features extracted!\")\n",
    "        \n",
    "        print(f\"Features extracted for {len(features_df)} images\")\n",
    "        print(f\"Columns: {list(features_df.columns)}\")\n",
    "        \n",
    "        # Check symmetry angle\n",
    "        if 'symmetry_angle' in features_df.columns:\n",
    "            print(f\"Symmetry angles - Min: {features_df['symmetry_angle'].min():.2f}°, Max: {features_df['symmetry_angle'].max():.2f}°\")\n",
    "            print(f\"Images with non-zero angle: {sum(features_df['symmetry_angle'] != 0)}\")\n",
    "        \n",
    "        # Save raw features\n",
    "        features_df.to_csv(\"../features_raw.csv\", index=False)\n",
    "        print(\"Raw features saved to 'features_raw.csv'\")\n",
    "        \n",
    "        # Normalize\n",
    "        normalized_features_df, scaler = normalize_features(features_df)\n",
    "        normalized_features_df.to_csv(\"../features_normalized.csv\", index=False)\n",
    "        joblib.dump(scaler, \"scaler.pkl\")\n",
    "        print(\"Normalized features saved to 'features_normalized.csv'\")\n",
    "        \n",
    "        # Final statistics\n",
    "        print(f\"\\n=== SUMMARY ===\")\n",
    "        print(f\"Processed images: {len(normalized_features_df)}\")\n",
    "        print(f\"Features per image: {len([col for col in normalized_features_df.columns if col not in ['image_id', 'bug_type', 'species']])}\")\n",
    "        \n",
    "        if 'bug_type' in normalized_features_df.columns:\n",
    "            print(f\"\\nClass distribution:\")\n",
    "            print(normalized_features_df['bug_type'].value_counts())\n",
    "        \n",
    "        # Compliance verification\n",
    "        print(f\"\\n=== COMPLIANCE CHECK ===\")\n",
    "        \n",
    "        # I. Quality control\n",
    "        quality_files = len([f for f in os.listdir(\"cleaned_samples\") if f.startswith(\"quality_control_\")])\n",
    "        print(f\"✓ I. Quality control: {quality_files} visualizations in 'cleaned_samples/'\")\n",
    "        \n",
    "        # II. Best inscribed circle\n",
    "        circle_files = len([f for f in os.listdir(\"visual_inspection\") if f.startswith(\"inscribed_circle_\")])\n",
    "        print(f\"✓ II. Best inscribed circle: {circle_files} visualizations in 'visual_inspection/'\")\n",
    "        \n",
    "        # III. Best symmetry plane\n",
    "        symmetry_files = len([f for f in os.listdir(\"visual_symmetry\") if f.startswith(\"symmetry_plane_\")])\n",
    "        print(f\"✓ III. Best symmetry plane: {symmetry_files} visualizations in 'visual_symmetry/'\")\n",
    "        \n",
    "        # IV. Features extraction\n",
    "        print(f\"✓ IV. Features extraction: {len(normalized_features_df)} feature sets\")\n",
    "        \n",
    "        # Verify symmetry angle calculation\n",
    "        if 'symmetry_angle' in features_df.columns:\n",
    "            non_zero_angles = sum(abs(features_df['symmetry_angle']) > 0.1)\n",
    "            print(f\"✓ Symmetry angles calculated: {non_zero_angles}/{len(features_df)} with significant angle\")\n",
    "            \n",
    "            if non_zero_angles == 0:\n",
    "                print(\"⚠️  WARNING: All symmetry angles are 0°. Check implementation.\")\n",
    "        \n",
    "        print(f\"\\n=== EXTRACTION COMPLETED SUCCESSFULLY ===\")\n",
    "        print(f\"Generated files:\")\n",
    "        print(f\"- features_raw.csv: raw features\")\n",
    "        print(f\"- features_normalized.csv: normalized features\")\n",
    "        print(f\"- scaler.pkl: normalization object\")\n",
    "        print(f\"- cleaned_samples/: cleaning visualizations\")\n",
    "        print(f\"- visual_inspection/: inscribed circle visualizations\")\n",
    "        print(f\"- visual_symmetry/: symmetry plane visualizations\")\n",
    "        \n",
    "    except Exception as e:\n",
    "        print(f\"General error: {e}\")\n",
    "        import traceback\n",
    "        traceback.print_exc()\n",
    "\n",
    "def analyze_extracted_features():\n",
    "    \"\"\"IV. Represent the associated values in a 2D space. Comment.\"\"\"\n",
    "    try:\n",
    "        # Load normalized data\n",
    "        if not os.path.exists(\"../features_normalized.csv\"):\n",
    "            print(\"Please run feature extraction first\")\n",
    "            return\n",
    "        \n",
    "        df = pd.read_csv(\"../features_normalized.csv\")\n",
    "        \n",
    "        # Separate features from labels\n",
    "        feature_cols = [col for col in df.columns if col not in ['image_id', 'bug_type', 'species']]\n",
    "        X = df[feature_cols].values\n",
    "        \n",
    "        if 'bug_type' in df.columns:\n",
    "            y = df['bug_type']\n",
    "        else:\n",
    "            y = None\n",
    "        \n",
    "        print(f\"Analyzing {len(feature_cols)} features across {len(df)} images\")\n",
    "        \n",
    "        # Create 2D visualizations\n",
    "        fig, axes = plt.subplots(2, 2, figsize=(15, 12))\n",
    "        \n",
    "        # 1. PCA\n",
    "        pca = PCA(n_components=2)\n",
    "        X_pca = pca.fit_transform(X)\n",
    "        \n",
    "        if y is not None:\n",
    "            scatter = axes[0,0].scatter(X_pca[:, 0], X_pca[:, 1], c=y.astype('category').cat.codes, cmap='viridis', alpha=0.7)\n",
    "            axes[0,0].set_title(f'PCA (Explained variance: {pca.explained_variance_ratio_.sum():.3f})')\n",
    "        else:\n",
    "            axes[0,0].scatter(X_pca[:, 0], X_pca[:, 1], alpha=0.7)\n",
    "            axes[0,0].set_title('PCA')\n",
    "        axes[0,0].set_xlabel(f'PC1 ({pca.explained_variance_ratio_[0]:.3f})')\n",
    "        axes[0,0].set_ylabel(f'PC2 ({pca.explained_variance_ratio_[1]:.3f})')\n",
    "        \n",
    "        # 2. t-SNE\n",
    "        try:\n",
    "            tsne = TSNE(n_components=2, random_state=42, perplexity=min(30, len(df)//4))\n",
    "            X_tsne = tsne.fit_transform(X)\n",
    "            \n",
    "            if y is not None:\n",
    "                axes[0,1].scatter(X_tsne[:, 0], X_tsne[:, 1], c=y.astype('category').cat.codes, cmap='viridis', alpha=0.7)\n",
    "            else:\n",
    "                axes[0,1].scatter(X_tsne[:, 0], X_tsne[:, 1], alpha=0.7)\n",
    "            axes[0,1].set_title('t-SNE')\n",
    "            axes[0,1].set_xlabel('t-SNE 1')\n",
    "            axes[0,1].set_ylabel('t-SNE 2')\n",
    "        except Exception as e:\n",
    "            axes[0,1].text(0.5, 0.5, f't-SNE error: {str(e)[:50]}...', ha='center', va='center')\n",
    "            axes[0,1].set_title('t-SNE (Error)')\n",
    "        \n",
    "        # 3. Specific geometric features\n",
    "        if 'max_inscribed_radius' in df.columns and 'symmetry_angle' in df.columns:\n",
    "            if y is not None:\n",
    "                scatter = axes[1,0].scatter(df['max_inscribed_radius'], df['symmetry_angle'], \n",
    "                                         c=y.astype('category').cat.codes, cmap='viridis', alpha=0.7)\n",
    "            else:\n",
    "                axes[1,0].scatter(df['max_inscribed_radius'], df['symmetry_angle'], alpha=0.7)\n",
    "            axes[1,0].set_xlabel('Inscribed circle radius (normalized)')\n",
    "            axes[1,0].set_ylabel('Symmetry angle (normalized)')\n",
    "            axes[1,0].set_title('Geometric features')\n",
    "        \n",
    "        # 4. Shape features\n",
    "        if 'aspect_ratio' in df.columns and 'solidity' in df.columns:\n",
    "            if y is not None:\n",
    "                scatter = axes[1,1].scatter(df['aspect_ratio'], df['solidity'], \n",
    "                                         c=y.astype('category').cat.codes, cmap='viridis', alpha=0.7)\n",
    "            else:\n",
    "                axes[1,1].scatter(df['aspect_ratio'], df['solidity'], alpha=0.7)\n",
    "            axes[1,1].set_xlabel('Aspect ratio (normalized)')\n",
    "            axes[1,1].set_ylabel('Solidity (normalized)')\n",
    "            axes[1,1].set_title('Shape features')\n",
    "        \n",
    "        # Add legend if we have classes\n",
    "        if y is not None and len(y.unique()) <= 10:\n",
    "            handles = [plt.Line2D([0], [0], marker='o', color='w', \n",
    "                                markerfacecolor=plt.cm.viridis(i/len(y.unique())), \n",
    "                                markersize=8, label=label) \n",
    "                      for i, label in enumerate(sorted(y.unique()))]\n",
    "            fig.legend(handles, sorted(y.unique()), loc='center right', bbox_to_anchor=(1.15, 0.5))\n",
    "        \n",
    "        plt.tight_layout()\n",
    "        plt.savefig(\"features_2d_analysis.png\", dpi=150, bbox_inches='tight')\n",
    "        plt.close()\n",
    "        \n",
    "        print(\"2D analysis saved to 'features_2d_analysis.png'\")\n",
    "        \n",
    "        # Statistical analysis\n",
    "        print(f\"\\n=== FEATURE ANALYSIS COMMENTS ===\")\n",
    "        \n",
    "        if y is not None:\n",
    "            print(f\"Number of classes: {len(y.unique())}\")\n",
    "            print(f\"Classes: {sorted(y.unique())}\")\n",
    "            \n",
    "            # Estimate separability\n",
    "            from sklearn.model_selection import cross_val_score\n",
    "            from sklearn.linear_model import LogisticRegression\n",
    "            \n",
    "            try:\n",
    "                clf = LogisticRegression(max_iter=1000, random_state=42)\n",
    "                scores = cross_val_score(clf, X, y, cv=5, scoring='accuracy')\n",
    "                print(f\"Estimated separability (cross-validation accuracy): {scores.mean():.3f} ± {scores.std():.3f}\")\n",
    "                \n",
    "                if scores.mean() > 0.7:\n",
    "                    print(\"✓ Features appear discriminative for separating classes\")\n",
    "                elif scores.mean() > 0.5:\n",
    "                    print(\"⚠️  Features show moderate separability\")\n",
    "                else:\n",
    "                    print(\"❌ Current features don't appear very discriminative\")\n",
    "                    \n",
    "            except Exception as e:\n",
    "                print(f\"Could not calculate separability: {e}\")\n",
    "        \n",
    "        # Feature importance analysis\n",
    "        print(f\"\\nFeatures with highest variance:\")\n",
    "        feature_vars = np.var(X, axis=0)\n",
    "        top_features_idx = np.argsort(feature_vars)[-5:]\n",
    "        for idx in reversed(top_features_idx):\n",
    "            print(f\"- {feature_cols[idx]}: variance = {feature_vars[idx]:.3f}\")\n",
    "        \n",
    "        return df\n",
    "        \n",
    "    except Exception as e:\n",
    "        print(f\"Analysis error: {e}\")\n",
    "        import traceback\n",
    "        traceback.print_exc()"
   ]
  }
 ],
 "metadata": {
  "kernelspec": {
   "display_name": "Python 3",
   "language": "python",
   "name": "python3"
  },
  "language_info": {
   "codemirror_mode": {
    "name": "ipython",
    "version": 3
   },
   "file_extension": ".py",
   "mimetype": "text/x-python",
   "name": "python",
   "nbconvert_exporter": "python",
   "pygments_lexer": "ipython3",
   "version": "3.13.2"
  }
 },
 "nbformat": 4,
 "nbformat_minor": 5
}
