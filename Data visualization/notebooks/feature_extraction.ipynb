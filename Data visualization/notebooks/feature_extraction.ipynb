{
 "cells": [
  {
   "cell_type": "code",
   "execution_count": 13,
   "id": "90f7b7c4",
   "metadata": {},
   "outputs": [],
   "source": [
    "# Data Visualization for \"To bee or not to bee\"\n",
    "# IG.2412 & IG.2411\n",
    "\n",
    "import os\n",
    "import numpy as np\n",
    "import pandas as pd\n",
    "import matplotlib.pyplot as plt\n",
    "import seaborn as sns\n",
    "import joblib\n",
    "import warnings\n",
    "warnings.filterwarnings('ignore')\n",
    "\n",
    "from PIL import Image\n",
    "import cv2\n",
    "from tqdm import tqdm\n",
    "from skimage import measure, feature, color, morphology\n",
    "\n",
    "from sklearn.preprocessing import StandardScaler, LabelEncoder\n",
    "from sklearn.model_selection import train_test_split, GridSearchCV\n",
    "from sklearn.metrics import (\n",
    "    classification_report, confusion_matrix, accuracy_score, silhouette_score\n",
    ")\n",
    "from sklearn.decomposition import PCA\n",
    "from sklearn.manifold import TSNE, Isomap\n",
    "from sklearn.cluster import KMeans, DBSCAN\n",
    "from sklearn.neighbors import KNeighborsClassifier\n",
    "from sklearn.linear_model import LogisticRegression\n",
    "from sklearn.ensemble import RandomForestClassifier\n",
    "from sklearn.svm import SVC\n",
    "\n",
    "from scipy.optimize import minimize\n",
    "from skimage.transform import rotate\n",
    "\n",
    "# Configuration des chemins\n",
    "DATA_DIR = \"../../train\" \n",
    "IMAGES_DIR = os.path.join(DATA_DIR, \"images\")\n",
    "MASKS_DIR = os.path.join(DATA_DIR, \"masks\")\n",
    "EXCEL_FILE = os.path.join(DATA_DIR, \"classif.xlsx\")"
   ]
  },
  {
   "cell_type": "code",
   "execution_count": 14,
   "id": "cf21930d",
   "metadata": {},
   "outputs": [],
   "source": [
    "# Add these missing functions to your feature extraction code\n",
    "\n",
    "# ==================== MISSING FUNCTION 1: compute_best_inscribed_circle ====================\n",
    "\n",
    "def compute_best_inscribed_circle(mask):\n",
    "    \"\"\"\n",
    "    II. Computation of the best inscribed circle:\n",
    "    - Choosing a proper initialization relying on the centroid of the mask\n",
    "    - Defining a loss function to minimize\n",
    "    - Minimizing the defined loss using the minimize function of Scipy\n",
    "    \"\"\"\n",
    "    from scipy.ndimage import distance_transform_edt\n",
    "    \n",
    "    mask_binary = (mask > 0).astype(int)\n",
    "    if not np.any(mask_binary):\n",
    "        return 0.0, (0.0, 0.0)\n",
    "    \n",
    "    # Distance transform to find distance to nearest edge\n",
    "    distance_map = distance_transform_edt(mask_binary)\n",
    "    \n",
    "    # Initialize with centroid\n",
    "    props = measure.regionprops(mask_binary)\n",
    "    if not props:\n",
    "        return 0.0, (0.0, 0.0)\n",
    "    \n",
    "    centroid = props[0].centroid  # (y, x)\n",
    "    \n",
    "    # Loss function: negative radius (to maximize radius)\n",
    "    def loss_function(coords):\n",
    "        y, x = coords\n",
    "        if not (0 <= y < distance_map.shape[0] and 0 <= x < distance_map.shape[1]):\n",
    "            return 1000  # Penalty for out of bounds\n",
    "        \n",
    "        radius = distance_map[int(y), int(x)]\n",
    "        return -radius  # Negative because we want to maximize\n",
    "    \n",
    "    # Minimize using scipy\n",
    "    result = minimize(\n",
    "        loss_function,\n",
    "        x0=[centroid[0], centroid[1]],\n",
    "        bounds=[(0, mask_binary.shape[0]-1), (0, mask_binary.shape[1]-1)],\n",
    "        method='L-BFGS-B'\n",
    "    )\n",
    "    \n",
    "    y_opt, x_opt = result.x[0], result.x[1]\n",
    "    max_radius = -result.fun\n",
    "    best_center = (x_opt, y_opt)  # Return as (x, y)\n",
    "    \n",
    "    return float(max_radius), best_center\n",
    "\n",
    "# ==================== MISSING FUNCTION 2: rotate_image_filled ====================\n",
    "\n",
    "def rotate_image_filled(image, angle, center):\n",
    "    \"\"\"Rotate image around center with filled background\"\"\"\n",
    "    try:\n",
    "        # Convert center to skimage format (y, x)\n",
    "        center_skimage = (center[1], center[0])\n",
    "        rotated = rotate(image, angle, center=center_skimage, preserve_range=True, cval=0)\n",
    "        return rotated.astype(image.dtype)\n",
    "    except Exception as e:\n",
    "        print(f\"Rotation error: {e}\")\n",
    "        return image\n",
    "\n",
    "# ==================== MISSING FUNCTION 3: compute_best_symmetry_plane ====================\n",
    "\n",
    "def create_symmetric_image(image, center_x):\n",
    "    \"\"\"Create symmetric image around vertical line at center_x\"\"\"\n",
    "    symmetric_image = np.fliplr(image)\n",
    "    return symmetric_image\n",
    "\n",
    "def compute_best_symmetry_plane(image, mask, circle_center, circle_radius):\n",
    "    \"\"\"\n",
    "    III. Computation of the best symmetry plane:\n",
    "    - Choosing a proper initialization among rotations\n",
    "    - Using the filled and proper rotation function\n",
    "    - Using function to create symmetric around vertical line\n",
    "    - Defining a loss function to minimize\n",
    "    - Minimizing using scipy.minimize\n",
    "    \"\"\"\n",
    "    \n",
    "    # Create circular mask for region of interest\n",
    "    Y, X = np.ogrid[:mask.shape[0], :mask.shape[1]]\n",
    "    cx, cy = circle_center\n",
    "    circle_mask = (X - cx)**2 + (Y - cy)**2 <= circle_radius**2\n",
    "    \n",
    "    # Loss function based on difference between image and its symmetric\n",
    "    def symmetry_loss_function(angle):\n",
    "        try:\n",
    "            # Rotate image\n",
    "            rotated_image = rotate_image_filled(image, angle[0], circle_center)\n",
    "            # Create symmetric image\n",
    "            symmetric_image = create_symmetric_image(rotated_image, cx)\n",
    "            \n",
    "            # Calculate difference in circular region\n",
    "            if np.any(circle_mask):\n",
    "                diff = np.sum((rotated_image[circle_mask].astype(float) - \n",
    "                              symmetric_image[circle_mask].astype(float))**2)\n",
    "                return diff / np.sum(circle_mask)\n",
    "            else:\n",
    "                return 1000\n",
    "        except Exception as e:\n",
    "            return 1000\n",
    "    \n",
    "    # Try multiple initial angles\n",
    "    initial_angles = [-30, -15, 0, 15, 30]\n",
    "    best_result = None\n",
    "    best_loss = float('inf')\n",
    "    \n",
    "    for init_angle in initial_angles:\n",
    "        try:\n",
    "            result = minimize(\n",
    "                symmetry_loss_function,\n",
    "                x0=[init_angle],\n",
    "                bounds=[(-45, 45)],\n",
    "                method='L-BFGS-B'\n",
    "            )\n",
    "            \n",
    "            if result.fun < best_loss:\n",
    "                best_loss = result.fun\n",
    "                best_result = result\n",
    "        except:\n",
    "            continue\n",
    "    \n",
    "    if best_result is not None:\n",
    "        best_angle = best_result.x[0]\n",
    "        min_loss = best_result.fun\n",
    "    else:\n",
    "        best_angle = 0.0\n",
    "        min_loss = 1000.0\n",
    "    \n",
    "    return float(min_loss), float(best_angle)\n",
    "\n",
    "# ==================== MISSING FUNCTION 4: extract_shape_features ====================\n",
    "\n",
    "def extract_shape_features(mask):\n",
    "    \"\"\"Extract shape features from mask\"\"\"\n",
    "    mask_binary = (mask > 0).astype(int)\n",
    "    \n",
    "    props = measure.regionprops(mask_binary)\n",
    "    if not props:\n",
    "        return {\n",
    "            'area': 0, 'perimeter': 0, 'eccentricity': 0, 'solidity': 0, \n",
    "            'extent': 0, 'aspect_ratio': 0, 'horizontal_symmetry': 0\n",
    "        }\n",
    "    \n",
    "    prop = props[0]\n",
    "    \n",
    "    # Basic shape features\n",
    "    area = prop.area\n",
    "    perimeter = prop.perimeter\n",
    "    eccentricity = prop.eccentricity\n",
    "    solidity = prop.solidity\n",
    "    extent = prop.extent\n",
    "    \n",
    "    # Aspect ratio\n",
    "    major_axis_length = prop.major_axis_length\n",
    "    minor_axis_length = prop.minor_axis_length\n",
    "    aspect_ratio = major_axis_length / minor_axis_length if minor_axis_length > 0 else 0\n",
    "    \n",
    "    # Horizontal symmetry measure\n",
    "    height, width = mask_binary.shape\n",
    "    if width >= 2:\n",
    "        mid = width // 2\n",
    "        left_half = mask_binary[:, :mid]\n",
    "        right_half = mask_binary[:, width-mid:]\n",
    "        right_half_flipped = np.fliplr(right_half)\n",
    "        \n",
    "        min_width = min(left_half.shape[1], right_half_flipped.shape[1])\n",
    "        if min_width > 0:\n",
    "            intersection = np.sum(left_half[:, :min_width] & right_half_flipped[:, :min_width])\n",
    "            union = np.sum(left_half[:, :min_width] | right_half_flipped[:, :min_width])\n",
    "            horizontal_symmetry = intersection / union if union > 0 else 0\n",
    "        else:\n",
    "            horizontal_symmetry = 0\n",
    "    else:\n",
    "        horizontal_symmetry = 0\n",
    "    \n",
    "    return {\n",
    "        'area': float(area),\n",
    "        'perimeter': float(perimeter),\n",
    "        'eccentricity': float(eccentricity),\n",
    "        'solidity': float(solidity),\n",
    "        'extent': float(extent),\n",
    "        'aspect_ratio': float(aspect_ratio),\n",
    "        'horizontal_symmetry': float(horizontal_symmetry)\n",
    "    }\n",
    "\n",
    "# ==================== MISSING FUNCTION 5: calculate_bug_ratio ====================\n",
    "\n",
    "def calculate_bug_ratio(mask):\n",
    "    \"\"\"Calculate ratio of bug pixels to total pixels\"\"\"\n",
    "    bug_pixels = np.sum(mask > 0)\n",
    "    total_pixels = mask.size\n",
    "    ratio = bug_pixels / total_pixels if total_pixels > 0 else 0\n",
    "    return float(ratio)\n",
    "\n",
    "# ==================== MISSING FUNCTION 6: extract_color_features ====================\n",
    "\n",
    "def extract_color_features(image, mask):\n",
    "    \"\"\"Extract color features (RGB) from image within mask\"\"\"\n",
    "    mask_bool = mask > 0\n",
    "    \n",
    "    if not np.any(mask_bool):\n",
    "        return {f'{color}_{stat}': 0.0 for color in ['r', 'g', 'b'] \n",
    "                for stat in ['min', 'max', 'mean', 'median', 'std']}\n",
    "    \n",
    "    # Extract pixels within mask for each channel\n",
    "    r_channel = image[:, :, 0][mask_bool]\n",
    "    g_channel = image[:, :, 1][mask_bool]\n",
    "    b_channel = image[:, :, 2][mask_bool]\n",
    "    \n",
    "    def get_channel_stats(channel):\n",
    "        if len(channel) == 0:\n",
    "            return {'min': 0, 'max': 0, 'mean': 0, 'median': 0, 'std': 0}\n",
    "        return {\n",
    "            'min': float(np.min(channel)),\n",
    "            'max': float(np.max(channel)),\n",
    "            'mean': float(np.mean(channel)),\n",
    "            'median': float(np.median(channel)),\n",
    "            'std': float(np.std(channel))\n",
    "        }\n",
    "    \n",
    "    # Get stats for each channel\n",
    "    r_stats = get_channel_stats(r_channel)\n",
    "    g_stats = get_channel_stats(g_channel)\n",
    "    b_stats = get_channel_stats(b_channel)\n",
    "    \n",
    "    color_features = {}\n",
    "    for stat in ['min', 'max', 'mean', 'median', 'std']:\n",
    "        color_features[f'r_{stat}'] = r_stats[stat]\n",
    "        color_features[f'g_{stat}'] = g_stats[stat]\n",
    "        color_features[f'b_{stat}'] = b_stats[stat]\n",
    "    \n",
    "    return color_features\n",
    "\n",
    "# ==================== MISSING FUNCTION 7: extract_additional_features ====================\n",
    "\n",
    "def extract_additional_features(image, mask):\n",
    "    \"\"\"Extract additional features (texture and Hu moments)\"\"\"\n",
    "    mask_bool = mask > 0\n",
    "    \n",
    "    if not np.any(mask_bool):\n",
    "        return {\n",
    "            'texture_entropy': 0.0, 'texture_energy': 0.0,\n",
    "            'hu_moment1': 0.0, 'hu_moment2': 0.0, 'hu_moment3': 0.0, 'hu_moment4': 0.0\n",
    "        }\n",
    "    \n",
    "    # Texture features using Local Binary Pattern\n",
    "    try:\n",
    "        gray = cv2.cvtColor(image, cv2.COLOR_RGB2GRAY)\n",
    "        radius = min(3, min(image.shape[:2]) // 4)\n",
    "        n_points = 8 * radius\n",
    "        \n",
    "        if radius > 0:\n",
    "            lbp = feature.local_binary_pattern(gray, n_points, radius, method='uniform')\n",
    "            lbp_bug = lbp[mask_bool]\n",
    "            \n",
    "            if len(lbp_bug) > 0:\n",
    "                n_bins = int(n_points + 2)\n",
    "                hist, _ = np.histogram(lbp_bug, bins=n_bins, range=(0, n_bins), density=True)\n",
    "                hist = hist + 1e-10\n",
    "                texture_entropy = -np.sum(hist * np.log2(hist))\n",
    "                texture_energy = np.sum(hist ** 2)\n",
    "            else:\n",
    "                texture_entropy = 0.0\n",
    "                texture_energy = 0.0\n",
    "        else:\n",
    "            texture_entropy = 0.0\n",
    "            texture_energy = 0.0\n",
    "    except:\n",
    "        texture_entropy = 0.0\n",
    "        texture_energy = 0.0\n",
    "    \n",
    "    # Hu moments\n",
    "    try:\n",
    "        moments = cv2.moments(mask.astype(np.uint8))\n",
    "        hu_moments = cv2.HuMoments(moments).flatten()\n",
    "        \n",
    "        hu_moments_safe = []\n",
    "        for moment in hu_moments[:4]:\n",
    "            if abs(moment) < 1e-10:\n",
    "                hu_moments_safe.append(0.0)\n",
    "            else:\n",
    "                hu_moments_safe.append(-np.sign(moment) * np.log10(abs(moment)))\n",
    "        \n",
    "        while len(hu_moments_safe) < 4:\n",
    "            hu_moments_safe.append(0.0)\n",
    "    except:\n",
    "        hu_moments_safe = [0.0, 0.0, 0.0, 0.0]\n",
    "    \n",
    "    return {\n",
    "        'texture_entropy': float(texture_entropy),\n",
    "        'texture_energy': float(texture_energy),\n",
    "        'hu_moment1': float(hu_moments_safe[0]),\n",
    "        'hu_moment2': float(hu_moments_safe[1]),\n",
    "        'hu_moment3': float(hu_moments_safe[2]),\n",
    "        'hu_moment4': float(hu_moments_safe[3])\n",
    "    }\n",
    "\n",
    "# ==================== MISSING FUNCTION 8: extract_all_features ====================\n",
    "\n",
    "def extract_all_features(image_id):\n",
    "    \"\"\"Extract all features for a given image\"\"\"\n",
    "    try:\n",
    "        # Load and clean image/mask\n",
    "        image, mask = load_image_and_mask(image_id, visualize=True)\n",
    "        \n",
    "        if image is None or mask is None or image.size == 0 or mask.size == 0:\n",
    "            raise ValueError(f\"Problem with image or mask for {image_id}\")\n",
    "        \n",
    "        # Extract basic features\n",
    "        shape_features = extract_shape_features(mask)\n",
    "        bug_ratio = calculate_bug_ratio(mask)\n",
    "        color_features = extract_color_features(image, mask)\n",
    "        additional_features = extract_additional_features(image, mask)\n",
    "        \n",
    "        # Compute inscribed circle\n",
    "        max_radius, circle_center = compute_best_inscribed_circle(mask)\n",
    "        \n",
    "        # Visualize if valid\n",
    "        if max_radius > 1:\n",
    "            visualize_inscribed_circle(image, mask, circle_center, max_radius, image_id)\n",
    "        \n",
    "        # Compute symmetry plane\n",
    "        if max_radius > 5:\n",
    "            symmetry_score, symmetry_angle = compute_best_symmetry_plane(image, mask, circle_center, max_radius)\n",
    "            visualize_symmetry_plane(image, mask, circle_center, symmetry_angle, image_id)\n",
    "        else:\n",
    "            symmetry_score = 0.0\n",
    "            symmetry_angle = 0.0\n",
    "        \n",
    "        # Combine all features\n",
    "        features = {\n",
    "            'image_id': int(image_id),\n",
    "            'bug_ratio': bug_ratio,\n",
    "            'max_inscribed_radius': max_radius,\n",
    "            'symmetry_score': symmetry_score,\n",
    "            'symmetry_angle': symmetry_angle,\n",
    "            **shape_features,\n",
    "            **color_features,\n",
    "            **additional_features\n",
    "        }\n",
    "        \n",
    "        return features\n",
    "        \n",
    "    except Exception as e:\n",
    "        print(f\"Error processing image {image_id}: {e}\")\n",
    "        return create_default_features(image_id)\n",
    "\n",
    "# ==================== MISSING FUNCTION 9: create_default_features ====================\n",
    "\n",
    "def create_default_features(image_id):\n",
    "    \"\"\"Create default features when extraction fails\"\"\"\n",
    "    return {\n",
    "        'image_id': int(image_id),\n",
    "        'bug_ratio': 0.0,\n",
    "        'max_inscribed_radius': 0.0,\n",
    "        'symmetry_score': 0.0,\n",
    "        'symmetry_angle': 0.0,\n",
    "        'area': 0.0, 'perimeter': 0.0, 'eccentricity': 0.0, 'solidity': 0.0,\n",
    "        'extent': 0.0, 'aspect_ratio': 0.0, 'horizontal_symmetry': 0.0,\n",
    "        **{f'{color}_{stat}': 0.0 for color in ['r', 'g', 'b'] \n",
    "           for stat in ['min', 'max', 'mean', 'median', 'std']},\n",
    "        'texture_entropy': 0.0, 'texture_energy': 0.0,\n",
    "        'hu_moment1': 0.0, 'hu_moment2': 0.0, 'hu_moment3': 0.0, 'hu_moment4': 0.0\n",
    "    }\n",
    "\n",
    "# ==================== MISSING FUNCTION 10: normalize_features ====================\n",
    "\n",
    "def normalize_features(features_df):\n",
    "    \"\"\"Normalize features using StandardScaler\"\"\"\n",
    "    from sklearn.preprocessing import StandardScaler\n",
    "    \n",
    "    non_numeric_cols = ['image_id', 'bug_type', 'species']\n",
    "    existing_non_numeric = [col for col in non_numeric_cols if col in features_df.columns]\n",
    "    numeric_cols = [col for col in features_df.columns if col not in existing_non_numeric]\n",
    "    \n",
    "    print(f\"Numeric columns detected: {len(numeric_cols)}\")\n",
    "    \n",
    "    if not numeric_cols:\n",
    "        raise ValueError(\"No numeric columns found for normalization.\")\n",
    "    \n",
    "    numeric_data = features_df[numeric_cols]\n",
    "    numeric_data = numeric_data.replace([np.inf, -np.inf], np.nan).fillna(0)\n",
    "    \n",
    "    scaler = StandardScaler()\n",
    "    features_df_normalized = features_df.copy()\n",
    "    features_df_normalized[numeric_cols] = scaler.fit_transform(numeric_data)\n",
    "    \n",
    "    return features_df_normalized, scaler"
   ]
  },
  {
   "cell_type": "code",
   "execution_count": null,
   "id": "d728b39e",
   "metadata": {},
   "outputs": [
    {
     "name": "stdout",
     "output_type": "stream",
     "text": [
      "=== Starting feature extraction ===\n",
      "Data loaded: 250 insects\n",
      "   ID bug type         species\n",
      "0   1      Bee  Apis mellifera\n",
      "1   2      Bee  Apis mellifera\n",
      "2   3      Bee  Apis mellifera\n",
      "3   4      Bee  Apis mellifera\n",
      "4   5      Bee  Apis mellifera\n",
      "Extracting features...\n"
     ]
    },
    {
     "name": "stderr",
     "output_type": "stream",
     "text": [
      "Extracting features:   4%|▎         | 9/250 [03:39<57:56, 14.43s/it]  "
     ]
    },
    {
     "name": "stdout",
     "output_type": "stream",
     "text": [
      "Error processing image 9: Unable to allocate 68.7 MiB for an array with shape (4000, 6000, 3) and data type bool\n"
     ]
    },
    {
     "name": "stderr",
     "output_type": "stream",
     "text": [
      "Extracting features:   4%|▍         | 10/250 [03:41<41:42, 10.43s/it]"
     ]
    },
    {
     "name": "stdout",
     "output_type": "stream",
     "text": [
      "Error processing image 10: Unable to allocate 68.7 MiB for an array with shape (4000, 6000, 3) and data type bool\n"
     ]
    },
    {
     "name": "stderr",
     "output_type": "stream",
     "text": [
      "Extracting features:   4%|▍         | 11/250 [03:42<30:34,  7.68s/it]"
     ]
    },
    {
     "name": "stdout",
     "output_type": "stream",
     "text": [
      "Error processing image 11: Unable to allocate 68.7 MiB for an array with shape (4000, 6000, 3) and data type bool\n"
     ]
    },
    {
     "name": "stderr",
     "output_type": "stream",
     "text": [
      "Extracting features:   5%|▍         | 12/250 [03:44<22:52,  5.77s/it]"
     ]
    },
    {
     "name": "stdout",
     "output_type": "stream",
     "text": [
      "Error processing image 12: Unable to allocate 68.7 MiB for an array with shape (4000, 6000, 3) and data type bool\n"
     ]
    },
    {
     "name": "stderr",
     "output_type": "stream",
     "text": [
      "Extracting features:   5%|▌         | 13/250 [03:45<17:38,  4.47s/it]"
     ]
    },
    {
     "name": "stdout",
     "output_type": "stream",
     "text": [
      "Error processing image 13: Unable to allocate 68.7 MiB for an array with shape (4000, 6000, 3) and data type bool\n"
     ]
    },
    {
     "name": "stderr",
     "output_type": "stream",
     "text": [
      "Extracting features:   6%|▌         | 14/250 [03:46<13:55,  3.54s/it]"
     ]
    },
    {
     "name": "stdout",
     "output_type": "stream",
     "text": [
      "Error processing image 14: Unable to allocate 68.7 MiB for an array with shape (4000, 6000, 3) and data type bool\n"
     ]
    },
    {
     "name": "stderr",
     "output_type": "stream",
     "text": [
      "Extracting features:   6%|▌         | 15/250 [03:48<11:20,  2.89s/it]"
     ]
    },
    {
     "name": "stdout",
     "output_type": "stream",
     "text": [
      "Error processing image 15: Unable to allocate 68.7 MiB for an array with shape (4000, 6000, 3) and data type bool\n"
     ]
    },
    {
     "name": "stderr",
     "output_type": "stream",
     "text": [
      "Extracting features:   6%|▋         | 16/250 [03:49<09:28,  2.43s/it]"
     ]
    },
    {
     "name": "stdout",
     "output_type": "stream",
     "text": [
      "Error processing image 16: Unable to allocate 68.7 MiB for an array with shape (6000, 4000, 3) and data type bool\n"
     ]
    },
    {
     "name": "stderr",
     "output_type": "stream",
     "text": [
      "Extracting features:   7%|▋         | 17/250 [03:51<08:16,  2.13s/it]"
     ]
    },
    {
     "name": "stdout",
     "output_type": "stream",
     "text": [
      "Error processing image 17: Unable to allocate 68.7 MiB for an array with shape (4000, 6000, 3) and data type bool\n"
     ]
    },
    {
     "name": "stderr",
     "output_type": "stream",
     "text": [
      "Extracting features:   7%|▋         | 18/250 [03:52<07:18,  1.89s/it]"
     ]
    },
    {
     "name": "stdout",
     "output_type": "stream",
     "text": [
      "Error processing image 18: Unable to allocate 68.7 MiB for an array with shape (4000, 6000, 3) and data type bool\n"
     ]
    },
    {
     "name": "stderr",
     "output_type": "stream",
     "text": [
      "Extracting features:   8%|▊         | 19/250 [03:53<06:52,  1.79s/it]"
     ]
    },
    {
     "name": "stdout",
     "output_type": "stream",
     "text": [
      "Error processing image 19: Unable to allocate 68.7 MiB for an array with shape (4000, 6000, 3) and data type bool\n"
     ]
    },
    {
     "name": "stderr",
     "output_type": "stream",
     "text": [
      "Extracting features:   8%|▊         | 20/250 [03:55<06:23,  1.67s/it]"
     ]
    },
    {
     "name": "stdout",
     "output_type": "stream",
     "text": [
      "Error processing image 20: Unable to allocate 68.7 MiB for an array with shape (4000, 6000, 3) and data type bool\n"
     ]
    },
    {
     "name": "stderr",
     "output_type": "stream",
     "text": [
      "Extracting features:   8%|▊         | 21/250 [03:56<06:01,  1.58s/it]"
     ]
    },
    {
     "name": "stdout",
     "output_type": "stream",
     "text": [
      "Error processing image 21: Unable to allocate 68.7 MiB for an array with shape (4000, 6000, 3) and data type bool\n"
     ]
    },
    {
     "name": "stderr",
     "output_type": "stream",
     "text": [
      "Extracting features:   9%|▉         | 22/250 [03:58<05:49,  1.53s/it]"
     ]
    },
    {
     "name": "stdout",
     "output_type": "stream",
     "text": [
      "Error processing image 22: Unable to allocate 68.7 MiB for an array with shape (4000, 6000, 3) and data type bool\n"
     ]
    },
    {
     "name": "stderr",
     "output_type": "stream",
     "text": [
      "Extracting features:   9%|▉         | 23/250 [03:59<05:39,  1.50s/it]"
     ]
    },
    {
     "name": "stdout",
     "output_type": "stream",
     "text": [
      "Error processing image 23: Unable to allocate 68.7 MiB for an array with shape (4000, 6000, 3) and data type bool\n"
     ]
    },
    {
     "name": "stderr",
     "output_type": "stream",
     "text": [
      "Extracting features:  10%|▉         | 24/250 [04:01<05:39,  1.50s/it]"
     ]
    },
    {
     "name": "stdout",
     "output_type": "stream",
     "text": [
      "Error processing image 24: Unable to allocate 68.7 MiB for an array with shape (4000, 6000, 3) and data type bool\n"
     ]
    },
    {
     "name": "stderr",
     "output_type": "stream",
     "text": [
      "Extracting features:  10%|█         | 25/250 [04:02<05:38,  1.51s/it]"
     ]
    },
    {
     "name": "stdout",
     "output_type": "stream",
     "text": [
      "Error processing image 25: Unable to allocate 68.7 MiB for an array with shape (4000, 6000, 3) and data type bool\n"
     ]
    },
    {
     "name": "stderr",
     "output_type": "stream",
     "text": [
      "Extracting features:  10%|█         | 26/250 [04:04<05:39,  1.52s/it]"
     ]
    },
    {
     "name": "stdout",
     "output_type": "stream",
     "text": [
      "Error processing image 26: Unable to allocate 68.7 MiB for an array with shape (4000, 6000, 3) and data type bool\n"
     ]
    },
    {
     "name": "stderr",
     "output_type": "stream",
     "text": [
      "Extracting features:  11%|█         | 27/250 [04:05<05:28,  1.47s/it]"
     ]
    },
    {
     "name": "stdout",
     "output_type": "stream",
     "text": [
      "Error processing image 27: Unable to allocate 68.7 MiB for an array with shape (4000, 6000, 3) and data type bool\n"
     ]
    },
    {
     "name": "stderr",
     "output_type": "stream",
     "text": [
      "Extracting features:  11%|█         | 28/250 [04:06<05:22,  1.45s/it]"
     ]
    },
    {
     "name": "stdout",
     "output_type": "stream",
     "text": [
      "Error processing image 28: Unable to allocate 68.7 MiB for an array with shape (4000, 6000, 3) and data type bool\n"
     ]
    },
    {
     "name": "stderr",
     "output_type": "stream",
     "text": [
      "Extracting features:  12%|█▏        | 29/250 [04:08<05:16,  1.43s/it]"
     ]
    },
    {
     "name": "stdout",
     "output_type": "stream",
     "text": [
      "Error processing image 29: Unable to allocate 68.7 MiB for an array with shape (4000, 6000, 3) and data type bool\n"
     ]
    },
    {
     "name": "stderr",
     "output_type": "stream",
     "text": [
      "Extracting features:  12%|█▏        | 30/250 [04:09<05:04,  1.38s/it]"
     ]
    },
    {
     "name": "stdout",
     "output_type": "stream",
     "text": [
      "Error processing image 30: Unable to allocate 68.7 MiB for an array with shape (4000, 6000, 3) and data type bool\n"
     ]
    },
    {
     "name": "stderr",
     "output_type": "stream",
     "text": [
      "Extracting features:  12%|█▏        | 31/250 [04:10<05:04,  1.39s/it]"
     ]
    },
    {
     "name": "stdout",
     "output_type": "stream",
     "text": [
      "Error processing image 31: Unable to allocate 68.7 MiB for an array with shape (4000, 6000, 3) and data type bool\n"
     ]
    },
    {
     "name": "stderr",
     "output_type": "stream",
     "text": [
      "Extracting features:  13%|█▎        | 32/250 [04:12<05:02,  1.39s/it]"
     ]
    },
    {
     "name": "stdout",
     "output_type": "stream",
     "text": [
      "Error processing image 32: Unable to allocate 68.7 MiB for an array with shape (4000, 6000, 3) and data type bool\n"
     ]
    },
    {
     "name": "stderr",
     "output_type": "stream",
     "text": [
      "Extracting features:  13%|█▎        | 33/250 [04:13<05:16,  1.46s/it]"
     ]
    },
    {
     "name": "stdout",
     "output_type": "stream",
     "text": [
      "Error processing image 33: Unable to allocate 68.7 MiB for an array with shape (4000, 6000, 3) and data type bool\n"
     ]
    },
    {
     "name": "stderr",
     "output_type": "stream",
     "text": [
      "Extracting features:  14%|█▎        | 34/250 [04:15<05:37,  1.56s/it]"
     ]
    },
    {
     "name": "stdout",
     "output_type": "stream",
     "text": [
      "Error processing image 34: Unable to allocate 22.9 MiB for an array with shape (4000, 6000) and data type uint8\n"
     ]
    },
    {
     "name": "stderr",
     "output_type": "stream",
     "text": [
      "Extracting features:  14%|█▍        | 35/250 [04:16<04:54,  1.37s/it]"
     ]
    },
    {
     "name": "stdout",
     "output_type": "stream",
     "text": [
      "Error processing image 35: Unable to allocate 183. MiB for an array with shape (24000000,) and data type int64\n"
     ]
    },
    {
     "name": "stderr",
     "output_type": "stream",
     "text": [
      "Extracting features:  14%|█▍        | 36/250 [04:17<04:26,  1.25s/it]"
     ]
    },
    {
     "name": "stdout",
     "output_type": "stream",
     "text": [
      "Error processing image 36: Unable to allocate 183. MiB for an array with shape (24000000,) and data type int64\n"
     ]
    },
    {
     "name": "stderr",
     "output_type": "stream",
     "text": [
      "Extracting features:  15%|█▍        | 37/250 [04:18<04:14,  1.20s/it]"
     ]
    },
    {
     "name": "stdout",
     "output_type": "stream",
     "text": [
      "Error processing image 37: Unable to allocate 183. MiB for an array with shape (24000000,) and data type int64\n"
     ]
    },
    {
     "name": "stderr",
     "output_type": "stream",
     "text": [
      "Extracting features:  15%|█▌        | 38/250 [04:19<03:52,  1.10s/it]"
     ]
    },
    {
     "name": "stdout",
     "output_type": "stream",
     "text": [
      "Error processing image 38: Unable to allocate 183. MiB for an array with shape (24000000,) and data type int64\n"
     ]
    },
    {
     "name": "stderr",
     "output_type": "stream",
     "text": [
      "Extracting features:  16%|█▌        | 39/250 [04:20<03:41,  1.05s/it]"
     ]
    },
    {
     "name": "stdout",
     "output_type": "stream",
     "text": [
      "Error processing image 39: Unable to allocate 183. MiB for an array with shape (24000000,) and data type int64\n"
     ]
    },
    {
     "name": "stderr",
     "output_type": "stream",
     "text": [
      "Extracting features:  16%|█▌        | 40/250 [04:21<03:31,  1.01s/it]"
     ]
    },
    {
     "name": "stdout",
     "output_type": "stream",
     "text": [
      "Error processing image 40: Unable to allocate 183. MiB for an array with shape (24000000,) and data type int64\n"
     ]
    },
    {
     "name": "stderr",
     "output_type": "stream",
     "text": [
      "Extracting features:  16%|█▋        | 41/250 [04:22<03:27,  1.01it/s]"
     ]
    },
    {
     "name": "stdout",
     "output_type": "stream",
     "text": [
      "Error processing image 41: Unable to allocate 183. MiB for an array with shape (24000000,) and data type int64\n"
     ]
    },
    {
     "name": "stderr",
     "output_type": "stream",
     "text": [
      "Extracting features:  17%|█▋        | 42/250 [04:23<03:18,  1.05it/s]"
     ]
    },
    {
     "name": "stdout",
     "output_type": "stream",
     "text": [
      "Error processing image 42: Unable to allocate 183. MiB for an array with shape (24000000,) and data type int64\n"
     ]
    },
    {
     "name": "stderr",
     "output_type": "stream",
     "text": [
      "Extracting features:  17%|█▋        | 43/250 [04:24<03:10,  1.09it/s]"
     ]
    },
    {
     "name": "stdout",
     "output_type": "stream",
     "text": [
      "Error processing image 43: Unable to allocate 183. MiB for an array with shape (24000000,) and data type int64\n"
     ]
    },
    {
     "name": "stderr",
     "output_type": "stream",
     "text": [
      "Extracting features:  18%|█▊        | 44/250 [04:25<03:16,  1.05it/s]"
     ]
    },
    {
     "name": "stdout",
     "output_type": "stream",
     "text": [
      "Error processing image 44: Unable to allocate 183. MiB for an array with shape (24000000,) and data type int64\n"
     ]
    },
    {
     "name": "stderr",
     "output_type": "stream",
     "text": [
      "Extracting features:  18%|█▊        | 45/250 [04:26<03:19,  1.03it/s]"
     ]
    },
    {
     "name": "stdout",
     "output_type": "stream",
     "text": [
      "Error processing image 45: Unable to allocate 183. MiB for an array with shape (24000000,) and data type int64\n"
     ]
    },
    {
     "name": "stderr",
     "output_type": "stream",
     "text": [
      "Extracting features:  18%|█▊        | 46/250 [04:27<03:15,  1.04it/s]"
     ]
    },
    {
     "name": "stdout",
     "output_type": "stream",
     "text": [
      "Error processing image 46: Unable to allocate 183. MiB for an array with shape (24000000,) and data type int64\n"
     ]
    },
    {
     "name": "stderr",
     "output_type": "stream",
     "text": [
      "Extracting features:  19%|█▉        | 47/250 [04:28<03:15,  1.04it/s]"
     ]
    },
    {
     "name": "stdout",
     "output_type": "stream",
     "text": [
      "Error processing image 47: Unable to allocate 183. MiB for an array with shape (24000000,) and data type int64\n"
     ]
    },
    {
     "name": "stderr",
     "output_type": "stream",
     "text": [
      "Extracting features:  19%|█▉        | 48/250 [04:29<03:40,  1.09s/it]"
     ]
    },
    {
     "name": "stdout",
     "output_type": "stream",
     "text": [
      "Error processing image 48: Unable to allocate 68.7 MiB for an array with shape (4000, 6000, 3) and data type bool\n"
     ]
    },
    {
     "name": "stderr",
     "output_type": "stream",
     "text": [
      "Extracting features:  20%|█▉        | 49/250 [04:30<04:01,  1.20s/it]"
     ]
    },
    {
     "name": "stdout",
     "output_type": "stream",
     "text": [
      "Error processing image 49: Unable to allocate 68.7 MiB for an array with shape (4000, 6000, 3) and data type bool\n"
     ]
    },
    {
     "name": "stderr",
     "output_type": "stream",
     "text": [
      "Extracting features:  20%|██        | 50/250 [04:32<04:17,  1.29s/it]"
     ]
    },
    {
     "name": "stdout",
     "output_type": "stream",
     "text": [
      "Error processing image 50: Unable to allocate 68.7 MiB for an array with shape (4000, 6000, 3) and data type bool\n"
     ]
    },
    {
     "name": "stderr",
     "output_type": "stream",
     "text": [
      "Extracting features:  20%|██        | 51/250 [04:33<04:25,  1.33s/it]"
     ]
    },
    {
     "name": "stdout",
     "output_type": "stream",
     "text": [
      "Error processing image 51: Unable to allocate 68.7 MiB for an array with shape (4000, 6000, 3) and data type bool\n"
     ]
    },
    {
     "name": "stderr",
     "output_type": "stream",
     "text": [
      "Extracting features:  21%|██        | 52/250 [04:35<04:51,  1.47s/it]"
     ]
    },
    {
     "name": "stdout",
     "output_type": "stream",
     "text": [
      "Error processing image 52: Unable to allocate 22.9 MiB for an array with shape (4000, 6000) and data type uint8\n"
     ]
    },
    {
     "name": "stderr",
     "output_type": "stream",
     "text": [
      "Extracting features:  21%|██        | 53/250 [04:36<04:22,  1.33s/it]"
     ]
    },
    {
     "name": "stdout",
     "output_type": "stream",
     "text": [
      "Error processing image 53: Unable to allocate 183. MiB for an array with shape (24000000,) and data type int64\n"
     ]
    },
    {
     "name": "stderr",
     "output_type": "stream",
     "text": [
      "Extracting features:  22%|██▏       | 54/250 [04:37<04:05,  1.25s/it]"
     ]
    },
    {
     "name": "stdout",
     "output_type": "stream",
     "text": [
      "Error processing image 54: Unable to allocate 183. MiB for an array with shape (24000000,) and data type int64\n"
     ]
    },
    {
     "name": "stderr",
     "output_type": "stream",
     "text": [
      "Extracting features:  22%|██▏       | 55/250 [04:38<03:43,  1.15s/it]"
     ]
    },
    {
     "name": "stdout",
     "output_type": "stream",
     "text": [
      "Error processing image 55: Unable to allocate 183. MiB for an array with shape (24000000,) and data type int64\n"
     ]
    },
    {
     "name": "stderr",
     "output_type": "stream",
     "text": [
      "Extracting features:  22%|██▏       | 56/250 [04:39<03:22,  1.04s/it]"
     ]
    },
    {
     "name": "stdout",
     "output_type": "stream",
     "text": [
      "Error processing image 56: Unable to allocate 183. MiB for an array with shape (24000000,) and data type int64\n"
     ]
    },
    {
     "name": "stderr",
     "output_type": "stream",
     "text": [
      "Extracting features:  23%|██▎       | 57/250 [04:40<03:18,  1.03s/it]"
     ]
    },
    {
     "name": "stdout",
     "output_type": "stream",
     "text": [
      "Error processing image 57: Unable to allocate 183. MiB for an array with shape (24000000,) and data type int64\n"
     ]
    },
    {
     "name": "stderr",
     "output_type": "stream",
     "text": [
      "Extracting features:  23%|██▎       | 58/250 [04:41<03:15,  1.02s/it]"
     ]
    },
    {
     "name": "stdout",
     "output_type": "stream",
     "text": [
      "Error processing image 58: Unable to allocate 183. MiB for an array with shape (24000000,) and data type int64\n"
     ]
    },
    {
     "name": "stderr",
     "output_type": "stream",
     "text": [
      "Extracting features:  24%|██▎       | 59/250 [04:42<03:13,  1.01s/it]"
     ]
    },
    {
     "name": "stdout",
     "output_type": "stream",
     "text": [
      "Error processing image 59: Unable to allocate 183. MiB for an array with shape (24000000,) and data type int64\n"
     ]
    },
    {
     "name": "stderr",
     "output_type": "stream",
     "text": [
      "Extracting features:  24%|██▍       | 60/250 [04:43<03:09,  1.00it/s]"
     ]
    },
    {
     "name": "stdout",
     "output_type": "stream",
     "text": [
      "Error processing image 60: Unable to allocate 183. MiB for an array with shape (24000000,) and data type int64\n"
     ]
    },
    {
     "name": "stderr",
     "output_type": "stream",
     "text": [
      "Extracting features:  24%|██▍       | 61/250 [04:44<03:02,  1.03it/s]"
     ]
    },
    {
     "name": "stdout",
     "output_type": "stream",
     "text": [
      "Error processing image 61: Unable to allocate 183. MiB for an array with shape (24000000,) and data type int64\n"
     ]
    },
    {
     "name": "stderr",
     "output_type": "stream",
     "text": [
      "Extracting features:  25%|██▍       | 62/250 [04:45<02:59,  1.05it/s]"
     ]
    },
    {
     "name": "stdout",
     "output_type": "stream",
     "text": [
      "Error processing image 62: Unable to allocate 183. MiB for an array with shape (24000000,) and data type int64\n"
     ]
    },
    {
     "name": "stderr",
     "output_type": "stream",
     "text": [
      "Extracting features:  25%|██▌       | 63/250 [04:46<03:00,  1.04it/s]"
     ]
    },
    {
     "name": "stdout",
     "output_type": "stream",
     "text": [
      "Error processing image 63: Unable to allocate 183. MiB for an array with shape (24000000,) and data type int64\n"
     ]
    },
    {
     "name": "stderr",
     "output_type": "stream",
     "text": [
      "Extracting features:  26%|██▌       | 64/250 [04:47<03:04,  1.01it/s]"
     ]
    },
    {
     "name": "stdout",
     "output_type": "stream",
     "text": [
      "Error processing image 64: Unable to allocate 183. MiB for an array with shape (24000000,) and data type int64\n"
     ]
    },
    {
     "name": "stderr",
     "output_type": "stream",
     "text": [
      "Extracting features:  26%|██▌       | 65/250 [04:48<03:00,  1.03it/s]"
     ]
    },
    {
     "name": "stdout",
     "output_type": "stream",
     "text": [
      "Error processing image 65: Unable to allocate 183. MiB for an array with shape (24000000,) and data type int64\n"
     ]
    },
    {
     "name": "stderr",
     "output_type": "stream",
     "text": [
      "Extracting features:  26%|██▋       | 66/250 [04:49<02:53,  1.06it/s]"
     ]
    },
    {
     "name": "stdout",
     "output_type": "stream",
     "text": [
      "Error processing image 66: Unable to allocate 183. MiB for an array with shape (24000000,) and data type int64\n"
     ]
    },
    {
     "name": "stderr",
     "output_type": "stream",
     "text": [
      "Extracting features:  27%|██▋       | 67/250 [04:50<03:00,  1.02it/s]"
     ]
    },
    {
     "name": "stdout",
     "output_type": "stream",
     "text": [
      "Error processing image 67: Unable to allocate 183. MiB for an array with shape (24000000,) and data type int64\n"
     ]
    },
    {
     "name": "stderr",
     "output_type": "stream",
     "text": [
      "Extracting features:  27%|██▋       | 68/250 [04:51<02:56,  1.03it/s]"
     ]
    },
    {
     "name": "stdout",
     "output_type": "stream",
     "text": [
      "Error processing image 68: Unable to allocate 183. MiB for an array with shape (24000000,) and data type int64\n"
     ]
    },
    {
     "name": "stderr",
     "output_type": "stream",
     "text": [
      "Extracting features:  28%|██▊       | 69/250 [04:52<03:00,  1.00it/s]"
     ]
    },
    {
     "name": "stdout",
     "output_type": "stream",
     "text": [
      "Error processing image 69: Unable to allocate 183. MiB for an array with shape (24000000,) and data type int64\n"
     ]
    },
    {
     "name": "stderr",
     "output_type": "stream",
     "text": [
      "Extracting features:  28%|██▊       | 70/250 [04:53<02:56,  1.02it/s]"
     ]
    },
    {
     "name": "stdout",
     "output_type": "stream",
     "text": [
      "Error processing image 70: Unable to allocate 183. MiB for an array with shape (24000000,) and data type int64\n"
     ]
    },
    {
     "name": "stderr",
     "output_type": "stream",
     "text": [
      "Extracting features:  28%|██▊       | 71/250 [04:54<02:56,  1.02it/s]"
     ]
    },
    {
     "name": "stdout",
     "output_type": "stream",
     "text": [
      "Error processing image 71: Unable to allocate 183. MiB for an array with shape (24000000,) and data type int64\n"
     ]
    },
    {
     "name": "stderr",
     "output_type": "stream",
     "text": [
      "Extracting features:  29%|██▉       | 72/250 [04:54<02:53,  1.03it/s]"
     ]
    },
    {
     "name": "stdout",
     "output_type": "stream",
     "text": [
      "Error processing image 72: Unable to allocate 183. MiB for an array with shape (24000000,) and data type int64\n"
     ]
    },
    {
     "name": "stderr",
     "output_type": "stream",
     "text": [
      "Extracting features:  29%|██▉       | 73/250 [04:55<02:48,  1.05it/s]"
     ]
    },
    {
     "name": "stdout",
     "output_type": "stream",
     "text": [
      "Error processing image 73: Unable to allocate 183. MiB for an array with shape (24000000,) and data type int64\n"
     ]
    },
    {
     "name": "stderr",
     "output_type": "stream",
     "text": [
      "Extracting features:  30%|██▉       | 74/250 [04:56<02:51,  1.03it/s]"
     ]
    },
    {
     "name": "stdout",
     "output_type": "stream",
     "text": [
      "Error processing image 74: Unable to allocate 183. MiB for an array with shape (24000000,) and data type int64\n"
     ]
    },
    {
     "name": "stderr",
     "output_type": "stream",
     "text": [
      "Extracting features:  30%|███       | 75/250 [04:57<02:44,  1.06it/s]"
     ]
    },
    {
     "name": "stdout",
     "output_type": "stream",
     "text": [
      "Error processing image 75: Unable to allocate 183. MiB for an array with shape (24000000,) and data type int64\n"
     ]
    },
    {
     "name": "stderr",
     "output_type": "stream",
     "text": [
      "Extracting features:  30%|███       | 76/250 [04:58<02:41,  1.08it/s]"
     ]
    },
    {
     "name": "stdout",
     "output_type": "stream",
     "text": [
      "Error processing image 76: Unable to allocate 183. MiB for an array with shape (24000000,) and data type int64\n"
     ]
    },
    {
     "name": "stderr",
     "output_type": "stream",
     "text": [
      "Extracting features:  31%|███       | 77/250 [04:59<02:57,  1.03s/it]"
     ]
    },
    {
     "name": "stdout",
     "output_type": "stream",
     "text": [
      "Error processing image 77: Unable to allocate 68.7 MiB for an array with shape (4000, 6000, 3) and data type bool\n"
     ]
    },
    {
     "name": "stderr",
     "output_type": "stream",
     "text": [
      "Extracting features:  31%|███       | 78/250 [05:01<03:15,  1.14s/it]"
     ]
    },
    {
     "name": "stdout",
     "output_type": "stream",
     "text": [
      "Error processing image 78: Unable to allocate 68.7 MiB for an array with shape (4000, 6000, 3) and data type bool\n"
     ]
    },
    {
     "name": "stderr",
     "output_type": "stream",
     "text": [
      "Extracting features:  32%|███▏      | 79/250 [05:02<03:01,  1.06s/it]"
     ]
    },
    {
     "name": "stdout",
     "output_type": "stream",
     "text": [
      "Error processing image 79: Unable to allocate 183. MiB for an array with shape (24000000,) and data type int64\n"
     ]
    },
    {
     "name": "stderr",
     "output_type": "stream",
     "text": [
      "Extracting features:  32%|███▏      | 80/250 [05:02<02:42,  1.05it/s]"
     ]
    },
    {
     "name": "stdout",
     "output_type": "stream",
     "text": [
      "Error processing image 80: Unable to allocate 183. MiB for an array with shape (24000000,) and data type int64\n"
     ]
    },
    {
     "name": "stderr",
     "output_type": "stream",
     "text": [
      "Extracting features:  32%|███▏      | 81/250 [05:03<02:33,  1.10it/s]"
     ]
    },
    {
     "name": "stdout",
     "output_type": "stream",
     "text": [
      "Error processing image 81: Unable to allocate 183. MiB for an array with shape (24000000,) and data type int64\n"
     ]
    },
    {
     "name": "stderr",
     "output_type": "stream",
     "text": [
      "Extracting features:  33%|███▎      | 82/250 [05:04<02:34,  1.09it/s]"
     ]
    },
    {
     "name": "stdout",
     "output_type": "stream",
     "text": [
      "Error processing image 82: Unable to allocate 183. MiB for an array with shape (24000000,) and data type int64\n"
     ]
    },
    {
     "name": "stderr",
     "output_type": "stream",
     "text": [
      "Extracting features:  33%|███▎      | 83/250 [05:05<02:34,  1.08it/s]"
     ]
    },
    {
     "name": "stdout",
     "output_type": "stream",
     "text": [
      "Error processing image 83: Unable to allocate 183. MiB for an array with shape (24000000,) and data type int64\n"
     ]
    },
    {
     "name": "stderr",
     "output_type": "stream",
     "text": [
      "Extracting features:  34%|███▍      | 85/250 [05:21<10:25,  3.79s/it]"
     ]
    },
    {
     "name": "stdout",
     "output_type": "stream",
     "text": [
      "Error processing image 85: Unable to allocate 183. MiB for an array with shape (24000000,) and data type int64\n"
     ]
    },
    {
     "name": "stderr",
     "output_type": "stream",
     "text": [
      "Extracting features:  34%|███▍      | 86/250 [05:22<08:04,  2.95s/it]"
     ]
    },
    {
     "name": "stdout",
     "output_type": "stream",
     "text": [
      "Error processing image 86: Unable to allocate 183. MiB for an array with shape (24000000,) and data type int64\n"
     ]
    },
    {
     "name": "stderr",
     "output_type": "stream",
     "text": [
      "Extracting features:  35%|███▍      | 87/250 [05:23<06:28,  2.38s/it]"
     ]
    },
    {
     "name": "stdout",
     "output_type": "stream",
     "text": [
      "Error processing image 87: Unable to allocate 183. MiB for an array with shape (24000000,) and data type int64\n"
     ]
    },
    {
     "name": "stderr",
     "output_type": "stream",
     "text": [
      "Extracting features:  35%|███▌      | 88/250 [05:24<05:19,  1.97s/it]"
     ]
    },
    {
     "name": "stdout",
     "output_type": "stream",
     "text": [
      "Error processing image 88: Unable to allocate 183. MiB for an array with shape (24000000,) and data type int64\n"
     ]
    },
    {
     "name": "stderr",
     "output_type": "stream",
     "text": [
      "Extracting features:  36%|███▌      | 89/250 [05:25<04:26,  1.65s/it]"
     ]
    },
    {
     "name": "stdout",
     "output_type": "stream",
     "text": [
      "Error processing image 89: Unable to allocate 183. MiB for an array with shape (24000000,) and data type int64\n"
     ]
    },
    {
     "name": "stderr",
     "output_type": "stream",
     "text": [
      "Extracting features:  36%|███▌      | 90/250 [05:26<03:59,  1.50s/it]"
     ]
    },
    {
     "name": "stdout",
     "output_type": "stream",
     "text": [
      "Error processing image 90: Unable to allocate 183. MiB for an array with shape (24000000,) and data type int64\n"
     ]
    },
    {
     "name": "stderr",
     "output_type": "stream",
     "text": [
      "Extracting features:  36%|███▋      | 91/250 [05:27<03:31,  1.33s/it]"
     ]
    },
    {
     "name": "stdout",
     "output_type": "stream",
     "text": [
      "Error processing image 91: Unable to allocate 183. MiB for an array with shape (24000000,) and data type int64\n"
     ]
    },
    {
     "name": "stderr",
     "output_type": "stream",
     "text": [
      "Extracting features:  37%|███▋      | 92/250 [05:28<03:14,  1.23s/it]"
     ]
    },
    {
     "name": "stdout",
     "output_type": "stream",
     "text": [
      "Error processing image 92: Unable to allocate 183. MiB for an array with shape (24000000,) and data type int64\n"
     ]
    },
    {
     "name": "stderr",
     "output_type": "stream",
     "text": [
      "Extracting features:  37%|███▋      | 93/250 [05:29<03:00,  1.15s/it]"
     ]
    },
    {
     "name": "stdout",
     "output_type": "stream",
     "text": [
      "Error processing image 93: Unable to allocate 183. MiB for an array with shape (24000000,) and data type int64\n"
     ]
    },
    {
     "name": "stderr",
     "output_type": "stream",
     "text": [
      "Extracting features:  38%|███▊      | 94/250 [05:29<02:47,  1.07s/it]"
     ]
    },
    {
     "name": "stdout",
     "output_type": "stream",
     "text": [
      "Error processing image 94: Unable to allocate 183. MiB for an array with shape (24000000,) and data type int64\n"
     ]
    },
    {
     "name": "stderr",
     "output_type": "stream",
     "text": [
      "Extracting features:  38%|███▊      | 95/250 [05:30<02:41,  1.05s/it]"
     ]
    },
    {
     "name": "stdout",
     "output_type": "stream",
     "text": [
      "Error processing image 95: Unable to allocate 183. MiB for an array with shape (24000000,) and data type int64\n"
     ]
    },
    {
     "name": "stderr",
     "output_type": "stream",
     "text": [
      "Extracting features:  38%|███▊      | 96/250 [05:32<02:45,  1.08s/it]"
     ]
    },
    {
     "name": "stdout",
     "output_type": "stream",
     "text": [
      "Error processing image 96: Unable to allocate 183. MiB for an array with shape (24000000,) and data type int64\n"
     ]
    },
    {
     "name": "stderr",
     "output_type": "stream",
     "text": [
      "Extracting features:  39%|███▉      | 97/250 [05:33<02:38,  1.03s/it]"
     ]
    },
    {
     "name": "stdout",
     "output_type": "stream",
     "text": [
      "Error processing image 97: Unable to allocate 183. MiB for an array with shape (24000000,) and data type int64\n"
     ]
    },
    {
     "name": "stderr",
     "output_type": "stream",
     "text": [
      "Extracting features:  39%|███▉      | 98/250 [05:34<02:35,  1.02s/it]"
     ]
    },
    {
     "name": "stdout",
     "output_type": "stream",
     "text": [
      "Error processing image 98: Unable to allocate 183. MiB for an array with shape (24000000,) and data type int64\n"
     ]
    },
    {
     "name": "stderr",
     "output_type": "stream",
     "text": [
      "Extracting features:  40%|███▉      | 99/250 [05:35<02:35,  1.03s/it]"
     ]
    },
    {
     "name": "stdout",
     "output_type": "stream",
     "text": [
      "Error processing image 99: Unable to allocate 183. MiB for an array with shape (24000000,) and data type int64\n"
     ]
    },
    {
     "name": "stderr",
     "output_type": "stream",
     "text": [
      "Extracting features:  40%|████      | 100/250 [05:36<02:46,  1.11s/it]"
     ]
    },
    {
     "name": "stdout",
     "output_type": "stream",
     "text": [
      "Error processing image 100: Unable to allocate 183. MiB for an array with shape (24000000,) and data type int64\n"
     ]
    },
    {
     "name": "stderr",
     "output_type": "stream",
     "text": [
      "Extracting features:  40%|████      | 101/250 [05:37<02:47,  1.13s/it]"
     ]
    },
    {
     "name": "stdout",
     "output_type": "stream",
     "text": [
      "Error processing image 101: Unable to allocate 183. MiB for an array with shape (24000000,) and data type int64\n"
     ]
    },
    {
     "name": "stderr",
     "output_type": "stream",
     "text": [
      "Extracting features:  41%|████      | 102/250 [05:38<02:56,  1.19s/it]"
     ]
    },
    {
     "name": "stdout",
     "output_type": "stream",
     "text": [
      "Error processing image 102: Unable to allocate 183. MiB for an array with shape (24000000,) and data type int64\n"
     ]
    },
    {
     "name": "stderr",
     "output_type": "stream",
     "text": [
      "Extracting features:  41%|████      | 103/250 [05:39<02:51,  1.17s/it]"
     ]
    },
    {
     "name": "stdout",
     "output_type": "stream",
     "text": [
      "Error processing image 103: Unable to allocate 183. MiB for an array with shape (24000000,) and data type int64\n"
     ]
    },
    {
     "name": "stderr",
     "output_type": "stream",
     "text": [
      "Extracting features:  42%|████▏     | 104/250 [05:41<02:48,  1.15s/it]"
     ]
    },
    {
     "name": "stdout",
     "output_type": "stream",
     "text": [
      "Error processing image 104: Unable to allocate 183. MiB for an array with shape (24000000,) and data type int64\n"
     ]
    },
    {
     "name": "stderr",
     "output_type": "stream",
     "text": [
      "Extracting features:  42%|████▏     | 105/250 [05:42<02:42,  1.12s/it]"
     ]
    },
    {
     "name": "stdout",
     "output_type": "stream",
     "text": [
      "Error processing image 105: Unable to allocate 183. MiB for an array with shape (24000000,) and data type int64\n"
     ]
    },
    {
     "name": "stderr",
     "output_type": "stream",
     "text": [
      "Extracting features:  42%|████▏     | 106/250 [05:43<02:37,  1.09s/it]"
     ]
    },
    {
     "name": "stdout",
     "output_type": "stream",
     "text": [
      "Error processing image 106: Unable to allocate 183. MiB for an array with shape (24000000,) and data type int64\n"
     ]
    },
    {
     "name": "stderr",
     "output_type": "stream",
     "text": [
      "Extracting features:  43%|████▎     | 107/250 [05:44<02:27,  1.03s/it]"
     ]
    },
    {
     "name": "stdout",
     "output_type": "stream",
     "text": [
      "Error processing image 107: Unable to allocate 183. MiB for an array with shape (24000000,) and data type int64\n"
     ]
    },
    {
     "name": "stderr",
     "output_type": "stream",
     "text": [
      "Extracting features:  43%|████▎     | 108/250 [05:45<02:23,  1.01s/it]"
     ]
    },
    {
     "name": "stdout",
     "output_type": "stream",
     "text": [
      "Error processing image 108: Unable to allocate 183. MiB for an array with shape (24000000,) and data type int64\n"
     ]
    },
    {
     "name": "stderr",
     "output_type": "stream",
     "text": [
      "Extracting features:  44%|████▎     | 109/250 [05:45<02:19,  1.01it/s]"
     ]
    },
    {
     "name": "stdout",
     "output_type": "stream",
     "text": [
      "Error processing image 109: Unable to allocate 183. MiB for an array with shape (24000000,) and data type int64\n"
     ]
    },
    {
     "name": "stderr",
     "output_type": "stream",
     "text": [
      "Extracting features:  44%|████▍     | 110/250 [05:46<02:16,  1.02it/s]"
     ]
    },
    {
     "name": "stdout",
     "output_type": "stream",
     "text": [
      "Error processing image 110: Unable to allocate 183. MiB for an array with shape (24000000,) and data type int64\n"
     ]
    },
    {
     "name": "stderr",
     "output_type": "stream",
     "text": [
      "Extracting features:  44%|████▍     | 111/250 [05:47<02:14,  1.04it/s]"
     ]
    },
    {
     "name": "stdout",
     "output_type": "stream",
     "text": [
      "Error processing image 111: Unable to allocate 183. MiB for an array with shape (24000000,) and data type int64\n"
     ]
    },
    {
     "name": "stderr",
     "output_type": "stream",
     "text": [
      "Extracting features:  45%|████▍     | 112/250 [05:48<02:12,  1.04it/s]"
     ]
    },
    {
     "name": "stdout",
     "output_type": "stream",
     "text": [
      "Error processing image 112: Unable to allocate 183. MiB for an array with shape (24000000,) and data type int64\n"
     ]
    },
    {
     "name": "stderr",
     "output_type": "stream",
     "text": [
      "Extracting features:  45%|████▌     | 113/250 [05:49<02:09,  1.06it/s]"
     ]
    },
    {
     "name": "stdout",
     "output_type": "stream",
     "text": [
      "Error processing image 113: Unable to allocate 183. MiB for an array with shape (24000000,) and data type int64\n"
     ]
    },
    {
     "name": "stderr",
     "output_type": "stream",
     "text": [
      "Extracting features:  46%|████▌     | 114/250 [05:50<02:06,  1.08it/s]"
     ]
    },
    {
     "name": "stdout",
     "output_type": "stream",
     "text": [
      "Error processing image 114: Unable to allocate 183. MiB for an array with shape (24000000,) and data type int64\n"
     ]
    },
    {
     "name": "stderr",
     "output_type": "stream",
     "text": [
      "Extracting features:  46%|████▌     | 115/250 [05:51<02:03,  1.09it/s]"
     ]
    },
    {
     "name": "stdout",
     "output_type": "stream",
     "text": [
      "Error processing image 115: Unable to allocate 183. MiB for an array with shape (24000000,) and data type int64\n"
     ]
    },
    {
     "name": "stderr",
     "output_type": "stream",
     "text": [
      "Extracting features:  46%|████▋     | 116/250 [05:52<02:05,  1.07it/s]"
     ]
    },
    {
     "name": "stdout",
     "output_type": "stream",
     "text": [
      "Error processing image 116: Unable to allocate 183. MiB for an array with shape (24000000,) and data type int64\n"
     ]
    },
    {
     "name": "stderr",
     "output_type": "stream",
     "text": [
      "Extracting features:  47%|████▋     | 117/250 [05:53<02:10,  1.02it/s]"
     ]
    },
    {
     "name": "stdout",
     "output_type": "stream",
     "text": [
      "Error processing image 117: Unable to allocate 183. MiB for an array with shape (24000000,) and data type int64\n"
     ]
    },
    {
     "name": "stderr",
     "output_type": "stream",
     "text": [
      "Extracting features:  47%|████▋     | 118/250 [05:54<02:17,  1.04s/it]"
     ]
    },
    {
     "name": "stdout",
     "output_type": "stream",
     "text": [
      "Error processing image 118: Unable to allocate 183. MiB for an array with shape (24000000,) and data type int64\n"
     ]
    },
    {
     "name": "stderr",
     "output_type": "stream",
     "text": [
      "Extracting features:  48%|████▊     | 119/250 [05:55<02:08,  1.02it/s]"
     ]
    },
    {
     "name": "stdout",
     "output_type": "stream",
     "text": [
      "Error processing image 119: Unable to allocate 183. MiB for an array with shape (24000000,) and data type int64\n"
     ]
    },
    {
     "name": "stderr",
     "output_type": "stream",
     "text": [
      "Extracting features:  48%|████▊     | 120/250 [05:56<02:10,  1.00s/it]"
     ]
    },
    {
     "name": "stdout",
     "output_type": "stream",
     "text": [
      "Error processing image 120: Unable to allocate 183. MiB for an array with shape (24000000,) and data type int64\n"
     ]
    },
    {
     "name": "stderr",
     "output_type": "stream",
     "text": [
      "Extracting features:  48%|████▊     | 121/250 [05:57<02:07,  1.01it/s]"
     ]
    },
    {
     "name": "stdout",
     "output_type": "stream",
     "text": [
      "Error processing image 121: Unable to allocate 183. MiB for an array with shape (24000000,) and data type int64\n"
     ]
    },
    {
     "name": "stderr",
     "output_type": "stream",
     "text": [
      "Extracting features:  49%|████▉     | 122/250 [05:58<02:09,  1.01s/it]"
     ]
    },
    {
     "name": "stdout",
     "output_type": "stream",
     "text": [
      "Error processing image 122: Unable to allocate 183. MiB for an array with shape (24000000,) and data type int64\n"
     ]
    },
    {
     "name": "stderr",
     "output_type": "stream",
     "text": [
      "Extracting features:  49%|████▉     | 123/250 [05:59<02:13,  1.05s/it]"
     ]
    },
    {
     "name": "stdout",
     "output_type": "stream",
     "text": [
      "Error processing image 123: Unable to allocate 183. MiB for an array with shape (24000000,) and data type int64\n"
     ]
    },
    {
     "name": "stderr",
     "output_type": "stream",
     "text": [
      "Extracting features:  50%|████▉     | 124/250 [06:00<02:11,  1.05s/it]"
     ]
    },
    {
     "name": "stdout",
     "output_type": "stream",
     "text": [
      "Error processing image 124: Unable to allocate 183. MiB for an array with shape (24000000,) and data type int64\n"
     ]
    },
    {
     "name": "stderr",
     "output_type": "stream",
     "text": [
      "Extracting features:  50%|█████     | 125/250 [06:01<02:13,  1.06s/it]"
     ]
    },
    {
     "name": "stdout",
     "output_type": "stream",
     "text": [
      "Error processing image 125: Unable to allocate 183. MiB for an array with shape (24000000,) and data type int64\n"
     ]
    },
    {
     "name": "stderr",
     "output_type": "stream",
     "text": [
      "Extracting features:  50%|█████     | 126/250 [06:02<02:08,  1.03s/it]"
     ]
    },
    {
     "name": "stdout",
     "output_type": "stream",
     "text": [
      "Error processing image 126: Unable to allocate 183. MiB for an array with shape (24000000,) and data type int64\n"
     ]
    },
    {
     "name": "stderr",
     "output_type": "stream",
     "text": [
      "Extracting features:  51%|█████     | 127/250 [06:04<02:09,  1.06s/it]"
     ]
    },
    {
     "name": "stdout",
     "output_type": "stream",
     "text": [
      "Error processing image 127: Unable to allocate 183. MiB for an array with shape (24000000,) and data type int64\n"
     ]
    },
    {
     "name": "stderr",
     "output_type": "stream",
     "text": [
      "Extracting features:  51%|█████     | 128/250 [06:05<02:08,  1.06s/it]"
     ]
    },
    {
     "name": "stdout",
     "output_type": "stream",
     "text": [
      "Error processing image 128: Unable to allocate 183. MiB for an array with shape (24000000,) and data type int64\n"
     ]
    },
    {
     "name": "stderr",
     "output_type": "stream",
     "text": [
      "Extracting features:  52%|█████▏    | 129/250 [06:06<02:08,  1.06s/it]"
     ]
    },
    {
     "name": "stdout",
     "output_type": "stream",
     "text": [
      "Error processing image 129: Unable to allocate 183. MiB for an array with shape (24000000,) and data type int64\n"
     ]
    },
    {
     "name": "stderr",
     "output_type": "stream",
     "text": [
      "Extracting features:  52%|█████▏    | 130/250 [06:07<02:06,  1.06s/it]"
     ]
    },
    {
     "name": "stdout",
     "output_type": "stream",
     "text": [
      "Error processing image 130: Unable to allocate 183. MiB for an array with shape (24000000,) and data type int64\n"
     ]
    },
    {
     "name": "stderr",
     "output_type": "stream",
     "text": [
      "Extracting features:  52%|█████▏    | 131/250 [06:08<02:03,  1.04s/it]"
     ]
    },
    {
     "name": "stdout",
     "output_type": "stream",
     "text": [
      "Error processing image 131: Unable to allocate 183. MiB for an array with shape (24000000,) and data type int64\n"
     ]
    },
    {
     "name": "stderr",
     "output_type": "stream",
     "text": [
      "Extracting features:  53%|█████▎    | 132/250 [06:09<02:04,  1.06s/it]"
     ]
    },
    {
     "name": "stdout",
     "output_type": "stream",
     "text": [
      "Error processing image 132: Unable to allocate 183. MiB for an array with shape (24000000,) and data type int64\n"
     ]
    },
    {
     "name": "stderr",
     "output_type": "stream",
     "text": [
      "Extracting features:  53%|█████▎    | 133/250 [06:10<02:03,  1.05s/it]"
     ]
    },
    {
     "name": "stdout",
     "output_type": "stream",
     "text": [
      "Error processing image 133: Unable to allocate 183. MiB for an array with shape (24000000,) and data type int64\n"
     ]
    },
    {
     "name": "stderr",
     "output_type": "stream",
     "text": [
      "Extracting features:  54%|█████▎    | 134/250 [06:11<01:58,  1.03s/it]"
     ]
    },
    {
     "name": "stdout",
     "output_type": "stream",
     "text": [
      "Error processing image 134: Unable to allocate 183. MiB for an array with shape (24000000,) and data type int64\n"
     ]
    },
    {
     "name": "stderr",
     "output_type": "stream",
     "text": [
      "Extracting features:  54%|█████▍    | 135/250 [06:12<01:57,  1.03s/it]"
     ]
    },
    {
     "name": "stdout",
     "output_type": "stream",
     "text": [
      "Error processing image 135: Unable to allocate 183. MiB for an array with shape (24000000,) and data type int64\n"
     ]
    },
    {
     "name": "stderr",
     "output_type": "stream",
     "text": [
      "Extracting features:  54%|█████▍    | 136/250 [06:13<01:57,  1.03s/it]"
     ]
    },
    {
     "name": "stdout",
     "output_type": "stream",
     "text": [
      "Error processing image 136: Unable to allocate 183. MiB for an array with shape (24000000,) and data type int64\n"
     ]
    },
    {
     "name": "stderr",
     "output_type": "stream",
     "text": [
      "Extracting features:  55%|█████▍    | 137/250 [06:14<01:59,  1.06s/it]"
     ]
    },
    {
     "name": "stdout",
     "output_type": "stream",
     "text": [
      "Error processing image 137: Unable to allocate 183. MiB for an array with shape (24000000,) and data type int64\n"
     ]
    },
    {
     "name": "stderr",
     "output_type": "stream",
     "text": [
      "Extracting features:  55%|█████▌    | 138/250 [06:15<01:53,  1.02s/it]"
     ]
    },
    {
     "name": "stdout",
     "output_type": "stream",
     "text": [
      "Error processing image 138: Unable to allocate 183. MiB for an array with shape (24000000,) and data type int64\n"
     ]
    },
    {
     "name": "stderr",
     "output_type": "stream",
     "text": [
      "Extracting features:  56%|█████▌    | 139/250 [06:16<01:56,  1.05s/it]"
     ]
    },
    {
     "name": "stdout",
     "output_type": "stream",
     "text": [
      "Error processing image 139: Unable to allocate 183. MiB for an array with shape (24000000,) and data type int64\n"
     ]
    },
    {
     "name": "stderr",
     "output_type": "stream",
     "text": [
      "Extracting features:  56%|█████▌    | 140/250 [06:17<01:52,  1.02s/it]"
     ]
    },
    {
     "name": "stdout",
     "output_type": "stream",
     "text": [
      "Error processing image 140: Unable to allocate 183. MiB for an array with shape (24000000,) and data type int64\n"
     ]
    },
    {
     "name": "stderr",
     "output_type": "stream",
     "text": [
      "Extracting features:  56%|█████▋    | 141/250 [06:18<01:52,  1.03s/it]"
     ]
    },
    {
     "name": "stdout",
     "output_type": "stream",
     "text": [
      "Error processing image 141: Unable to allocate 183. MiB for an array with shape (24000000,) and data type int64\n"
     ]
    },
    {
     "name": "stderr",
     "output_type": "stream",
     "text": [
      "Extracting features:  57%|█████▋    | 142/250 [06:19<01:50,  1.02s/it]"
     ]
    },
    {
     "name": "stdout",
     "output_type": "stream",
     "text": [
      "Error processing image 142: Unable to allocate 183. MiB for an array with shape (24000000,) and data type int64\n"
     ]
    },
    {
     "name": "stderr",
     "output_type": "stream",
     "text": [
      "Extracting features:  57%|█████▋    | 143/250 [06:20<01:54,  1.07s/it]"
     ]
    },
    {
     "name": "stdout",
     "output_type": "stream",
     "text": [
      "Error processing image 143: Unable to allocate 183. MiB for an array with shape (24000000,) and data type int64\n"
     ]
    },
    {
     "name": "stderr",
     "output_type": "stream",
     "text": [
      "Extracting features:  58%|█████▊    | 144/250 [06:21<01:52,  1.06s/it]"
     ]
    },
    {
     "name": "stdout",
     "output_type": "stream",
     "text": [
      "Error processing image 144: Unable to allocate 183. MiB for an array with shape (24000000,) and data type int64\n"
     ]
    },
    {
     "name": "stderr",
     "output_type": "stream",
     "text": [
      "Extracting features:  58%|█████▊    | 145/250 [06:22<01:49,  1.04s/it]"
     ]
    },
    {
     "name": "stdout",
     "output_type": "stream",
     "text": [
      "Error processing image 145: Unable to allocate 183. MiB for an array with shape (24000000,) and data type int64\n"
     ]
    },
    {
     "name": "stderr",
     "output_type": "stream",
     "text": [
      "Extracting features:  58%|█████▊    | 146/250 [06:23<01:48,  1.05s/it]"
     ]
    },
    {
     "name": "stdout",
     "output_type": "stream",
     "text": [
      "Error processing image 146: Unable to allocate 183. MiB for an array with shape (24000000,) and data type int64\n"
     ]
    },
    {
     "name": "stderr",
     "output_type": "stream",
     "text": [
      "Extracting features:  59%|█████▉    | 147/250 [06:24<01:46,  1.03s/it]"
     ]
    },
    {
     "name": "stdout",
     "output_type": "stream",
     "text": [
      "Error processing image 147: Unable to allocate 183. MiB for an array with shape (24000000,) and data type int64\n"
     ]
    },
    {
     "name": "stderr",
     "output_type": "stream",
     "text": [
      "Extracting features:  59%|█████▉    | 148/250 [06:25<01:48,  1.06s/it]"
     ]
    },
    {
     "name": "stdout",
     "output_type": "stream",
     "text": [
      "Error processing image 148: Unable to allocate 183. MiB for an array with shape (24000000,) and data type int64\n"
     ]
    },
    {
     "name": "stderr",
     "output_type": "stream",
     "text": [
      "Extracting features:  60%|█████▉    | 149/250 [06:27<01:56,  1.15s/it]"
     ]
    },
    {
     "name": "stdout",
     "output_type": "stream",
     "text": [
      "Error processing image 149: Unable to allocate 183. MiB for an array with shape (24000000,) and data type int64\n"
     ]
    },
    {
     "name": "stderr",
     "output_type": "stream",
     "text": [
      "Extracting features:  60%|██████    | 150/250 [06:28<01:49,  1.10s/it]"
     ]
    },
    {
     "name": "stdout",
     "output_type": "stream",
     "text": [
      "Error processing image 150: Unable to allocate 183. MiB for an array with shape (24000000,) and data type int64\n"
     ]
    },
    {
     "name": "stderr",
     "output_type": "stream",
     "text": [
      "Extracting features:  60%|██████    | 151/250 [06:29<01:48,  1.10s/it]"
     ]
    },
    {
     "name": "stdout",
     "output_type": "stream",
     "text": [
      "Error processing image 151: Unable to allocate 183. MiB for an array with shape (24000000,) and data type int64\n"
     ]
    },
    {
     "name": "stderr",
     "output_type": "stream",
     "text": [
      "Extracting features:  61%|██████    | 152/250 [06:30<01:46,  1.09s/it]"
     ]
    },
    {
     "name": "stdout",
     "output_type": "stream",
     "text": [
      "Error processing image 152: Unable to allocate 183. MiB for an array with shape (24000000,) and data type int64\n"
     ]
    },
    {
     "name": "stderr",
     "output_type": "stream",
     "text": [
      "Extracting features:  61%|██████    | 153/250 [06:31<01:42,  1.06s/it]"
     ]
    },
    {
     "name": "stdout",
     "output_type": "stream",
     "text": [
      "Error processing image 153: Unable to allocate 183. MiB for an array with shape (24000000,) and data type int64\n",
      "Error processing image 154: Mask not found: ../../train\\masks\\binary_154.tif\n"
     ]
    },
    {
     "name": "stderr",
     "output_type": "stream",
     "text": [
      "Extracting features:  62%|██████▏   | 155/250 [06:32<01:16,  1.24it/s]"
     ]
    },
    {
     "name": "stdout",
     "output_type": "stream",
     "text": [
      "Error processing image 155: Unable to allocate 183. MiB for an array with shape (24000000,) and data type int64\n"
     ]
    },
    {
     "name": "stderr",
     "output_type": "stream",
     "text": [
      "Extracting features:  62%|██████▏   | 156/250 [06:33<01:19,  1.18it/s]"
     ]
    },
    {
     "name": "stdout",
     "output_type": "stream",
     "text": [
      "Error processing image 156: Unable to allocate 183. MiB for an array with shape (24000000,) and data type int64\n"
     ]
    },
    {
     "name": "stderr",
     "output_type": "stream",
     "text": [
      "Extracting features:  63%|██████▎   | 157/250 [06:34<01:25,  1.08it/s]"
     ]
    },
    {
     "name": "stdout",
     "output_type": "stream",
     "text": [
      "Error processing image 157: Unable to allocate 183. MiB for an array with shape (24000000,) and data type int64\n"
     ]
    },
    {
     "name": "stderr",
     "output_type": "stream",
     "text": [
      "Extracting features:  63%|██████▎   | 158/250 [06:35<01:27,  1.05it/s]"
     ]
    },
    {
     "name": "stdout",
     "output_type": "stream",
     "text": [
      "Error processing image 158: Unable to allocate 183. MiB for an array with shape (24000000,) and data type int64\n"
     ]
    },
    {
     "name": "stderr",
     "output_type": "stream",
     "text": [
      "Extracting features:  64%|██████▎   | 159/250 [06:36<01:29,  1.02it/s]"
     ]
    },
    {
     "name": "stdout",
     "output_type": "stream",
     "text": [
      "Error processing image 159: Unable to allocate 183. MiB for an array with shape (24000000,) and data type int64\n"
     ]
    },
    {
     "name": "stderr",
     "output_type": "stream",
     "text": [
      "Extracting features:  64%|██████▍   | 160/250 [06:37<01:28,  1.01it/s]"
     ]
    },
    {
     "name": "stdout",
     "output_type": "stream",
     "text": [
      "Error processing image 160: Unable to allocate 183. MiB for an array with shape (24000000,) and data type int64\n"
     ]
    },
    {
     "name": "stderr",
     "output_type": "stream",
     "text": [
      "Extracting features:  64%|██████▍   | 161/250 [06:38<01:29,  1.00s/it]"
     ]
    },
    {
     "name": "stdout",
     "output_type": "stream",
     "text": [
      "Error processing image 161: Unable to allocate 183. MiB for an array with shape (24000000,) and data type int64\n"
     ]
    },
    {
     "name": "stderr",
     "output_type": "stream",
     "text": [
      "Extracting features:  65%|██████▍   | 162/250 [06:39<01:27,  1.00it/s]"
     ]
    },
    {
     "name": "stdout",
     "output_type": "stream",
     "text": [
      "Error processing image 162: Unable to allocate 183. MiB for an array with shape (24000000,) and data type int64\n"
     ]
    },
    {
     "name": "stderr",
     "output_type": "stream",
     "text": [
      "Extracting features:  65%|██████▌   | 163/250 [06:40<01:28,  1.02s/it]"
     ]
    },
    {
     "name": "stdout",
     "output_type": "stream",
     "text": [
      "Error processing image 163: Unable to allocate 183. MiB for an array with shape (24000000,) and data type int64\n"
     ]
    },
    {
     "name": "stderr",
     "output_type": "stream",
     "text": [
      "Extracting features:  66%|██████▌   | 164/250 [06:41<01:27,  1.02s/it]"
     ]
    },
    {
     "name": "stdout",
     "output_type": "stream",
     "text": [
      "Error processing image 164: Unable to allocate 183. MiB for an array with shape (24000000,) and data type int64\n"
     ]
    },
    {
     "name": "stderr",
     "output_type": "stream",
     "text": [
      "Extracting features:  66%|██████▌   | 165/250 [06:42<01:25,  1.01s/it]"
     ]
    },
    {
     "name": "stdout",
     "output_type": "stream",
     "text": [
      "Error processing image 165: Unable to allocate 183. MiB for an array with shape (24000000,) and data type int64\n"
     ]
    },
    {
     "name": "stderr",
     "output_type": "stream",
     "text": [
      "Extracting features:  66%|██████▋   | 166/250 [06:43<01:23,  1.00it/s]"
     ]
    },
    {
     "name": "stdout",
     "output_type": "stream",
     "text": [
      "Error processing image 166: Unable to allocate 183. MiB for an array with shape (24000000,) and data type int64\n"
     ]
    },
    {
     "name": "stderr",
     "output_type": "stream",
     "text": [
      "Extracting features:  67%|██████▋   | 167/250 [06:44<01:24,  1.02s/it]"
     ]
    },
    {
     "name": "stdout",
     "output_type": "stream",
     "text": [
      "Error processing image 167: Unable to allocate 183. MiB for an array with shape (24000000,) and data type int64\n"
     ]
    },
    {
     "name": "stderr",
     "output_type": "stream",
     "text": [
      "Extracting features:  67%|██████▋   | 168/250 [06:45<01:23,  1.01s/it]"
     ]
    },
    {
     "name": "stdout",
     "output_type": "stream",
     "text": [
      "Error processing image 168: Unable to allocate 183. MiB for an array with shape (24000000,) and data type int64\n"
     ]
    },
    {
     "name": "stderr",
     "output_type": "stream",
     "text": [
      "Extracting features:  68%|██████▊   | 169/250 [06:46<01:21,  1.01s/it]"
     ]
    },
    {
     "name": "stdout",
     "output_type": "stream",
     "text": [
      "Error processing image 169: Unable to allocate 183. MiB for an array with shape (24000000,) and data type int64\n"
     ]
    },
    {
     "name": "stderr",
     "output_type": "stream",
     "text": [
      "Extracting features:  68%|██████▊   | 170/250 [06:47<01:21,  1.02s/it]"
     ]
    },
    {
     "name": "stdout",
     "output_type": "stream",
     "text": [
      "Error processing image 170: Unable to allocate 183. MiB for an array with shape (24000000,) and data type int64\n"
     ]
    },
    {
     "name": "stderr",
     "output_type": "stream",
     "text": [
      "Extracting features:  68%|██████▊   | 171/250 [06:48<01:19,  1.00s/it]"
     ]
    },
    {
     "name": "stdout",
     "output_type": "stream",
     "text": [
      "Error processing image 171: Unable to allocate 183. MiB for an array with shape (24000000,) and data type int64\n"
     ]
    },
    {
     "name": "stderr",
     "output_type": "stream",
     "text": [
      "Extracting features:  69%|██████▉   | 172/250 [06:49<01:19,  1.02s/it]"
     ]
    },
    {
     "name": "stdout",
     "output_type": "stream",
     "text": [
      "Error processing image 172: Unable to allocate 183. MiB for an array with shape (24000000,) and data type int64\n"
     ]
    },
    {
     "name": "stderr",
     "output_type": "stream",
     "text": [
      "Extracting features:  69%|██████▉   | 173/250 [06:50<01:18,  1.02s/it]"
     ]
    },
    {
     "name": "stdout",
     "output_type": "stream",
     "text": [
      "Error processing image 173: Unable to allocate 183. MiB for an array with shape (24000000,) and data type int64\n"
     ]
    },
    {
     "name": "stderr",
     "output_type": "stream",
     "text": [
      "Extracting features:  70%|██████▉   | 174/250 [06:51<01:17,  1.02s/it]"
     ]
    },
    {
     "name": "stdout",
     "output_type": "stream",
     "text": [
      "Error processing image 174: Unable to allocate 183. MiB for an array with shape (24000000,) and data type int64\n"
     ]
    },
    {
     "name": "stderr",
     "output_type": "stream",
     "text": [
      "Extracting features:  70%|███████   | 175/250 [06:52<01:15,  1.01s/it]"
     ]
    },
    {
     "name": "stdout",
     "output_type": "stream",
     "text": [
      "Error processing image 175: Unable to allocate 183. MiB for an array with shape (24000000,) and data type int64\n"
     ]
    },
    {
     "name": "stderr",
     "output_type": "stream",
     "text": [
      "Extracting features:  70%|███████   | 176/250 [06:54<01:17,  1.04s/it]"
     ]
    },
    {
     "name": "stdout",
     "output_type": "stream",
     "text": [
      "Error processing image 176: Unable to allocate 183. MiB for an array with shape (24000000,) and data type int64\n"
     ]
    },
    {
     "name": "stderr",
     "output_type": "stream",
     "text": [
      "Extracting features:  71%|███████   | 177/250 [06:54<01:14,  1.02s/it]"
     ]
    },
    {
     "name": "stdout",
     "output_type": "stream",
     "text": [
      "Error processing image 177: Unable to allocate 183. MiB for an array with shape (24000000,) and data type int64\n"
     ]
    },
    {
     "name": "stderr",
     "output_type": "stream",
     "text": [
      "Extracting features:  71%|███████   | 178/250 [06:56<01:13,  1.02s/it]"
     ]
    },
    {
     "name": "stdout",
     "output_type": "stream",
     "text": [
      "Error processing image 178: Unable to allocate 183. MiB for an array with shape (24000000,) and data type int64\n"
     ]
    },
    {
     "name": "stderr",
     "output_type": "stream",
     "text": [
      "Extracting features:  72%|███████▏  | 179/250 [06:56<01:11,  1.01s/it]"
     ]
    },
    {
     "name": "stdout",
     "output_type": "stream",
     "text": [
      "Error processing image 179: Unable to allocate 183. MiB for an array with shape (24000000,) and data type int64\n"
     ]
    },
    {
     "name": "stderr",
     "output_type": "stream",
     "text": [
      "Extracting features:  72%|███████▏  | 180/250 [06:57<01:10,  1.01s/it]"
     ]
    },
    {
     "name": "stdout",
     "output_type": "stream",
     "text": [
      "Error processing image 180: Unable to allocate 183. MiB for an array with shape (24000000,) and data type int64\n"
     ]
    },
    {
     "name": "stderr",
     "output_type": "stream",
     "text": [
      "Extracting features:  72%|███████▏  | 181/250 [06:58<01:08,  1.01it/s]"
     ]
    },
    {
     "name": "stdout",
     "output_type": "stream",
     "text": [
      "Error processing image 181: Unable to allocate 183. MiB for an array with shape (24000000,) and data type int64\n"
     ]
    },
    {
     "name": "stderr",
     "output_type": "stream",
     "text": [
      "Extracting features:  73%|███████▎  | 182/250 [06:59<01:07,  1.00it/s]"
     ]
    },
    {
     "name": "stdout",
     "output_type": "stream",
     "text": [
      "Error processing image 182: Unable to allocate 183. MiB for an array with shape (24000000,) and data type int64\n"
     ]
    },
    {
     "name": "stderr",
     "output_type": "stream",
     "text": [
      "Extracting features:  73%|███████▎  | 183/250 [07:01<01:08,  1.02s/it]"
     ]
    },
    {
     "name": "stdout",
     "output_type": "stream",
     "text": [
      "Error processing image 183: Unable to allocate 183. MiB for an array with shape (24000000,) and data type int64\n"
     ]
    },
    {
     "name": "stderr",
     "output_type": "stream",
     "text": [
      "Extracting features:  74%|███████▎  | 184/250 [07:02<01:09,  1.05s/it]"
     ]
    },
    {
     "name": "stdout",
     "output_type": "stream",
     "text": [
      "Error processing image 184: Unable to allocate 183. MiB for an array with shape (24000000,) and data type int64\n"
     ]
    },
    {
     "name": "stderr",
     "output_type": "stream",
     "text": [
      "Extracting features:  74%|███████▍  | 185/250 [07:03<01:06,  1.03s/it]"
     ]
    },
    {
     "name": "stdout",
     "output_type": "stream",
     "text": [
      "Error processing image 185: Unable to allocate 183. MiB for an array with shape (24000000,) and data type int64\n"
     ]
    },
    {
     "name": "stderr",
     "output_type": "stream",
     "text": [
      "Extracting features:  74%|███████▍  | 186/250 [07:04<01:06,  1.03s/it]"
     ]
    },
    {
     "name": "stdout",
     "output_type": "stream",
     "text": [
      "Error processing image 186: Unable to allocate 183. MiB for an array with shape (24000000,) and data type int64\n"
     ]
    },
    {
     "name": "stderr",
     "output_type": "stream",
     "text": [
      "Extracting features:  75%|███████▍  | 187/250 [07:05<01:04,  1.03s/it]"
     ]
    },
    {
     "name": "stdout",
     "output_type": "stream",
     "text": [
      "Error processing image 187: Unable to allocate 183. MiB for an array with shape (24000000,) and data type int64\n"
     ]
    },
    {
     "name": "stderr",
     "output_type": "stream",
     "text": [
      "Extracting features:  75%|███████▌  | 188/250 [07:06<01:03,  1.03s/it]"
     ]
    },
    {
     "name": "stdout",
     "output_type": "stream",
     "text": [
      "Error processing image 188: Unable to allocate 183. MiB for an array with shape (24000000,) and data type int64\n"
     ]
    },
    {
     "name": "stderr",
     "output_type": "stream",
     "text": [
      "Extracting features:  76%|███████▌  | 189/250 [07:07<01:04,  1.05s/it]"
     ]
    },
    {
     "name": "stdout",
     "output_type": "stream",
     "text": [
      "Error processing image 189: Unable to allocate 183. MiB for an array with shape (24000000,) and data type int64\n"
     ]
    },
    {
     "name": "stderr",
     "output_type": "stream",
     "text": [
      "Extracting features:  76%|███████▌  | 190/250 [07:08<01:02,  1.04s/it]"
     ]
    },
    {
     "name": "stdout",
     "output_type": "stream",
     "text": [
      "Error processing image 190: Unable to allocate 183. MiB for an array with shape (24000000,) and data type int64\n"
     ]
    },
    {
     "name": "stderr",
     "output_type": "stream",
     "text": [
      "Extracting features:  76%|███████▋  | 191/250 [07:09<01:00,  1.03s/it]"
     ]
    },
    {
     "name": "stdout",
     "output_type": "stream",
     "text": [
      "Error processing image 191: Unable to allocate 183. MiB for an array with shape (24000000,) and data type int64\n"
     ]
    },
    {
     "name": "stderr",
     "output_type": "stream",
     "text": [
      "Extracting features:  77%|███████▋  | 192/250 [07:10<01:01,  1.06s/it]"
     ]
    },
    {
     "name": "stdout",
     "output_type": "stream",
     "text": [
      "Error processing image 192: Unable to allocate 183. MiB for an array with shape (24000000,) and data type int64\n"
     ]
    },
    {
     "name": "stderr",
     "output_type": "stream",
     "text": [
      "Extracting features:  77%|███████▋  | 193/250 [07:11<00:59,  1.04s/it]"
     ]
    },
    {
     "name": "stdout",
     "output_type": "stream",
     "text": [
      "Error processing image 193: Unable to allocate 183. MiB for an array with shape (24000000,) and data type int64\n"
     ]
    },
    {
     "name": "stderr",
     "output_type": "stream",
     "text": [
      "Extracting features:  78%|███████▊  | 194/250 [07:12<00:58,  1.04s/it]"
     ]
    },
    {
     "name": "stdout",
     "output_type": "stream",
     "text": [
      "Error processing image 194: Unable to allocate 183. MiB for an array with shape (24000000,) and data type int64\n"
     ]
    },
    {
     "name": "stderr",
     "output_type": "stream",
     "text": [
      "Extracting features:  78%|███████▊  | 195/250 [07:13<00:57,  1.05s/it]"
     ]
    },
    {
     "name": "stdout",
     "output_type": "stream",
     "text": [
      "Error processing image 195: Unable to allocate 183. MiB for an array with shape (24000000,) and data type int64\n"
     ]
    },
    {
     "name": "stderr",
     "output_type": "stream",
     "text": [
      "Extracting features:  78%|███████▊  | 196/250 [07:14<00:57,  1.07s/it]"
     ]
    },
    {
     "name": "stdout",
     "output_type": "stream",
     "text": [
      "Error processing image 196: Unable to allocate 183. MiB for an array with shape (24000000,) and data type int64\n"
     ]
    },
    {
     "name": "stderr",
     "output_type": "stream",
     "text": [
      "Extracting features:  79%|███████▉  | 197/250 [07:15<00:55,  1.05s/it]"
     ]
    },
    {
     "name": "stdout",
     "output_type": "stream",
     "text": [
      "Error processing image 197: Unable to allocate 183. MiB for an array with shape (24000000,) and data type int64\n"
     ]
    },
    {
     "name": "stderr",
     "output_type": "stream",
     "text": [
      "Extracting features:  79%|███████▉  | 198/250 [07:16<00:54,  1.04s/it]"
     ]
    },
    {
     "name": "stdout",
     "output_type": "stream",
     "text": [
      "Error processing image 198: Unable to allocate 183. MiB for an array with shape (24000000,) and data type int64\n"
     ]
    },
    {
     "name": "stderr",
     "output_type": "stream",
     "text": [
      "Extracting features:  80%|███████▉  | 199/250 [07:17<00:53,  1.04s/it]"
     ]
    },
    {
     "name": "stdout",
     "output_type": "stream",
     "text": [
      "Error processing image 199: Unable to allocate 183. MiB for an array with shape (24000000,) and data type int64\n"
     ]
    },
    {
     "name": "stderr",
     "output_type": "stream",
     "text": [
      "Extracting features:  80%|████████  | 200/250 [07:18<00:51,  1.02s/it]"
     ]
    },
    {
     "name": "stdout",
     "output_type": "stream",
     "text": [
      "Error processing image 200: Unable to allocate 183. MiB for an array with shape (24000000,) and data type int64\n"
     ]
    },
    {
     "name": "stderr",
     "output_type": "stream",
     "text": [
      "Extracting features:  80%|████████  | 201/250 [07:19<00:50,  1.02s/it]"
     ]
    },
    {
     "name": "stdout",
     "output_type": "stream",
     "text": [
      "Error processing image 201: Unable to allocate 183. MiB for an array with shape (24000000,) and data type int64\n"
     ]
    },
    {
     "name": "stderr",
     "output_type": "stream",
     "text": [
      "Extracting features:  81%|████████  | 202/250 [07:20<00:49,  1.04s/it]"
     ]
    },
    {
     "name": "stdout",
     "output_type": "stream",
     "text": [
      "Error processing image 202: Unable to allocate 183. MiB for an array with shape (24000000,) and data type int64\n"
     ]
    },
    {
     "name": "stderr",
     "output_type": "stream",
     "text": [
      "Extracting features:  81%|████████  | 203/250 [07:21<00:48,  1.04s/it]"
     ]
    },
    {
     "name": "stdout",
     "output_type": "stream",
     "text": [
      "Error processing image 203: Unable to allocate 183. MiB for an array with shape (24000000,) and data type int64\n"
     ]
    },
    {
     "name": "stderr",
     "output_type": "stream",
     "text": [
      "Extracting features:  82%|████████▏ | 204/250 [07:22<00:47,  1.03s/it]"
     ]
    },
    {
     "name": "stdout",
     "output_type": "stream",
     "text": [
      "Error processing image 204: Unable to allocate 183. MiB for an array with shape (24000000,) and data type int64\n"
     ]
    },
    {
     "name": "stderr",
     "output_type": "stream",
     "text": [
      "Extracting features:  82%|████████▏ | 205/250 [07:23<00:46,  1.03s/it]"
     ]
    },
    {
     "name": "stdout",
     "output_type": "stream",
     "text": [
      "Error processing image 205: Unable to allocate 183. MiB for an array with shape (24000000,) and data type int64\n"
     ]
    },
    {
     "name": "stderr",
     "output_type": "stream",
     "text": [
      "Extracting features:  82%|████████▏ | 206/250 [07:24<00:44,  1.01s/it]"
     ]
    },
    {
     "name": "stdout",
     "output_type": "stream",
     "text": [
      "Error processing image 206: Unable to allocate 183. MiB for an array with shape (24000000,) and data type int64\n"
     ]
    },
    {
     "name": "stderr",
     "output_type": "stream",
     "text": [
      "Extracting features:  83%|████████▎ | 207/250 [07:25<00:44,  1.04s/it]"
     ]
    },
    {
     "name": "stdout",
     "output_type": "stream",
     "text": [
      "Error processing image 207: Unable to allocate 183. MiB for an array with shape (24000000,) and data type int64\n"
     ]
    },
    {
     "name": "stderr",
     "output_type": "stream",
     "text": [
      "Extracting features:  83%|████████▎ | 208/250 [07:27<00:44,  1.07s/it]"
     ]
    },
    {
     "name": "stdout",
     "output_type": "stream",
     "text": [
      "Error processing image 208: Unable to allocate 183. MiB for an array with shape (24000000,) and data type int64\n"
     ]
    },
    {
     "name": "stderr",
     "output_type": "stream",
     "text": [
      "Extracting features:  84%|████████▎ | 209/250 [07:28<00:43,  1.06s/it]"
     ]
    },
    {
     "name": "stdout",
     "output_type": "stream",
     "text": [
      "Error processing image 209: Unable to allocate 183. MiB for an array with shape (24000000,) and data type int64\n"
     ]
    },
    {
     "name": "stderr",
     "output_type": "stream",
     "text": [
      "Extracting features:  84%|████████▍ | 210/250 [07:29<00:41,  1.03s/it]"
     ]
    },
    {
     "name": "stdout",
     "output_type": "stream",
     "text": [
      "Error processing image 210: Unable to allocate 183. MiB for an array with shape (24000000,) and data type int64\n"
     ]
    },
    {
     "name": "stderr",
     "output_type": "stream",
     "text": [
      "Extracting features:  84%|████████▍ | 211/250 [07:30<00:41,  1.05s/it]"
     ]
    },
    {
     "name": "stdout",
     "output_type": "stream",
     "text": [
      "Error processing image 211: Unable to allocate 183. MiB for an array with shape (24000000,) and data type int64\n"
     ]
    },
    {
     "name": "stderr",
     "output_type": "stream",
     "text": [
      "Extracting features:  85%|████████▍ | 212/250 [07:31<00:38,  1.02s/it]"
     ]
    },
    {
     "name": "stdout",
     "output_type": "stream",
     "text": [
      "Error processing image 212: Unable to allocate 183. MiB for an array with shape (24000000,) and data type int64\n"
     ]
    },
    {
     "name": "stderr",
     "output_type": "stream",
     "text": [
      "Extracting features:  85%|████████▌ | 213/250 [07:32<00:38,  1.04s/it]"
     ]
    },
    {
     "name": "stdout",
     "output_type": "stream",
     "text": [
      "Error processing image 213: Unable to allocate 183. MiB for an array with shape (24000000,) and data type int64\n"
     ]
    },
    {
     "name": "stderr",
     "output_type": "stream",
     "text": [
      "Extracting features:  86%|████████▌ | 214/250 [07:33<00:37,  1.03s/it]"
     ]
    },
    {
     "name": "stdout",
     "output_type": "stream",
     "text": [
      "Error processing image 214: Unable to allocate 183. MiB for an array with shape (24000000,) and data type int64\n"
     ]
    },
    {
     "name": "stderr",
     "output_type": "stream",
     "text": [
      "Extracting features:  86%|████████▌ | 215/250 [07:34<00:36,  1.03s/it]"
     ]
    },
    {
     "name": "stdout",
     "output_type": "stream",
     "text": [
      "Error processing image 215: Unable to allocate 183. MiB for an array with shape (24000000,) and data type int64\n"
     ]
    },
    {
     "name": "stderr",
     "output_type": "stream",
     "text": [
      "Extracting features:  86%|████████▋ | 216/250 [07:35<00:34,  1.01s/it]"
     ]
    },
    {
     "name": "stdout",
     "output_type": "stream",
     "text": [
      "Error processing image 216: Unable to allocate 183. MiB for an array with shape (24000000,) and data type int64\n"
     ]
    },
    {
     "name": "stderr",
     "output_type": "stream",
     "text": [
      "Extracting features:  87%|████████▋ | 217/250 [07:36<00:34,  1.04s/it]"
     ]
    },
    {
     "name": "stdout",
     "output_type": "stream",
     "text": [
      "Error processing image 217: Unable to allocate 183. MiB for an array with shape (24000000,) and data type int64\n"
     ]
    },
    {
     "name": "stderr",
     "output_type": "stream",
     "text": [
      "Extracting features:  87%|████████▋ | 218/250 [07:37<00:32,  1.02s/it]"
     ]
    },
    {
     "name": "stdout",
     "output_type": "stream",
     "text": [
      "Error processing image 218: Unable to allocate 183. MiB for an array with shape (24000000,) and data type int64\n"
     ]
    },
    {
     "name": "stderr",
     "output_type": "stream",
     "text": [
      "Extracting features:  88%|████████▊ | 219/250 [07:38<00:32,  1.04s/it]"
     ]
    },
    {
     "name": "stdout",
     "output_type": "stream",
     "text": [
      "Error processing image 219: Unable to allocate 183. MiB for an array with shape (24000000,) and data type int64\n"
     ]
    },
    {
     "name": "stderr",
     "output_type": "stream",
     "text": [
      "Extracting features:  88%|████████▊ | 220/250 [07:39<00:31,  1.04s/it]"
     ]
    },
    {
     "name": "stdout",
     "output_type": "stream",
     "text": [
      "Error processing image 220: Unable to allocate 183. MiB for an array with shape (24000000,) and data type int64\n"
     ]
    },
    {
     "name": "stderr",
     "output_type": "stream",
     "text": [
      "Extracting features:  88%|████████▊ | 221/250 [07:40<00:29,  1.02s/it]"
     ]
    },
    {
     "name": "stdout",
     "output_type": "stream",
     "text": [
      "Error processing image 221: Unable to allocate 183. MiB for an array with shape (24000000,) and data type int64\n"
     ]
    },
    {
     "name": "stderr",
     "output_type": "stream",
     "text": [
      "Extracting features:  89%|████████▉ | 222/250 [07:41<00:28,  1.01s/it]"
     ]
    },
    {
     "name": "stdout",
     "output_type": "stream",
     "text": [
      "Error processing image 222: Unable to allocate 183. MiB for an array with shape (24000000,) and data type int64\n"
     ]
    },
    {
     "name": "stderr",
     "output_type": "stream",
     "text": [
      "Extracting features:  89%|████████▉ | 223/250 [07:42<00:27,  1.01s/it]"
     ]
    },
    {
     "name": "stdout",
     "output_type": "stream",
     "text": [
      "Error processing image 223: Unable to allocate 183. MiB for an array with shape (24000000,) and data type int64\n"
     ]
    },
    {
     "name": "stderr",
     "output_type": "stream",
     "text": [
      "Extracting features:  90%|████████▉ | 224/250 [07:43<00:26,  1.02s/it]"
     ]
    },
    {
     "name": "stdout",
     "output_type": "stream",
     "text": [
      "Error processing image 224: Unable to allocate 183. MiB for an array with shape (24000000,) and data type int64\n"
     ]
    },
    {
     "name": "stderr",
     "output_type": "stream",
     "text": [
      "Extracting features:  90%|█████████ | 225/250 [07:44<00:26,  1.05s/it]"
     ]
    },
    {
     "name": "stdout",
     "output_type": "stream",
     "text": [
      "Error processing image 225: Unable to allocate 183. MiB for an array with shape (4000, 6000) and data type int64\n"
     ]
    },
    {
     "name": "stderr",
     "output_type": "stream",
     "text": [
      "Extracting features:  90%|█████████ | 226/250 [07:45<00:25,  1.05s/it]"
     ]
    },
    {
     "name": "stdout",
     "output_type": "stream",
     "text": [
      "Error processing image 226: Unable to allocate 183. MiB for an array with shape (24000000,) and data type int64\n"
     ]
    },
    {
     "name": "stderr",
     "output_type": "stream",
     "text": [
      "Extracting features:  91%|█████████ | 227/250 [07:46<00:23,  1.04s/it]"
     ]
    },
    {
     "name": "stdout",
     "output_type": "stream",
     "text": [
      "Error processing image 227: Unable to allocate 183. MiB for an array with shape (24000000,) and data type int64\n"
     ]
    },
    {
     "name": "stderr",
     "output_type": "stream",
     "text": [
      "Extracting features:  91%|█████████ | 228/250 [07:47<00:23,  1.05s/it]"
     ]
    },
    {
     "name": "stdout",
     "output_type": "stream",
     "text": [
      "Error processing image 228: Unable to allocate 183. MiB for an array with shape (24000000,) and data type int64\n"
     ]
    },
    {
     "name": "stderr",
     "output_type": "stream",
     "text": [
      "Extracting features:  92%|█████████▏| 229/250 [07:48<00:21,  1.03s/it]"
     ]
    },
    {
     "name": "stdout",
     "output_type": "stream",
     "text": [
      "Error processing image 229: Unable to allocate 183. MiB for an array with shape (24000000,) and data type int64\n"
     ]
    },
    {
     "name": "stderr",
     "output_type": "stream",
     "text": [
      "Extracting features:  92%|█████████▏| 230/250 [07:49<00:20,  1.00s/it]"
     ]
    },
    {
     "name": "stdout",
     "output_type": "stream",
     "text": [
      "Error processing image 230: Unable to allocate 183. MiB for an array with shape (24000000,) and data type int64\n"
     ]
    },
    {
     "name": "stderr",
     "output_type": "stream",
     "text": [
      "Extracting features:  92%|█████████▏| 231/250 [07:50<00:18,  1.04it/s]"
     ]
    },
    {
     "name": "stdout",
     "output_type": "stream",
     "text": [
      "Error processing image 231: Unable to allocate 183. MiB for an array with shape (4000, 6000) and data type int64\n"
     ]
    },
    {
     "name": "stderr",
     "output_type": "stream",
     "text": [
      "Extracting features:  93%|█████████▎| 232/250 [07:51<00:17,  1.02it/s]"
     ]
    },
    {
     "name": "stdout",
     "output_type": "stream",
     "text": [
      "Error processing image 232: Unable to allocate 183. MiB for an array with shape (4000, 6000) and data type int64\n"
     ]
    },
    {
     "name": "stderr",
     "output_type": "stream",
     "text": [
      "Extracting features:  93%|█████████▎| 233/250 [07:52<00:16,  1.06it/s]"
     ]
    },
    {
     "name": "stdout",
     "output_type": "stream",
     "text": [
      "Error processing image 233: Unable to allocate 183. MiB for an array with shape (4000, 6000) and data type int64\n"
     ]
    },
    {
     "name": "stderr",
     "output_type": "stream",
     "text": [
      "Extracting features:  94%|█████████▎| 234/250 [07:53<00:15,  1.03it/s]"
     ]
    },
    {
     "name": "stdout",
     "output_type": "stream",
     "text": [
      "Error processing image 234: Unable to allocate 183. MiB for an array with shape (24000000,) and data type int64\n"
     ]
    },
    {
     "name": "stderr",
     "output_type": "stream",
     "text": [
      "Extracting features:  94%|█████████▍| 235/250 [07:54<00:14,  1.07it/s]"
     ]
    },
    {
     "name": "stdout",
     "output_type": "stream",
     "text": [
      "Error processing image 235: Unable to allocate 183. MiB for an array with shape (4000, 6000) and data type int64\n"
     ]
    },
    {
     "name": "stderr",
     "output_type": "stream",
     "text": [
      "Extracting features:  94%|█████████▍| 236/250 [07:55<00:12,  1.10it/s]"
     ]
    },
    {
     "name": "stdout",
     "output_type": "stream",
     "text": [
      "Error processing image 236: Unable to allocate 183. MiB for an array with shape (4000, 6000) and data type int64\n"
     ]
    },
    {
     "name": "stderr",
     "output_type": "stream",
     "text": [
      "Extracting features:  95%|█████████▍| 237/250 [07:56<00:11,  1.13it/s]"
     ]
    },
    {
     "name": "stdout",
     "output_type": "stream",
     "text": [
      "Error processing image 237: Unable to allocate 183. MiB for an array with shape (4000, 6000) and data type int64\n"
     ]
    },
    {
     "name": "stderr",
     "output_type": "stream",
     "text": [
      "Extracting features:  95%|█████████▌| 238/250 [07:56<00:10,  1.12it/s]"
     ]
    },
    {
     "name": "stdout",
     "output_type": "stream",
     "text": [
      "Error processing image 238: Unable to allocate 183. MiB for an array with shape (4000, 6000) and data type int64\n"
     ]
    },
    {
     "name": "stderr",
     "output_type": "stream",
     "text": [
      "Extracting features:  96%|█████████▌| 239/250 [07:57<00:10,  1.06it/s]"
     ]
    },
    {
     "name": "stdout",
     "output_type": "stream",
     "text": [
      "Error processing image 239: Unable to allocate 183. MiB for an array with shape (4000, 6000) and data type int64\n"
     ]
    },
    {
     "name": "stderr",
     "output_type": "stream",
     "text": [
      "Extracting features:  96%|█████████▌| 240/250 [07:58<00:09,  1.06it/s]"
     ]
    },
    {
     "name": "stdout",
     "output_type": "stream",
     "text": [
      "Error processing image 240: Unable to allocate 183. MiB for an array with shape (4000, 6000) and data type int64\n"
     ]
    },
    {
     "name": "stderr",
     "output_type": "stream",
     "text": [
      "Extracting features:  96%|█████████▋| 241/250 [07:59<00:08,  1.05it/s]"
     ]
    },
    {
     "name": "stdout",
     "output_type": "stream",
     "text": [
      "Error processing image 241: Unable to allocate 183. MiB for an array with shape (4000, 6000) and data type int64\n"
     ]
    },
    {
     "name": "stderr",
     "output_type": "stream",
     "text": [
      "Extracting features:  97%|█████████▋| 242/250 [08:00<00:07,  1.05it/s]"
     ]
    },
    {
     "name": "stdout",
     "output_type": "stream",
     "text": [
      "Error processing image 242: Unable to allocate 183. MiB for an array with shape (4000, 6000) and data type int64\n"
     ]
    },
    {
     "name": "stderr",
     "output_type": "stream",
     "text": [
      "Extracting features:  97%|█████████▋| 243/250 [08:01<00:06,  1.04it/s]"
     ]
    },
    {
     "name": "stdout",
     "output_type": "stream",
     "text": [
      "Error processing image 243: Unable to allocate 183. MiB for an array with shape (4000, 6000) and data type int64\n"
     ]
    },
    {
     "name": "stderr",
     "output_type": "stream",
     "text": [
      "Extracting features:  98%|█████████▊| 244/250 [08:02<00:05,  1.05it/s]"
     ]
    },
    {
     "name": "stdout",
     "output_type": "stream",
     "text": [
      "Error processing image 244: Unable to allocate 183. MiB for an array with shape (4000, 6000) and data type int64\n"
     ]
    },
    {
     "name": "stderr",
     "output_type": "stream",
     "text": [
      "Extracting features:  98%|█████████▊| 245/250 [08:03<00:04,  1.04it/s]"
     ]
    },
    {
     "name": "stdout",
     "output_type": "stream",
     "text": [
      "Error processing image 245: Unable to allocate 183. MiB for an array with shape (4000, 6000) and data type int64\n"
     ]
    },
    {
     "name": "stderr",
     "output_type": "stream",
     "text": [
      "Extracting features:  98%|█████████▊| 246/250 [08:04<00:03,  1.04it/s]"
     ]
    },
    {
     "name": "stdout",
     "output_type": "stream",
     "text": [
      "Error processing image 246: Unable to allocate 183. MiB for an array with shape (4000, 6000) and data type int64\n"
     ]
    },
    {
     "name": "stderr",
     "output_type": "stream",
     "text": [
      "Extracting features:  99%|█████████▉| 247/250 [08:05<00:02,  1.04it/s]"
     ]
    },
    {
     "name": "stdout",
     "output_type": "stream",
     "text": [
      "Error processing image 247: Unable to allocate 183. MiB for an array with shape (4000, 6000) and data type int64\n"
     ]
    },
    {
     "name": "stderr",
     "output_type": "stream",
     "text": [
      "Extracting features:  99%|█████████▉| 248/250 [08:06<00:01,  1.07it/s]"
     ]
    },
    {
     "name": "stdout",
     "output_type": "stream",
     "text": [
      "Error processing image 248: Unable to allocate 183. MiB for an array with shape (4000, 6000) and data type int64\n"
     ]
    },
    {
     "name": "stderr",
     "output_type": "stream",
     "text": [
      "Extracting features: 100%|█████████▉| 249/250 [08:07<00:00,  1.05it/s]"
     ]
    },
    {
     "name": "stdout",
     "output_type": "stream",
     "text": [
      "Error processing image 249: Unable to allocate 183. MiB for an array with shape (4000, 6000) and data type int64\n"
     ]
    },
    {
     "name": "stderr",
     "output_type": "stream",
     "text": [
      "Extracting features: 100%|██████████| 250/250 [08:08<00:00,  1.95s/it]"
     ]
    },
    {
     "name": "stdout",
     "output_type": "stream",
     "text": [
      "Error processing image 250: Unable to allocate 183. MiB for an array with shape (4000, 6000) and data type int64\n",
      "Features extracted for 250 images\n",
      "Columns: ['image_id', 'bug_ratio', 'max_inscribed_radius', 'symmetry_score', 'symmetry_angle', 'area', 'perimeter', 'eccentricity', 'solidity', 'extent', 'aspect_ratio', 'horizontal_symmetry', 'r_min', 'g_min', 'b_min', 'r_max', 'g_max', 'b_max', 'r_mean', 'g_mean', 'b_mean', 'r_median', 'g_median', 'b_median', 'r_std', 'g_std', 'b_std', 'texture_entropy', 'texture_energy', 'hu_moment1', 'hu_moment2', 'hu_moment3', 'hu_moment4', 'bug_type', 'species']\n",
      "Symmetry angles - Min: -30.00°, Max: 30.00°\n",
      "Images with non-zero angle: 9\n"
     ]
    },
    {
     "name": "stderr",
     "output_type": "stream",
     "text": [
      "\n"
     ]
    },
    {
     "name": "stdout",
     "output_type": "stream",
     "text": [
      "Raw features saved to 'features_raw.csv'\n",
      "Numeric columns detected: 32\n",
      "Normalized features saved to 'features_normalized.csv'\n",
      "\n",
      "=== SUMMARY ===\n",
      "Processed images: 250\n",
      "Features per image: 32\n",
      "\n",
      "Class distribution:\n",
      "bug_type\n",
      "Bee                115\n",
      "Bumblebee          100\n",
      "Butterfly           15\n",
      "Hover fly            9\n",
      "Wasp                 9\n",
      "Dragonfly            1\n",
      "Bee & Bumblebee      1\n",
      "Name: count, dtype: int64\n",
      "\n",
      "=== COMPLIANCE CHECK ===\n",
      "✓ I. Quality control: 9 visualizations in 'cleaned_samples/'\n",
      "✓ II. Best inscribed circle: 9 visualizations in 'visual_inspection/'\n",
      "✓ III. Best symmetry plane: 9 visualizations in 'visual_symmetry/'\n",
      "✓ IV. Features extraction: 250 feature sets\n",
      "✓ Symmetry angles calculated: 7/250 with significant angle\n",
      "\n",
      "=== EXTRACTION COMPLETED SUCCESSFULLY ===\n",
      "Generated files:\n",
      "- features_raw.csv: raw features\n",
      "- features_normalized.csv: normalized features\n",
      "- scaler.pkl: normalization object\n",
      "- cleaned_samples/: cleaning visualizations\n",
      "- visual_inspection/: inscribed circle visualizations\n",
      "- visual_symmetry/: symmetry plane visualizations\n",
      "Error in callback <function _draw_all_if_interactive at 0x0000023210759120> (for post_execute), with arguments args (),kwargs {}:\n"
     ]
    }
   ],
   "source": [
    "# Feature Extraction for \"To bee or not to bee\"\n",
    "# IG.2412 & IG.2411\n",
    "\n",
    "def load_classification_data():\n",
    "    \"\"\"Load classification data from Excel file\"\"\"\n",
    "    df = pd.read_excel(EXCEL_FILE)\n",
    "    print(f\"Data loaded: {len(df)} insects\")\n",
    "    print(df.head())\n",
    "    return df\n",
    "\n",
    "def load_image_and_mask(image_id, visualize=False, output_dir=\"cleaned_samples\"):\n",
    "    \"\"\"\n",
    "    I. Quality control: Load and clean an image and its mask according to instructions:\n",
    "    - Loading the mask and associated image\n",
    "    - Transforming the mask into a binary image (label 1 being the insect, label 0 the background)\n",
    "    - Computing the connected components of the binary mask\n",
    "    - Restricting the binary mask to its connected component of highest area\n",
    "    - Restricting both mask and image to the bounding box of the cleaned binary mask\n",
    "    \"\"\"\n",
    "    image_path = os.path.join(IMAGES_DIR, f\"{image_id}.jpg\")\n",
    "    mask_path = os.path.join(MASKS_DIR, f\"binary_{image_id}.tif\")\n",
    "\n",
    "    # Check file existence\n",
    "    if not os.path.exists(image_path):\n",
    "        raise FileNotFoundError(f\"Image not found: {image_path}\")\n",
    "    if not os.path.exists(mask_path):\n",
    "        raise FileNotFoundError(f\"Mask not found: {mask_path}\")\n",
    "\n",
    "    # Loading the mask and associated image\n",
    "    image = np.array(Image.open(image_path).convert(\"RGB\"))\n",
    "    mask = np.array(Image.open(mask_path).convert(\"L\"))\n",
    "    \n",
    "    # Transforming the mask into a binary image\n",
    "    mask_binary = (mask > 0).astype(np.uint8)\n",
    "\n",
    "    # Computing the connected components of the binary mask\n",
    "    labeled_mask = measure.label(mask_binary)\n",
    "    props = measure.regionprops(labeled_mask)\n",
    "\n",
    "    if not props:\n",
    "        raise ValueError(f\"No connected components found in mask for image {image_id}\")\n",
    "\n",
    "    # Restricting to largest connected component\n",
    "    largest_region = max(props, key=lambda x: x.area)\n",
    "    cleaned_mask = (labeled_mask == largest_region.label).astype(np.uint8)\n",
    "\n",
    "    # Cropping to bounding box\n",
    "    minr, minc, maxr, maxc = largest_region.bbox\n",
    "    cleaned_mask_cropped = cleaned_mask[minr:maxr, minc:maxc]\n",
    "    cropped_image = image[minr:maxr, minc:maxc]\n",
    "\n",
    "    # Visualization\n",
    "    if visualize:\n",
    "        os.makedirs(output_dir, exist_ok=True)\n",
    "        \n",
    "        fig, axes = plt.subplots(2, 2, figsize=(12, 10))\n",
    "        \n",
    "        # Original Image\n",
    "        axes[0,0].imshow(image)\n",
    "        axes[0,0].set_title(f\"Original Image {image_id}\")\n",
    "        axes[0,0].axis('off')\n",
    "        \n",
    "        # Original Mask\n",
    "        axes[0,1].imshow(mask, cmap='gray')\n",
    "        axes[0,1].set_title(\"Original Mask\")\n",
    "        axes[0,1].axis('off')\n",
    "        \n",
    "        # Cleaned & Cropped Image\n",
    "        axes[1,0].imshow(cropped_image)\n",
    "        axes[1,0].set_title(\"Cleaned & Cropped Image\")\n",
    "        axes[1,0].axis('off')\n",
    "        \n",
    "        # Cleaned & Cropped Mask\n",
    "        axes[1,1].imshow(cleaned_mask_cropped, cmap='gray')\n",
    "        axes[1,1].set_title(\"Cleaned & Cropped Mask\")\n",
    "        axes[1,1].axis('off')\n",
    "        \n",
    "        plt.tight_layout()\n",
    "        plt.savefig(os.path.join(output_dir, f\"quality_control_{image_id}.png\"), dpi=150, bbox_inches='tight')\n",
    "        plt.close()\n",
    "\n",
    "    return cropped_image, cleaned_mask_cropped\n",
    "\n",
    "def visualize_inscribed_circle(image, mask, center, radius, image_id, output_dir=\"visual_inspection\"):\n",
    "    \"\"\"Visualize the inscribed circle results\"\"\"\n",
    "    try:\n",
    "        os.makedirs(output_dir, exist_ok=True)\n",
    "        \n",
    "        vis = image.copy()\n",
    "        cx, cy = int(center[0]), int(center[1])\n",
    "        \n",
    "        # Draw inscribed circle in green\n",
    "        vis = cv2.circle(vis, (cx, cy), int(radius), (0, 255, 0), 2)\n",
    "        # Draw center in red\n",
    "        vis = cv2.circle(vis, (cx, cy), 3, (255, 0, 0), -1)\n",
    "        \n",
    "        plt.figure(figsize=(8, 6))\n",
    "        plt.imshow(vis.astype(np.uint8))\n",
    "        plt.title(f\"Best Inscribed Circle - Image {image_id}\\nRadius: {radius:.2f}, Center: ({cx}, {cy})\")\n",
    "        plt.axis('off')\n",
    "        \n",
    "        vis_path = os.path.join(output_dir, f\"inscribed_circle_{image_id}.png\")\n",
    "        plt.savefig(vis_path, bbox_inches='tight', dpi=150)\n",
    "        plt.close()\n",
    "        \n",
    "    except Exception as e:\n",
    "        print(f\"Error visualizing circle for {image_id}: {e}\")\n",
    "\n",
    "def visualize_symmetry_plane(image, mask, center, angle, image_id, output_dir=\"visual_symmetry\"):\n",
    "    \"\"\"Visualize symmetry plane results\"\"\"\n",
    "    try:\n",
    "        os.makedirs(output_dir, exist_ok=True)\n",
    "        \n",
    "        rotated_img = rotate_image_filled(image, angle, center)\n",
    "        vis_rotated = rotated_img.copy()\n",
    "        cx = int(center[0])\n",
    "        h, w = vis_rotated.shape[:2]\n",
    "        \n",
    "        # Draw vertical axis in cyan\n",
    "        vis_rotated = cv2.line(vis_rotated, (cx, 0), (cx, h-1), (0, 255, 255), 2)\n",
    "        \n",
    "        plt.figure(figsize=(8, 6))\n",
    "        plt.imshow(vis_rotated.astype(np.uint8))\n",
    "        plt.title(f\"Best Symmetry Plane - Image {image_id}\\nOptimal angle: {angle:.2f}°\")\n",
    "        plt.axis('off')\n",
    "        \n",
    "        vis_path = os.path.join(output_dir, f\"symmetry_plane_{image_id}.png\")\n",
    "        plt.savefig(vis_path, bbox_inches='tight', dpi=150)\n",
    "        plt.close()\n",
    "        \n",
    "    except Exception as e:\n",
    "        print(f\"Error visualizing symmetry for {image_id}: {e}\")\n",
    "\n",
    "def extract_features_for_all_images(df):\n",
    "    \"\"\"Extract features for all images\"\"\"\n",
    "    all_features = []\n",
    "    \n",
    "    for idx, row in tqdm(df.iterrows(), total=len(df), desc=\"Extracting features\"):\n",
    "        image_id = row['ID']\n",
    "        try:\n",
    "            features = extract_all_features(image_id)\n",
    "            \n",
    "            # Add class labels\n",
    "            features['bug_type'] = row['bug type']\n",
    "            if 'species' in row:\n",
    "                features['species'] = row['species']\n",
    "            \n",
    "            all_features.append(features)\n",
    "            \n",
    "        except Exception as e:\n",
    "            print(f\"Error processing image {image_id}: {e}\")\n",
    "            default_features = create_default_features(image_id)\n",
    "            default_features['bug_type'] = row['bug type']\n",
    "            if 'species' in row:\n",
    "                default_features['species'] = row['species']\n",
    "            all_features.append(default_features)\n",
    "    \n",
    "    return pd.DataFrame(all_features)\n",
    "\n",
    "if __name__ == \"__main__\":\n",
    "    print(\"=== Starting feature extraction ===\")\n",
    "    \n",
    "    # Create output directories\n",
    "    os.makedirs(\"cleaned_samples\", exist_ok=True)\n",
    "    os.makedirs(\"visual_inspection\", exist_ok=True)\n",
    "    os.makedirs(\"visual_symmetry\", exist_ok=True)\n",
    "    \n",
    "    try:\n",
    "        # Load data\n",
    "        classification_df = load_classification_data()\n",
    "        \n",
    "        # Feature extraction\n",
    "        print(\"Extracting features...\")\n",
    "        features_df = extract_features_for_all_images(classification_df)\n",
    "        \n",
    "        if features_df.empty:\n",
    "            raise ValueError(\"No features extracted!\")\n",
    "        \n",
    "        print(f\"Features extracted for {len(features_df)} images\")\n",
    "        print(f\"Columns: {list(features_df.columns)}\")\n",
    "        \n",
    "        # Check symmetry angle\n",
    "        if 'symmetry_angle' in features_df.columns:\n",
    "            print(f\"Symmetry angles - Min: {features_df['symmetry_angle'].min():.2f}°, Max: {features_df['symmetry_angle'].max():.2f}°\")\n",
    "            print(f\"Images with non-zero angle: {sum(features_df['symmetry_angle'] != 0)}\")\n",
    "        \n",
    "        # Save raw features\n",
    "        features_df.to_csv(\"../features_raw.csv\", index=False)\n",
    "        print(\"Raw features saved to 'features_raw.csv'\")\n",
    "        \n",
    "        # Normalize\n",
    "        normalized_features_df, scaler = normalize_features(features_df)\n",
    "        normalized_features_df.to_csv(\"../features_normalized.csv\", index=False)\n",
    "        joblib.dump(scaler, \"scaler.pkl\")\n",
    "        print(\"Normalized features saved to 'features_normalized.csv'\")\n",
    "        \n",
    "        # Final statistics\n",
    "        print(f\"\\n=== SUMMARY ===\")\n",
    "        print(f\"Processed images: {len(normalized_features_df)}\")\n",
    "        print(f\"Features per image: {len([col for col in normalized_features_df.columns if col not in ['image_id', 'bug_type', 'species']])}\")\n",
    "        \n",
    "        if 'bug_type' in normalized_features_df.columns:\n",
    "            print(f\"\\nClass distribution:\")\n",
    "            print(normalized_features_df['bug_type'].value_counts())\n",
    "        \n",
    "        # Compliance verification\n",
    "        print(f\"\\n=== COMPLIANCE CHECK ===\")\n",
    "        \n",
    "        # I. Quality control\n",
    "        quality_files = len([f for f in os.listdir(\"cleaned_samples\") if f.startswith(\"quality_control_\")])\n",
    "        print(f\"✓ I. Quality control: {quality_files} visualizations in 'cleaned_samples/'\")\n",
    "        \n",
    "        # II. Best inscribed circle\n",
    "        circle_files = len([f for f in os.listdir(\"visual_inspection\") if f.startswith(\"inscribed_circle_\")])\n",
    "        print(f\"✓ II. Best inscribed circle: {circle_files} visualizations in 'visual_inspection/'\")\n",
    "        \n",
    "        # III. Best symmetry plane\n",
    "        symmetry_files = len([f for f in os.listdir(\"visual_symmetry\") if f.startswith(\"symmetry_plane_\")])\n",
    "        print(f\"✓ III. Best symmetry plane: {symmetry_files} visualizations in 'visual_symmetry/'\")\n",
    "        \n",
    "        # IV. Features extraction\n",
    "        print(f\"✓ IV. Features extraction: {len(normalized_features_df)} feature sets\")\n",
    "        \n",
    "        # Verify symmetry angle calculation\n",
    "        if 'symmetry_angle' in features_df.columns:\n",
    "            non_zero_angles = sum(abs(features_df['symmetry_angle']) > 0.1)\n",
    "            print(f\"✓ Symmetry angles calculated: {non_zero_angles}/{len(features_df)} with significant angle\")\n",
    "            \n",
    "            if non_zero_angles == 0:\n",
    "                print(\"⚠️  WARNING: All symmetry angles are 0°. Check implementation.\")\n",
    "        \n",
    "        print(f\"\\n=== EXTRACTION COMPLETED SUCCESSFULLY ===\")\n",
    "        print(f\"Generated files:\")\n",
    "        print(f\"- features_raw.csv: raw features\")\n",
    "        print(f\"- features_normalized.csv: normalized features\")\n",
    "        print(f\"- scaler.pkl: normalization object\")\n",
    "        print(f\"- cleaned_samples/: cleaning visualizations\")\n",
    "        print(f\"- visual_inspection/: inscribed circle visualizations\")\n",
    "        print(f\"- visual_symmetry/: symmetry plane visualizations\")\n",
    "        \n",
    "    except Exception as e:\n",
    "        print(f\"General error: {e}\")\n",
    "        import traceback\n",
    "        traceback.print_exc()\n",
    "\n",
    "def analyze_extracted_features():\n",
    "    \"\"\"IV. Represent the associated values in a 2D space. Comment.\"\"\"\n",
    "    try:\n",
    "        # Load normalized data\n",
    "        if not os.path.exists(\"../features_normalized.csv\"):\n",
    "            print(\"Please run feature extraction first\")\n",
    "            return\n",
    "        \n",
    "        df = pd.read_csv(\"../features_normalized.csv\")\n",
    "        \n",
    "        # Separate features from labels\n",
    "        feature_cols = [col for col in df.columns if col not in ['image_id', 'bug_type', 'species']]\n",
    "        X = df[feature_cols].values\n",
    "        \n",
    "        if 'bug_type' in df.columns:\n",
    "            y = df['bug_type']\n",
    "        else:\n",
    "            y = None\n",
    "        \n",
    "        print(f\"Analyzing {len(feature_cols)} features across {len(df)} images\")\n",
    "        \n",
    "        # Create 2D visualizations\n",
    "        fig, axes = plt.subplots(2, 2, figsize=(15, 12))\n",
    "        \n",
    "        # 1. PCA\n",
    "        pca = PCA(n_components=2)\n",
    "        X_pca = pca.fit_transform(X)\n",
    "        \n",
    "        if y is not None:\n",
    "            scatter = axes[0,0].scatter(X_pca[:, 0], X_pca[:, 1], c=y.astype('category').cat.codes, cmap='viridis', alpha=0.7)\n",
    "            axes[0,0].set_title(f'PCA (Explained variance: {pca.explained_variance_ratio_.sum():.3f})')\n",
    "        else:\n",
    "            axes[0,0].scatter(X_pca[:, 0], X_pca[:, 1], alpha=0.7)\n",
    "            axes[0,0].set_title('PCA')\n",
    "        axes[0,0].set_xlabel(f'PC1 ({pca.explained_variance_ratio_[0]:.3f})')\n",
    "        axes[0,0].set_ylabel(f'PC2 ({pca.explained_variance_ratio_[1]:.3f})')\n",
    "        \n",
    "        # 2. t-SNE\n",
    "        try:\n",
    "            tsne = TSNE(n_components=2, random_state=42, perplexity=min(30, len(df)//4))\n",
    "            X_tsne = tsne.fit_transform(X)\n",
    "            \n",
    "            if y is not None:\n",
    "                axes[0,1].scatter(X_tsne[:, 0], X_tsne[:, 1], c=y.astype('category').cat.codes, cmap='viridis', alpha=0.7)\n",
    "            else:\n",
    "                axes[0,1].scatter(X_tsne[:, 0], X_tsne[:, 1], alpha=0.7)\n",
    "            axes[0,1].set_title('t-SNE')\n",
    "            axes[0,1].set_xlabel('t-SNE 1')\n",
    "            axes[0,1].set_ylabel('t-SNE 2')\n",
    "        except Exception as e:\n",
    "            axes[0,1].text(0.5, 0.5, f't-SNE error: {str(e)[:50]}...', ha='center', va='center')\n",
    "            axes[0,1].set_title('t-SNE (Error)')\n",
    "        \n",
    "        # 3. Specific geometric features\n",
    "        if 'max_inscribed_radius' in df.columns and 'symmetry_angle' in df.columns:\n",
    "            if y is not None:\n",
    "                scatter = axes[1,0].scatter(df['max_inscribed_radius'], df['symmetry_angle'], \n",
    "                                         c=y.astype('category').cat.codes, cmap='viridis', alpha=0.7)\n",
    "            else:\n",
    "                axes[1,0].scatter(df['max_inscribed_radius'], df['symmetry_angle'], alpha=0.7)\n",
    "            axes[1,0].set_xlabel('Inscribed circle radius (normalized)')\n",
    "            axes[1,0].set_ylabel('Symmetry angle (normalized)')\n",
    "            axes[1,0].set_title('Geometric features')\n",
    "        \n",
    "        # 4. Shape features\n",
    "        if 'aspect_ratio' in df.columns and 'solidity' in df.columns:\n",
    "            if y is not None:\n",
    "                scatter = axes[1,1].scatter(df['aspect_ratio'], df['solidity'], \n",
    "                                         c=y.astype('category').cat.codes, cmap='viridis', alpha=0.7)\n",
    "            else:\n",
    "                axes[1,1].scatter(df['aspect_ratio'], df['solidity'], alpha=0.7)\n",
    "            axes[1,1].set_xlabel('Aspect ratio (normalized)')\n",
    "            axes[1,1].set_ylabel('Solidity (normalized)')\n",
    "            axes[1,1].set_title('Shape features')\n",
    "        \n",
    "        # Add legend if we have classes\n",
    "        if y is not None and len(y.unique()) <= 10:\n",
    "            handles = [plt.Line2D([0], [0], marker='o', color='w', \n",
    "                                markerfacecolor=plt.cm.viridis(i/len(y.unique())), \n",
    "                                markersize=8, label=label) \n",
    "                      for i, label in enumerate(sorted(y.unique()))]\n",
    "            fig.legend(handles, sorted(y.unique()), loc='center right', bbox_to_anchor=(1.15, 0.5))\n",
    "        \n",
    "        plt.tight_layout()\n",
    "        plt.savefig(\"features_2d_analysis.png\", dpi=150, bbox_inches='tight')\n",
    "        plt.close()\n",
    "        \n",
    "        print(\"2D analysis saved to 'features_2d_analysis.png'\")\n",
    "        \n",
    "        # Statistical analysis\n",
    "        print(f\"\\n=== FEATURE ANALYSIS COMMENTS ===\")\n",
    "        \n",
    "        if y is not None:\n",
    "            print(f\"Number of classes: {len(y.unique())}\")\n",
    "            print(f\"Classes: {sorted(y.unique())}\")\n",
    "            \n",
    "            # Estimate separability\n",
    "            from sklearn.model_selection import cross_val_score\n",
    "            from sklearn.linear_model import LogisticRegression\n",
    "            \n",
    "            try:\n",
    "                clf = LogisticRegression(max_iter=1000, random_state=42)\n",
    "                scores = cross_val_score(clf, X, y, cv=5, scoring='accuracy')\n",
    "                print(f\"Estimated separability (cross-validation accuracy): {scores.mean():.3f} ± {scores.std():.3f}\")\n",
    "                \n",
    "                if scores.mean() > 0.7:\n",
    "                    print(\"✓ Features appear discriminative for separating classes\")\n",
    "                elif scores.mean() > 0.5:\n",
    "                    print(\"⚠️  Features show moderate separability\")\n",
    "                else:\n",
    "                    print(\"❌ Current features don't appear very discriminative\")\n",
    "                    \n",
    "            except Exception as e:\n",
    "                print(f\"Could not calculate separability: {e}\")\n",
    "        \n",
    "        # Feature importance analysis\n",
    "        print(f\"\\nFeatures with highest variance:\")\n",
    "        feature_vars = np.var(X, axis=0)\n",
    "        top_features_idx = np.argsort(feature_vars)[-5:]\n",
    "        for idx in reversed(top_features_idx):\n",
    "            print(f\"- {feature_cols[idx]}: variance = {feature_vars[idx]:.3f}\")\n",
    "        \n",
    "        return df\n",
    "        \n",
    "    except Exception as e:\n",
    "        print(f\"Analysis error: {e}\")\n",
    "        import traceback\n",
    "        traceback.print_exc()"
   ]
  }
 ],
 "metadata": {
  "kernelspec": {
   "display_name": "base",
   "language": "python",
   "name": "python3"
  },
  "language_info": {
   "codemirror_mode": {
    "name": "ipython",
    "version": 3
   },
   "file_extension": ".py",
   "mimetype": "text/x-python",
   "name": "python",
   "nbconvert_exporter": "python",
   "pygments_lexer": "ipython3",
   "version": "3.11.5"
  }
 },
 "nbformat": 4,
 "nbformat_minor": 5
}
